{
 "cells": [
  {
   "cell_type": "markdown",
   "metadata": {},
   "source": [
    "## Importing the necessary libraries"
   ]
  },
  {
   "cell_type": "code",
   "execution_count": 1,
   "metadata": {},
   "outputs": [],
   "source": [
    "import pandas as pd\n",
    "import numpy as np\n",
    "import math\n",
    "import matplotlib.pyplot as plt\n",
    "\n",
    "from textblob import TextBlob\n",
    "from sklearn.metrics import accuracy_score"
   ]
  },
  {
   "cell_type": "markdown",
   "metadata": {},
   "source": [
    "## Reading in the cleaned corpus"
   ]
  },
  {
   "cell_type": "code",
   "execution_count": 2,
   "metadata": {},
   "outputs": [],
   "source": [
    "# Loading and formating dataframe\n",
    "df = pd.read_csv(\"data_sentiment.csv\")\n",
    "df[\"Date\"] = pd.to_datetime(df[\"Date\"])\n",
    "df[\"Review\"] = df[\"Review\"].apply(str)\n",
    "\n",
    "# reviews = pd.read_csv(\"./classified_data.csv\")"
   ]
  },
  {
   "cell_type": "markdown",
   "metadata": {},
   "source": [
    "# Getting a DataFrame of reviews by restaurants"
   ]
  },
  {
   "cell_type": "code",
   "execution_count": null,
   "metadata": {},
   "outputs": [],
   "source": [
    "# To get unique restaurant names\n",
    "restaurant_names = []\n",
    "for rest in reviews[\"Restaurant\"]: # each restaurant name\n",
    "    if rest not in restaurant_names: \n",
    "        restaurant_names.append(rest)\n",
    "\n",
    "print(len(restaurant_names)) # number of restaurants"
   ]
  },
  {
   "cell_type": "code",
   "execution_count": null,
   "metadata": {},
   "outputs": [],
   "source": [
    "# To get restaurant name and respective reviews (separately including date)\n",
    "reviewsByRestaurant = dict.fromkeys(restaurant_names, \"\")\n",
    "for rest in restaurant_names: \n",
    "    filtered= []\n",
    "    reviewsByRestaurant[rest] = [] # to contain a list of sentences for that restaurant    \n",
    "    filtered = reviews[reviews['Restaurant'] == rest]\n",
    "    for i in range(len(filtered)): \n",
    "        review_info = {} # to contain key value pairs of label: sentence, date: date\n",
    "        review_info['Review'] = filtered.iloc[i]['Review_clean']\n",
    "        review_info['Date'] = pd.to_datetime(filtered.iloc[i]['Date'])\n",
    "        review_info['Label'] = filtered.iloc[i]['Label']\n",
    "        review_info['Stars'] = filtered.iloc[i]['Stars']\n",
    "        reviewsByRestaurant[rest].append(review_info)\n",
    "\n",
    "print(reviewsByRestaurant)"
   ]
  },
  {
   "cell_type": "code",
   "execution_count": null,
   "metadata": {},
   "outputs": [],
   "source": [
    "# To get df of restaurant and labels with date\n",
    "rows = []\n",
    "\n",
    "for rest in restaurant_names:\n",
    "    for review_info in reviewsByRestaurant[rest]:\n",
    "        review_info['Restaurant'] = rest\n",
    "        rows.append(review_info)\n",
    "\n",
    "df = pd.DataFrame(rows)\n",
    "df = df[['Restaurant', 'Review', 'Date', 'Label', 'Stars']]\n",
    "\n",
    "df.head()"
   ]
  },
  {
   "cell_type": "code",
   "execution_count": 232,
   "metadata": {},
   "outputs": [
    {
     "data": {
      "text/plain": [
       "Restaurant            object\n",
       "Review                object\n",
       "Date          datetime64[ns]\n",
       "Label                  int64\n",
       "Stars                  int64\n",
       "dtype: object"
      ]
     },
     "execution_count": 232,
     "metadata": {},
     "output_type": "execute_result"
    }
   ],
   "source": [
    "# Checking datatype for each column\n",
    "df.dtypes"
   ]
  },
  {
   "cell_type": "code",
   "execution_count": 102,
   "metadata": {},
   "outputs": [
    {
     "data": {
      "text/html": [
       "<div>\n",
       "<style scoped>\n",
       "    .dataframe tbody tr th:only-of-type {\n",
       "        vertical-align: middle;\n",
       "    }\n",
       "\n",
       "    .dataframe tbody tr th {\n",
       "        vertical-align: top;\n",
       "    }\n",
       "\n",
       "    .dataframe thead th {\n",
       "        text-align: right;\n",
       "    }\n",
       "</style>\n",
       "<table border=\"1\" class=\"dataframe\">\n",
       "  <thead>\n",
       "    <tr style=\"text-align: right;\">\n",
       "      <th></th>\n",
       "      <th>Restaurant</th>\n",
       "      <th>Review</th>\n",
       "      <th>Date</th>\n",
       "      <th>Label</th>\n",
       "      <th>Stars</th>\n",
       "    </tr>\n",
       "  </thead>\n",
       "  <tbody>\n",
       "    <tr>\n",
       "      <th>0</th>\n",
       "      <td>Happy Tummy</td>\n",
       "      <td>fresh ingredient friendly peep and so much che...</td>\n",
       "      <td>2016-04-06</td>\n",
       "      <td>1</td>\n",
       "      <td>5</td>\n",
       "    </tr>\n",
       "    <tr>\n",
       "      <th>1</th>\n",
       "      <td>Cibo Italiano</td>\n",
       "      <td>a small selection of italian wine by the glass...</td>\n",
       "      <td>2015-12-24</td>\n",
       "      <td>1</td>\n",
       "      <td>4</td>\n",
       "    </tr>\n",
       "    <tr>\n",
       "      <th>2</th>\n",
       "      <td>Cibo Italiano</td>\n",
       "      <td>cultural relevant singaporean cuisine in very ...</td>\n",
       "      <td>2018-08-19</td>\n",
       "      <td>4</td>\n",
       "      <td>5</td>\n",
       "    </tr>\n",
       "    <tr>\n",
       "      <th>3</th>\n",
       "      <td>Cibo Italiano</td>\n",
       "      <td>generous with the clam</td>\n",
       "      <td>2016-11-28</td>\n",
       "      <td>1</td>\n",
       "      <td>5</td>\n",
       "    </tr>\n",
       "    <tr>\n",
       "      <th>4</th>\n",
       "      <td>Yan kee Noodle House</td>\n",
       "      <td>the plus point is that the price remains the s...</td>\n",
       "      <td>2018-12-28</td>\n",
       "      <td>1</td>\n",
       "      <td>4</td>\n",
       "    </tr>\n",
       "  </tbody>\n",
       "</table>\n",
       "</div>"
      ],
      "text/plain": [
       "             Restaurant                                             Review  \\\n",
       "0           Happy Tummy  fresh ingredient friendly peep and so much che...   \n",
       "1         Cibo Italiano  a small selection of italian wine by the glass...   \n",
       "2         Cibo Italiano  cultural relevant singaporean cuisine in very ...   \n",
       "3         Cibo Italiano                             generous with the clam   \n",
       "4  Yan kee Noodle House  the plus point is that the price remains the s...   \n",
       "\n",
       "        Date  Label  Stars  \n",
       "0 2016-04-06      1      5  \n",
       "1 2015-12-24      1      4  \n",
       "2 2018-08-19      4      5  \n",
       "3 2016-11-28      1      5  \n",
       "4 2018-12-28      1      4  "
      ]
     },
     "execution_count": 102,
     "metadata": {},
     "output_type": "execute_result"
    }
   ],
   "source": [
    "# Viewing dataset\n",
    "df.head()"
   ]
  },
  {
   "cell_type": "code",
   "execution_count": 502,
   "metadata": {},
   "outputs": [
    {
     "data": {
      "text/plain": [
       "(1926, 9)"
      ]
     },
     "execution_count": 502,
     "metadata": {},
     "output_type": "execute_result"
    }
   ],
   "source": [
    "# Viewing specifications of dataset\n",
    "df.shape"
   ]
  },
  {
   "cell_type": "markdown",
   "metadata": {},
   "source": [
    "# Sentiment Analysis"
   ]
  },
  {
   "cell_type": "code",
   "execution_count": 3,
   "metadata": {},
   "outputs": [],
   "source": [
    "from textblob import TextBlob\n",
    "import numpy as np\n",
    "import math\n",
    "from sklearn.metrics import accuracy_score"
   ]
  },
  {
   "cell_type": "code",
   "execution_count": 4,
   "metadata": {},
   "outputs": [],
   "source": [
    "# Sentiment polarity analysis for each review\n",
    "df[\"sentiment_polarity\"] = df.apply (lambda row: TextBlob(row[1]).sentiment.polarity, axis=1)"
   ]
  },
  {
   "cell_type": "code",
   "execution_count": 5,
   "metadata": {},
   "outputs": [
    {
     "data": {
      "text/html": [
       "<div>\n",
       "<style scoped>\n",
       "    .dataframe tbody tr th:only-of-type {\n",
       "        vertical-align: middle;\n",
       "    }\n",
       "\n",
       "    .dataframe tbody tr th {\n",
       "        vertical-align: top;\n",
       "    }\n",
       "\n",
       "    .dataframe thead th {\n",
       "        text-align: right;\n",
       "    }\n",
       "</style>\n",
       "<table border=\"1\" class=\"dataframe\">\n",
       "  <thead>\n",
       "    <tr style=\"text-align: right;\">\n",
       "      <th></th>\n",
       "      <th>Restaurant</th>\n",
       "      <th>Review</th>\n",
       "      <th>Date</th>\n",
       "      <th>Label</th>\n",
       "      <th>Stars</th>\n",
       "      <th>sentiment_polarity</th>\n",
       "    </tr>\n",
       "  </thead>\n",
       "  <tbody>\n",
       "    <tr>\n",
       "      <th>0</th>\n",
       "      <td>Happy Tummy</td>\n",
       "      <td>fresh ingredient friendly peep and so much che...</td>\n",
       "      <td>2016-04-06</td>\n",
       "      <td>1</td>\n",
       "      <td>5</td>\n",
       "      <td>0.000714</td>\n",
       "    </tr>\n",
       "    <tr>\n",
       "      <th>1</th>\n",
       "      <td>Cibo Italiano</td>\n",
       "      <td>a small selection of italian wine by the glass...</td>\n",
       "      <td>2015-12-24</td>\n",
       "      <td>1</td>\n",
       "      <td>4</td>\n",
       "      <td>0.150000</td>\n",
       "    </tr>\n",
       "    <tr>\n",
       "      <th>2</th>\n",
       "      <td>Cibo Italiano</td>\n",
       "      <td>cultural relevant singaporean cuisine in very ...</td>\n",
       "      <td>2018-08-19</td>\n",
       "      <td>4</td>\n",
       "      <td>5</td>\n",
       "      <td>0.263750</td>\n",
       "    </tr>\n",
       "    <tr>\n",
       "      <th>3</th>\n",
       "      <td>Cibo Italiano</td>\n",
       "      <td>generous with the clam</td>\n",
       "      <td>2016-11-28</td>\n",
       "      <td>1</td>\n",
       "      <td>5</td>\n",
       "      <td>0.000000</td>\n",
       "    </tr>\n",
       "    <tr>\n",
       "      <th>4</th>\n",
       "      <td>Yan kee Noodle House</td>\n",
       "      <td>the plus point is that the price remains the s...</td>\n",
       "      <td>2018-12-28</td>\n",
       "      <td>1</td>\n",
       "      <td>4</td>\n",
       "      <td>0.000000</td>\n",
       "    </tr>\n",
       "  </tbody>\n",
       "</table>\n",
       "</div>"
      ],
      "text/plain": [
       "             Restaurant                                             Review  \\\n",
       "0           Happy Tummy  fresh ingredient friendly peep and so much che...   \n",
       "1         Cibo Italiano  a small selection of italian wine by the glass...   \n",
       "2         Cibo Italiano  cultural relevant singaporean cuisine in very ...   \n",
       "3         Cibo Italiano                             generous with the clam   \n",
       "4  Yan kee Noodle House  the plus point is that the price remains the s...   \n",
       "\n",
       "        Date  Label  Stars  sentiment_polarity  \n",
       "0 2016-04-06      1      5            0.000714  \n",
       "1 2015-12-24      1      4            0.150000  \n",
       "2 2018-08-19      4      5            0.263750  \n",
       "3 2016-11-28      1      5            0.000000  \n",
       "4 2018-12-28      1      4            0.000000  "
      ]
     },
     "execution_count": 5,
     "metadata": {},
     "output_type": "execute_result"
    }
   ],
   "source": [
    "# Viewing dataframe with sentiment scores\n",
    "df.head()"
   ]
  },
  {
   "cell_type": "code",
   "execution_count": 6,
   "metadata": {},
   "outputs": [],
   "source": [
    "# adjusting sentiment scores to [0 - 1] range\n",
    "def adj_sentiment(sentiment):\n",
    "    return ((sentiment + 1)/2)"
   ]
  },
  {
   "cell_type": "code",
   "execution_count": 7,
   "metadata": {},
   "outputs": [],
   "source": [
    "# adjusting sentiment\n",
    "df[\"adjusted_sentiment\"] = df.apply (lambda row: adj_sentiment(row[5]), axis=1)"
   ]
  },
  {
   "cell_type": "code",
   "execution_count": 8,
   "metadata": {},
   "outputs": [
    {
     "data": {
      "text/html": [
       "<div>\n",
       "<style scoped>\n",
       "    .dataframe tbody tr th:only-of-type {\n",
       "        vertical-align: middle;\n",
       "    }\n",
       "\n",
       "    .dataframe tbody tr th {\n",
       "        vertical-align: top;\n",
       "    }\n",
       "\n",
       "    .dataframe thead th {\n",
       "        text-align: right;\n",
       "    }\n",
       "</style>\n",
       "<table border=\"1\" class=\"dataframe\">\n",
       "  <thead>\n",
       "    <tr style=\"text-align: right;\">\n",
       "      <th></th>\n",
       "      <th>Restaurant</th>\n",
       "      <th>Review</th>\n",
       "      <th>Date</th>\n",
       "      <th>Label</th>\n",
       "      <th>Stars</th>\n",
       "      <th>sentiment_polarity</th>\n",
       "      <th>adjusted_sentiment</th>\n",
       "    </tr>\n",
       "  </thead>\n",
       "  <tbody>\n",
       "    <tr>\n",
       "      <th>0</th>\n",
       "      <td>Happy Tummy</td>\n",
       "      <td>fresh ingredient friendly peep and so much che...</td>\n",
       "      <td>2016-04-06</td>\n",
       "      <td>1</td>\n",
       "      <td>5</td>\n",
       "      <td>0.000714</td>\n",
       "      <td>0.500357</td>\n",
       "    </tr>\n",
       "    <tr>\n",
       "      <th>1</th>\n",
       "      <td>Cibo Italiano</td>\n",
       "      <td>a small selection of italian wine by the glass...</td>\n",
       "      <td>2015-12-24</td>\n",
       "      <td>1</td>\n",
       "      <td>4</td>\n",
       "      <td>0.150000</td>\n",
       "      <td>0.575000</td>\n",
       "    </tr>\n",
       "    <tr>\n",
       "      <th>2</th>\n",
       "      <td>Cibo Italiano</td>\n",
       "      <td>cultural relevant singaporean cuisine in very ...</td>\n",
       "      <td>2018-08-19</td>\n",
       "      <td>4</td>\n",
       "      <td>5</td>\n",
       "      <td>0.263750</td>\n",
       "      <td>0.631875</td>\n",
       "    </tr>\n",
       "    <tr>\n",
       "      <th>3</th>\n",
       "      <td>Cibo Italiano</td>\n",
       "      <td>generous with the clam</td>\n",
       "      <td>2016-11-28</td>\n",
       "      <td>1</td>\n",
       "      <td>5</td>\n",
       "      <td>0.000000</td>\n",
       "      <td>0.500000</td>\n",
       "    </tr>\n",
       "    <tr>\n",
       "      <th>4</th>\n",
       "      <td>Yan kee Noodle House</td>\n",
       "      <td>the plus point is that the price remains the s...</td>\n",
       "      <td>2018-12-28</td>\n",
       "      <td>1</td>\n",
       "      <td>4</td>\n",
       "      <td>0.000000</td>\n",
       "      <td>0.500000</td>\n",
       "    </tr>\n",
       "  </tbody>\n",
       "</table>\n",
       "</div>"
      ],
      "text/plain": [
       "             Restaurant                                             Review  \\\n",
       "0           Happy Tummy  fresh ingredient friendly peep and so much che...   \n",
       "1         Cibo Italiano  a small selection of italian wine by the glass...   \n",
       "2         Cibo Italiano  cultural relevant singaporean cuisine in very ...   \n",
       "3         Cibo Italiano                             generous with the clam   \n",
       "4  Yan kee Noodle House  the plus point is that the price remains the s...   \n",
       "\n",
       "        Date  Label  Stars  sentiment_polarity  adjusted_sentiment  \n",
       "0 2016-04-06      1      5            0.000714            0.500357  \n",
       "1 2015-12-24      1      4            0.150000            0.575000  \n",
       "2 2018-08-19      4      5            0.263750            0.631875  \n",
       "3 2016-11-28      1      5            0.000000            0.500000  \n",
       "4 2018-12-28      1      4            0.000000            0.500000  "
      ]
     },
     "execution_count": 8,
     "metadata": {},
     "output_type": "execute_result"
    }
   ],
   "source": [
    "# Viewing daataframe with sentiment scores\n",
    "df.head()"
   ]
  },
  {
   "cell_type": "markdown",
   "metadata": {},
   "source": [
    "# Creating Date weights"
   ]
  },
  {
   "cell_type": "code",
   "execution_count": 9,
   "metadata": {},
   "outputs": [
    {
     "data": {
      "text/plain": [
       "(1926, 7)"
      ]
     },
     "execution_count": 9,
     "metadata": {},
     "output_type": "execute_result"
    }
   ],
   "source": [
    "df.shape"
   ]
  },
  {
   "cell_type": "code",
   "execution_count": 10,
   "metadata": {},
   "outputs": [
    {
     "data": {
      "text/plain": [
       "1926"
      ]
     },
     "execution_count": 10,
     "metadata": {},
     "output_type": "execute_result"
    }
   ],
   "source": [
    "df = df.sort_values(['Restaurant', 'Label'])\n",
    "tmp = df.groupby(['Restaurant', 'Label']).size()\n",
    "rank_range = tmp.map(range)\n",
    "rank =[(item +1) for sublist in rank_range for item in sublist]\n",
    "len(rank)"
   ]
  },
  {
   "cell_type": "code",
   "execution_count": 11,
   "metadata": {},
   "outputs": [],
   "source": [
    "# Creating variable with difference between base date and date\n",
    "df[\"weights\"] = [1/x for x in rank]"
   ]
  },
  {
   "cell_type": "code",
   "execution_count": 12,
   "metadata": {},
   "outputs": [
    {
     "data": {
      "text/html": [
       "<div>\n",
       "<style scoped>\n",
       "    .dataframe tbody tr th:only-of-type {\n",
       "        vertical-align: middle;\n",
       "    }\n",
       "\n",
       "    .dataframe tbody tr th {\n",
       "        vertical-align: top;\n",
       "    }\n",
       "\n",
       "    .dataframe thead th {\n",
       "        text-align: right;\n",
       "    }\n",
       "</style>\n",
       "<table border=\"1\" class=\"dataframe\">\n",
       "  <thead>\n",
       "    <tr style=\"text-align: right;\">\n",
       "      <th></th>\n",
       "      <th>Restaurant</th>\n",
       "      <th>Review</th>\n",
       "      <th>Date</th>\n",
       "      <th>Label</th>\n",
       "      <th>Stars</th>\n",
       "      <th>sentiment_polarity</th>\n",
       "      <th>adjusted_sentiment</th>\n",
       "      <th>weights</th>\n",
       "    </tr>\n",
       "  </thead>\n",
       "  <tbody>\n",
       "    <tr>\n",
       "      <th>293</th>\n",
       "      <td>10 at Claymore</td>\n",
       "      <td>they had a small but good selection of dessert</td>\n",
       "      <td>2017-03-25</td>\n",
       "      <td>1</td>\n",
       "      <td>4</td>\n",
       "      <td>0.225000</td>\n",
       "      <td>0.612500</td>\n",
       "      <td>1.000000</td>\n",
       "    </tr>\n",
       "    <tr>\n",
       "      <th>294</th>\n",
       "      <td>10 at Claymore</td>\n",
       "      <td>and expensive tea you know the kind where the ...</td>\n",
       "      <td>2014-10-02</td>\n",
       "      <td>1</td>\n",
       "      <td>4</td>\n",
       "      <td>0.050000</td>\n",
       "      <td>0.525000</td>\n",
       "      <td>0.500000</td>\n",
       "    </tr>\n",
       "    <tr>\n",
       "      <th>295</th>\n",
       "      <td>10 at Claymore</td>\n",
       "      <td>freshly made piping hot and generous filling n...</td>\n",
       "      <td>2014-10-02</td>\n",
       "      <td>2</td>\n",
       "      <td>4</td>\n",
       "      <td>0.400000</td>\n",
       "      <td>0.700000</td>\n",
       "      <td>1.000000</td>\n",
       "    </tr>\n",
       "    <tr>\n",
       "      <th>297</th>\n",
       "      <td>10 at Claymore</td>\n",
       "      <td>the perfectly cooked meat gave way to a moist ...</td>\n",
       "      <td>2013-04-18</td>\n",
       "      <td>2</td>\n",
       "      <td>4</td>\n",
       "      <td>0.364416</td>\n",
       "      <td>0.682208</td>\n",
       "      <td>0.500000</td>\n",
       "    </tr>\n",
       "    <tr>\n",
       "      <th>298</th>\n",
       "      <td>10 at Claymore</td>\n",
       "      <td>i love their penang style prawn noodle that co...</td>\n",
       "      <td>2012-08-19</td>\n",
       "      <td>2</td>\n",
       "      <td>3</td>\n",
       "      <td>0.158333</td>\n",
       "      <td>0.579167</td>\n",
       "      <td>0.333333</td>\n",
       "    </tr>\n",
       "  </tbody>\n",
       "</table>\n",
       "</div>"
      ],
      "text/plain": [
       "         Restaurant                                             Review  \\\n",
       "293  10 at Claymore     they had a small but good selection of dessert   \n",
       "294  10 at Claymore  and expensive tea you know the kind where the ...   \n",
       "295  10 at Claymore  freshly made piping hot and generous filling n...   \n",
       "297  10 at Claymore  the perfectly cooked meat gave way to a moist ...   \n",
       "298  10 at Claymore  i love their penang style prawn noodle that co...   \n",
       "\n",
       "          Date  Label  Stars  sentiment_polarity  adjusted_sentiment   weights  \n",
       "293 2017-03-25      1      4            0.225000            0.612500  1.000000  \n",
       "294 2014-10-02      1      4            0.050000            0.525000  0.500000  \n",
       "295 2014-10-02      2      4            0.400000            0.700000  1.000000  \n",
       "297 2013-04-18      2      4            0.364416            0.682208  0.500000  \n",
       "298 2012-08-19      2      3            0.158333            0.579167  0.333333  "
      ]
     },
     "execution_count": 12,
     "metadata": {},
     "output_type": "execute_result"
    }
   ],
   "source": [
    "df.head()"
   ]
  },
  {
   "cell_type": "markdown",
   "metadata": {},
   "source": [
    "# Star Prediction for each Label"
   ]
  },
  {
   "cell_type": "code",
   "execution_count": 13,
   "metadata": {},
   "outputs": [],
   "source": [
    "# Creating recency weighted average grouped by \n",
    "def grouped_weighted_avg(values, weights, by):\n",
    "    return (values * weights).groupby(by).sum() / weights.groupby(by).sum()"
   ]
  },
  {
   "cell_type": "code",
   "execution_count": 14,
   "metadata": {},
   "outputs": [],
   "source": [
    "# Removing label 5 since it is not a preassigned class\n",
    "clean_data = df[df.Label != 5]"
   ]
  },
  {
   "cell_type": "code",
   "execution_count": 15,
   "metadata": {},
   "outputs": [
    {
     "name": "stderr",
     "output_type": "stream",
     "text": [
      "c:\\users\\seagate pc\\appdata\\local\\programs\\python\\python37\\lib\\site-packages\\ipykernel_launcher.py:3: FutureWarning: Interpreting tuple 'by' as a list of keys, rather than a single key. Use 'by=[...]' instead of 'by=(...)'. In the future, a tuple will always mean a single key.\n",
      "  This is separate from the ipykernel package so we can avoid doing imports until\n"
     ]
    }
   ],
   "source": [
    "# Calculating exponentially rencency weighted average of sentiment for eah label\n",
    "label_sentiment = grouped_weighted_avg(clean_data[\"adjusted_sentiment\"], clean_data[\"weights\"], (clean_data[\"Restaurant\"], clean_data[\"Label\"]))"
   ]
  },
  {
   "cell_type": "code",
   "execution_count": 16,
   "metadata": {},
   "outputs": [],
   "source": [
    "# Adjusting sentiment to fit [1,5]\n",
    "label_sentiment = label_sentiment.apply((lambda x: math.ceil(x*5)))"
   ]
  },
  {
   "cell_type": "code",
   "execution_count": 17,
   "metadata": {},
   "outputs": [
    {
     "data": {
      "text/plain": [
       "Restaurant        Label\n",
       "10 at Claymore    1        3\n",
       "                  2        4\n",
       "                  3        4\n",
       "126 Eating House  3        5\n",
       "2it & Drink       2        5\n",
       "dtype: int64"
      ]
     },
     "execution_count": 17,
     "metadata": {},
     "output_type": "execute_result"
    }
   ],
   "source": [
    "# Viewing the predicted stars for each predetermined aspect\n",
    "label_sentiment.head()"
   ]
  },
  {
   "cell_type": "code",
   "execution_count": 18,
   "metadata": {},
   "outputs": [
    {
     "data": {
      "text/plain": [
       "(824,)"
      ]
     },
     "execution_count": 18,
     "metadata": {},
     "output_type": "execute_result"
    }
   ],
   "source": [
    "# Viewing the shape of the dataframe\n",
    "label_sentiment.shape"
   ]
  },
  {
   "cell_type": "code",
   "execution_count": 19,
   "metadata": {},
   "outputs": [],
   "source": [
    "pred_label = []\n",
    "for x in label_sentiment:\n",
    "    pred_label.append(x)"
   ]
  },
  {
   "cell_type": "code",
   "execution_count": 20,
   "metadata": {},
   "outputs": [
    {
     "name": "stderr",
     "output_type": "stream",
     "text": [
      "c:\\users\\seagate pc\\appdata\\local\\programs\\python\\python37\\lib\\site-packages\\ipykernel_launcher.py:3: FutureWarning: Interpreting tuple 'by' as a list of keys, rather than a single key. Use 'by=[...]' instead of 'by=(...)'. In the future, a tuple will always mean a single key.\n",
      "  This is separate from the ipykernel package so we can avoid doing imports until\n"
     ]
    }
   ],
   "source": [
    "# Calculating exponentially rencency weighted average of stars for labels\n",
    "label_star = grouped_weighted_avg(clean_data[\"Stars\"], clean_data[\"weights\"], (clean_data[\"Restaurant\"], clean_data[\"Label\"]))"
   ]
  },
  {
   "cell_type": "code",
   "execution_count": 21,
   "metadata": {},
   "outputs": [],
   "source": [
    "label_star = label_star.apply((lambda x: math.ceil(x)))"
   ]
  },
  {
   "cell_type": "code",
   "execution_count": 22,
   "metadata": {},
   "outputs": [
    {
     "data": {
      "text/plain": [
       "Restaurant        Label\n",
       "10 at Claymore    1        4\n",
       "                  2        4\n",
       "                  3        5\n",
       "126 Eating House  3        4\n",
       "2it & Drink       2        5\n",
       "dtype: int64"
      ]
     },
     "execution_count": 22,
     "metadata": {},
     "output_type": "execute_result"
    }
   ],
   "source": [
    "label_star.head()"
   ]
  },
  {
   "cell_type": "code",
   "execution_count": 23,
   "metadata": {
    "scrolled": true
   },
   "outputs": [
    {
     "data": {
      "text/plain": [
       "(824,)"
      ]
     },
     "execution_count": 23,
     "metadata": {},
     "output_type": "execute_result"
    }
   ],
   "source": [
    "label_star.shape"
   ]
  },
  {
   "cell_type": "code",
   "execution_count": 24,
   "metadata": {},
   "outputs": [],
   "source": [
    "label_truth = []\n",
    "for x in label_star:\n",
    "    label_truth.append(x)"
   ]
  },
  {
   "cell_type": "code",
   "execution_count": 25,
   "metadata": {},
   "outputs": [
    {
     "data": {
      "text/plain": [
       "0.316747572815534"
      ]
     },
     "execution_count": 25,
     "metadata": {},
     "output_type": "execute_result"
    }
   ],
   "source": [
    "# Accuracy of sentiment predicted stars and the average stars for each label\n",
    "accuracy_score(label_truth, pred_label)"
   ]
  },
  {
   "cell_type": "markdown",
   "metadata": {},
   "source": [
    "# Overall Restaurant Star Prediction"
   ]
  },
  {
   "cell_type": "code",
   "execution_count": 44,
   "metadata": {},
   "outputs": [],
   "source": [
    "# Calculating exponentially rencency weighted average of sentiment overall\n",
    "overall_sentiment = grouped_weighted_avg(clean_data[\"adjusted_sentiment\"], clean_data[\"weights\"], (clean_data[\"Restaurant\"]))"
   ]
  },
  {
   "cell_type": "code",
   "execution_count": 45,
   "metadata": {},
   "outputs": [],
   "source": [
    "# Adjusting sentiment to fit [1,5]\n",
    "overall_sentiment = overall_sentiment.apply((lambda x: math.ceil(x*5)))"
   ]
  },
  {
   "cell_type": "code",
   "execution_count": 46,
   "metadata": {},
   "outputs": [
    {
     "data": {
      "text/plain": [
       "Restaurant\n",
       "10 at Claymore      4\n",
       "126 Eating House    5\n",
       "2it & Drink         5\n",
       "328 Katong Laksa    4\n",
       "8 Korean BBQ        4\n",
       "dtype: int64"
      ]
     },
     "execution_count": 46,
     "metadata": {},
     "output_type": "execute_result"
    }
   ],
   "source": [
    "overall_sentiment.head()"
   ]
  },
  {
   "cell_type": "code",
   "execution_count": 47,
   "metadata": {},
   "outputs": [],
   "source": [
    "pred_overall = []\n",
    "for x in overall_sentiment:\n",
    "    pred_overall.append(x)"
   ]
  },
  {
   "cell_type": "code",
   "execution_count": 48,
   "metadata": {},
   "outputs": [],
   "source": [
    "# Calculating exponentially rencency weighted average of star overall\n",
    "overall_star = grouped_weighted_avg(clean_data[\"Stars\"], clean_data[\"weights\"], (clean_data[\"Restaurant\"]))"
   ]
  },
  {
   "cell_type": "code",
   "execution_count": 49,
   "metadata": {},
   "outputs": [],
   "source": [
    "overall_star = overall_star.apply((lambda x: math.ceil(x)))"
   ]
  },
  {
   "cell_type": "code",
   "execution_count": 50,
   "metadata": {},
   "outputs": [
    {
     "data": {
      "text/plain": [
       "Restaurant\n",
       "10 at Claymore      5\n",
       "126 Eating House    4\n",
       "2it & Drink         5\n",
       "328 Katong Laksa    3\n",
       "8 Korean BBQ        4\n",
       "dtype: int64"
      ]
     },
     "execution_count": 50,
     "metadata": {},
     "output_type": "execute_result"
    }
   ],
   "source": [
    "overall_star.head()"
   ]
  },
  {
   "cell_type": "code",
   "execution_count": 51,
   "metadata": {},
   "outputs": [],
   "source": [
    "overall_truth = []\n",
    "for x in overall_star:\n",
    "    overall_truth.append(x)"
   ]
  },
  {
   "cell_type": "code",
   "execution_count": 52,
   "metadata": {},
   "outputs": [
    {
     "data": {
      "text/plain": [
       "0.2916666666666667"
      ]
     },
     "execution_count": 52,
     "metadata": {},
     "output_type": "execute_result"
    }
   ],
   "source": [
    "# Accuracy of sentiment predicted stars and the average stars overall\n",
    "accuracy_score(overall_truth, pred_overall)"
   ]
  }
 ],
 "metadata": {
  "kernelspec": {
   "display_name": "Python 3",
   "language": "python",
   "name": "python3"
  },
  "language_info": {
   "codemirror_mode": {
    "name": "ipython",
    "version": 3
   },
   "file_extension": ".py",
   "mimetype": "text/x-python",
   "name": "python",
   "nbconvert_exporter": "python",
   "pygments_lexer": "ipython3",
   "version": "3.7.0"
  }
 },
 "nbformat": 4,
 "nbformat_minor": 4
}
