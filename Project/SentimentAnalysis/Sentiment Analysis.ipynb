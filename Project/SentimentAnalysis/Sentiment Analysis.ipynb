{
 "cells": [
  {
   "cell_type": "code",
   "execution_count": 334,
   "metadata": {},
   "outputs": [],
   "source": [
    "import pandas as pd\n",
    "import numpy as np\n",
    "import math\n",
    "from sklearn.metrics import accuracy_score"
   ]
  },
  {
   "cell_type": "code",
   "execution_count": 343,
   "metadata": {},
   "outputs": [],
   "source": [
    "df = pd.read_csv(\"data_sentiment.csv\")\n",
    "df[\"Date\"] = pd.to_datetime(df[\"Date\"])\n",
    "df[\"Review\"] = df[\"Review\"].apply(str)"
   ]
  },
  {
   "cell_type": "code",
   "execution_count": 232,
   "metadata": {},
   "outputs": [
    {
     "data": {
      "text/plain": [
       "Restaurant            object\n",
       "Review                object\n",
       "Date          datetime64[ns]\n",
       "Label                  int64\n",
       "Stars                  int64\n",
       "dtype: object"
      ]
     },
     "execution_count": 232,
     "metadata": {},
     "output_type": "execute_result"
    }
   ],
   "source": [
    "df.dtypes"
   ]
  },
  {
   "cell_type": "code",
   "execution_count": 234,
   "metadata": {},
   "outputs": [
    {
     "data": {
      "text/plain": [
       "True"
      ]
     },
     "execution_count": 234,
     "metadata": {},
     "output_type": "execute_result"
    }
   ],
   "source": [
    "df[\"Label\"][1] == df[\"Label\"][3]"
   ]
  },
  {
   "cell_type": "code",
   "execution_count": 102,
   "metadata": {},
   "outputs": [
    {
     "data": {
      "text/html": [
       "<div>\n",
       "<style scoped>\n",
       "    .dataframe tbody tr th:only-of-type {\n",
       "        vertical-align: middle;\n",
       "    }\n",
       "\n",
       "    .dataframe tbody tr th {\n",
       "        vertical-align: top;\n",
       "    }\n",
       "\n",
       "    .dataframe thead th {\n",
       "        text-align: right;\n",
       "    }\n",
       "</style>\n",
       "<table border=\"1\" class=\"dataframe\">\n",
       "  <thead>\n",
       "    <tr style=\"text-align: right;\">\n",
       "      <th></th>\n",
       "      <th>Restaurant</th>\n",
       "      <th>Review</th>\n",
       "      <th>Date</th>\n",
       "      <th>Label</th>\n",
       "      <th>Stars</th>\n",
       "    </tr>\n",
       "  </thead>\n",
       "  <tbody>\n",
       "    <tr>\n",
       "      <th>0</th>\n",
       "      <td>Happy Tummy</td>\n",
       "      <td>fresh ingredient friendly peep and so much che...</td>\n",
       "      <td>2016-04-06</td>\n",
       "      <td>1</td>\n",
       "      <td>5</td>\n",
       "    </tr>\n",
       "    <tr>\n",
       "      <th>1</th>\n",
       "      <td>Cibo Italiano</td>\n",
       "      <td>a small selection of italian wine by the glass...</td>\n",
       "      <td>2015-12-24</td>\n",
       "      <td>1</td>\n",
       "      <td>4</td>\n",
       "    </tr>\n",
       "    <tr>\n",
       "      <th>2</th>\n",
       "      <td>Cibo Italiano</td>\n",
       "      <td>cultural relevant singaporean cuisine in very ...</td>\n",
       "      <td>2018-08-19</td>\n",
       "      <td>4</td>\n",
       "      <td>5</td>\n",
       "    </tr>\n",
       "    <tr>\n",
       "      <th>3</th>\n",
       "      <td>Cibo Italiano</td>\n",
       "      <td>generous with the clam</td>\n",
       "      <td>2016-11-28</td>\n",
       "      <td>1</td>\n",
       "      <td>5</td>\n",
       "    </tr>\n",
       "    <tr>\n",
       "      <th>4</th>\n",
       "      <td>Yan kee Noodle House</td>\n",
       "      <td>the plus point is that the price remains the s...</td>\n",
       "      <td>2018-12-28</td>\n",
       "      <td>1</td>\n",
       "      <td>4</td>\n",
       "    </tr>\n",
       "  </tbody>\n",
       "</table>\n",
       "</div>"
      ],
      "text/plain": [
       "             Restaurant                                             Review  \\\n",
       "0           Happy Tummy  fresh ingredient friendly peep and so much che...   \n",
       "1         Cibo Italiano  a small selection of italian wine by the glass...   \n",
       "2         Cibo Italiano  cultural relevant singaporean cuisine in very ...   \n",
       "3         Cibo Italiano                             generous with the clam   \n",
       "4  Yan kee Noodle House  the plus point is that the price remains the s...   \n",
       "\n",
       "        Date  Label  Stars  \n",
       "0 2016-04-06      1      5  \n",
       "1 2015-12-24      1      4  \n",
       "2 2018-08-19      4      5  \n",
       "3 2016-11-28      1      5  \n",
       "4 2018-12-28      1      4  "
      ]
     },
     "execution_count": 102,
     "metadata": {},
     "output_type": "execute_result"
    }
   ],
   "source": [
    "df.head()"
   ]
  },
  {
   "cell_type": "markdown",
   "metadata": {},
   "source": [
    "# Sentiment Analysis"
   ]
  },
  {
   "cell_type": "code",
   "execution_count": 103,
   "metadata": {},
   "outputs": [],
   "source": [
    "from textblob import TextBlob"
   ]
  },
  {
   "cell_type": "code",
   "execution_count": 113,
   "metadata": {},
   "outputs": [
    {
     "name": "stdout",
     "output_type": "stream",
     "text": [
      "Restaurant\n"
     ]
    }
   ],
   "source": [
    "for row in df:\n",
    "    print(row)\n",
    "    break"
   ]
  },
  {
   "cell_type": "code",
   "execution_count": 344,
   "metadata": {},
   "outputs": [],
   "source": [
    "df[\"sentiment_polarity\"] = df.apply (lambda row: TextBlob(row[1]).sentiment.polarity, axis=1)"
   ]
  },
  {
   "cell_type": "code",
   "execution_count": 345,
   "metadata": {},
   "outputs": [
    {
     "data": {
      "text/html": [
       "<div>\n",
       "<style scoped>\n",
       "    .dataframe tbody tr th:only-of-type {\n",
       "        vertical-align: middle;\n",
       "    }\n",
       "\n",
       "    .dataframe tbody tr th {\n",
       "        vertical-align: top;\n",
       "    }\n",
       "\n",
       "    .dataframe thead th {\n",
       "        text-align: right;\n",
       "    }\n",
       "</style>\n",
       "<table border=\"1\" class=\"dataframe\">\n",
       "  <thead>\n",
       "    <tr style=\"text-align: right;\">\n",
       "      <th></th>\n",
       "      <th>Restaurant</th>\n",
       "      <th>Review</th>\n",
       "      <th>Date</th>\n",
       "      <th>Label</th>\n",
       "      <th>Stars</th>\n",
       "      <th>sentiment_polarity</th>\n",
       "    </tr>\n",
       "  </thead>\n",
       "  <tbody>\n",
       "    <tr>\n",
       "      <th>0</th>\n",
       "      <td>Happy Tummy</td>\n",
       "      <td>fresh ingredient friendly peep and so much che...</td>\n",
       "      <td>2016-04-06</td>\n",
       "      <td>1</td>\n",
       "      <td>5</td>\n",
       "      <td>0.000714</td>\n",
       "    </tr>\n",
       "    <tr>\n",
       "      <th>1</th>\n",
       "      <td>Cibo Italiano</td>\n",
       "      <td>a small selection of italian wine by the glass...</td>\n",
       "      <td>2015-12-24</td>\n",
       "      <td>1</td>\n",
       "      <td>4</td>\n",
       "      <td>0.150000</td>\n",
       "    </tr>\n",
       "    <tr>\n",
       "      <th>2</th>\n",
       "      <td>Cibo Italiano</td>\n",
       "      <td>cultural relevant singaporean cuisine in very ...</td>\n",
       "      <td>2018-08-19</td>\n",
       "      <td>4</td>\n",
       "      <td>5</td>\n",
       "      <td>0.263750</td>\n",
       "    </tr>\n",
       "    <tr>\n",
       "      <th>3</th>\n",
       "      <td>Cibo Italiano</td>\n",
       "      <td>generous with the clam</td>\n",
       "      <td>2016-11-28</td>\n",
       "      <td>1</td>\n",
       "      <td>5</td>\n",
       "      <td>0.000000</td>\n",
       "    </tr>\n",
       "    <tr>\n",
       "      <th>4</th>\n",
       "      <td>Yan kee Noodle House</td>\n",
       "      <td>the plus point is that the price remains the s...</td>\n",
       "      <td>2018-12-28</td>\n",
       "      <td>1</td>\n",
       "      <td>4</td>\n",
       "      <td>0.000000</td>\n",
       "    </tr>\n",
       "  </tbody>\n",
       "</table>\n",
       "</div>"
      ],
      "text/plain": [
       "             Restaurant                                             Review  \\\n",
       "0           Happy Tummy  fresh ingredient friendly peep and so much che...   \n",
       "1         Cibo Italiano  a small selection of italian wine by the glass...   \n",
       "2         Cibo Italiano  cultural relevant singaporean cuisine in very ...   \n",
       "3         Cibo Italiano                             generous with the clam   \n",
       "4  Yan kee Noodle House  the plus point is that the price remains the s...   \n",
       "\n",
       "        Date  Label  Stars  sentiment_polarity  \n",
       "0 2016-04-06      1      5            0.000714  \n",
       "1 2015-12-24      1      4            0.150000  \n",
       "2 2018-08-19      4      5            0.263750  \n",
       "3 2016-11-28      1      5            0.000000  \n",
       "4 2018-12-28      1      4            0.000000  "
      ]
     },
     "execution_count": 345,
     "metadata": {},
     "output_type": "execute_result"
    }
   ],
   "source": [
    "df.head()"
   ]
  },
  {
   "cell_type": "code",
   "execution_count": 346,
   "metadata": {},
   "outputs": [],
   "source": [
    "def adj_sentiment(sentiment):\n",
    "    return ((sentiment + 1)/2)"
   ]
  },
  {
   "cell_type": "code",
   "execution_count": 347,
   "metadata": {},
   "outputs": [],
   "source": [
    "df[\"adjusted_sentiment\"] = df.apply (lambda row: adj_sentiment(row[5]), axis=1)"
   ]
  },
  {
   "cell_type": "code",
   "execution_count": 348,
   "metadata": {},
   "outputs": [
    {
     "data": {
      "text/html": [
       "<div>\n",
       "<style scoped>\n",
       "    .dataframe tbody tr th:only-of-type {\n",
       "        vertical-align: middle;\n",
       "    }\n",
       "\n",
       "    .dataframe tbody tr th {\n",
       "        vertical-align: top;\n",
       "    }\n",
       "\n",
       "    .dataframe thead th {\n",
       "        text-align: right;\n",
       "    }\n",
       "</style>\n",
       "<table border=\"1\" class=\"dataframe\">\n",
       "  <thead>\n",
       "    <tr style=\"text-align: right;\">\n",
       "      <th></th>\n",
       "      <th>Restaurant</th>\n",
       "      <th>Review</th>\n",
       "      <th>Date</th>\n",
       "      <th>Label</th>\n",
       "      <th>Stars</th>\n",
       "      <th>sentiment_polarity</th>\n",
       "      <th>adjusted_sentiment</th>\n",
       "    </tr>\n",
       "  </thead>\n",
       "  <tbody>\n",
       "    <tr>\n",
       "      <th>0</th>\n",
       "      <td>Happy Tummy</td>\n",
       "      <td>fresh ingredient friendly peep and so much che...</td>\n",
       "      <td>2016-04-06</td>\n",
       "      <td>1</td>\n",
       "      <td>5</td>\n",
       "      <td>0.000714</td>\n",
       "      <td>0.500357</td>\n",
       "    </tr>\n",
       "    <tr>\n",
       "      <th>1</th>\n",
       "      <td>Cibo Italiano</td>\n",
       "      <td>a small selection of italian wine by the glass...</td>\n",
       "      <td>2015-12-24</td>\n",
       "      <td>1</td>\n",
       "      <td>4</td>\n",
       "      <td>0.150000</td>\n",
       "      <td>0.575000</td>\n",
       "    </tr>\n",
       "    <tr>\n",
       "      <th>2</th>\n",
       "      <td>Cibo Italiano</td>\n",
       "      <td>cultural relevant singaporean cuisine in very ...</td>\n",
       "      <td>2018-08-19</td>\n",
       "      <td>4</td>\n",
       "      <td>5</td>\n",
       "      <td>0.263750</td>\n",
       "      <td>0.631875</td>\n",
       "    </tr>\n",
       "    <tr>\n",
       "      <th>3</th>\n",
       "      <td>Cibo Italiano</td>\n",
       "      <td>generous with the clam</td>\n",
       "      <td>2016-11-28</td>\n",
       "      <td>1</td>\n",
       "      <td>5</td>\n",
       "      <td>0.000000</td>\n",
       "      <td>0.500000</td>\n",
       "    </tr>\n",
       "    <tr>\n",
       "      <th>4</th>\n",
       "      <td>Yan kee Noodle House</td>\n",
       "      <td>the plus point is that the price remains the s...</td>\n",
       "      <td>2018-12-28</td>\n",
       "      <td>1</td>\n",
       "      <td>4</td>\n",
       "      <td>0.000000</td>\n",
       "      <td>0.500000</td>\n",
       "    </tr>\n",
       "  </tbody>\n",
       "</table>\n",
       "</div>"
      ],
      "text/plain": [
       "             Restaurant                                             Review  \\\n",
       "0           Happy Tummy  fresh ingredient friendly peep and so much che...   \n",
       "1         Cibo Italiano  a small selection of italian wine by the glass...   \n",
       "2         Cibo Italiano  cultural relevant singaporean cuisine in very ...   \n",
       "3         Cibo Italiano                             generous with the clam   \n",
       "4  Yan kee Noodle House  the plus point is that the price remains the s...   \n",
       "\n",
       "        Date  Label  Stars  sentiment_polarity  adjusted_sentiment  \n",
       "0 2016-04-06      1      5            0.000714            0.500357  \n",
       "1 2015-12-24      1      4            0.150000            0.575000  \n",
       "2 2018-08-19      4      5            0.263750            0.631875  \n",
       "3 2016-11-28      1      5            0.000000            0.500000  \n",
       "4 2018-12-28      1      4            0.000000            0.500000  "
      ]
     },
     "execution_count": 348,
     "metadata": {},
     "output_type": "execute_result"
    }
   ],
   "source": [
    "df.head()"
   ]
  },
  {
   "cell_type": "markdown",
   "metadata": {},
   "source": [
    "# Creating Date weights"
   ]
  },
  {
   "cell_type": "code",
   "execution_count": 141,
   "metadata": {},
   "outputs": [],
   "source": [
    "base = df[\"Date\"].min()\n",
    "max = df[\"Date\"].max()"
   ]
  },
  {
   "cell_type": "code",
   "execution_count": 142,
   "metadata": {},
   "outputs": [
    {
     "name": "stdout",
     "output_type": "stream",
     "text": [
      "2010-02-05 00:00:00\n",
      "2020-03-09 00:00:00\n"
     ]
    }
   ],
   "source": [
    "print (base)\n",
    "print (max)"
   ]
  },
  {
   "cell_type": "code",
   "execution_count": 155,
   "metadata": {},
   "outputs": [
    {
     "name": "stderr",
     "output_type": "stream",
     "text": [
      "c:\\users\\seagate pc\\appdata\\local\\programs\\python\\python37\\lib\\site-packages\\ipykernel_launcher.py:1: RuntimeWarning: overflow encountered in exp\n",
      "  \"\"\"Entry point for launching an IPython kernel.\n"
     ]
    },
    {
     "data": {
      "text/plain": [
       "inf"
      ]
     },
     "execution_count": 155,
     "metadata": {},
     "output_type": "execute_result"
    }
   ],
   "source": [
    "np.exp(float((max-base).days))"
   ]
  },
  {
   "cell_type": "code",
   "execution_count": 349,
   "metadata": {},
   "outputs": [],
   "source": [
    "def weight(date):\n",
    "    if (date == base):\n",
    "        return 1\n",
    "    return (date - base).days"
   ]
  },
  {
   "cell_type": "code",
   "execution_count": 350,
   "metadata": {},
   "outputs": [],
   "source": [
    "def grouped_weighted_avg(values, weights, by):\n",
    "    return (values * weights).groupby(by).sum() / weights.groupby(by).sum()"
   ]
  },
  {
   "cell_type": "code",
   "execution_count": 351,
   "metadata": {},
   "outputs": [],
   "source": [
    "df[\"weights\"] = df.apply (lambda row: weight(row[2]), axis=1)"
   ]
  },
  {
   "cell_type": "code",
   "execution_count": 352,
   "metadata": {},
   "outputs": [],
   "source": [
    "df = df.sort_values([\"Date\"])"
   ]
  },
  {
   "cell_type": "code",
   "execution_count": 353,
   "metadata": {},
   "outputs": [],
   "source": [
    "adjusted_weight = df[\"weights\"].ewm(span = 365).mean()"
   ]
  },
  {
   "cell_type": "code",
   "execution_count": 354,
   "metadata": {},
   "outputs": [],
   "source": [
    "df[\"adjusted_weight\"] = adjusted_weight"
   ]
  },
  {
   "cell_type": "code",
   "execution_count": 355,
   "metadata": {},
   "outputs": [
    {
     "data": {
      "text/html": [
       "<div>\n",
       "<style scoped>\n",
       "    .dataframe tbody tr th:only-of-type {\n",
       "        vertical-align: middle;\n",
       "    }\n",
       "\n",
       "    .dataframe tbody tr th {\n",
       "        vertical-align: top;\n",
       "    }\n",
       "\n",
       "    .dataframe thead th {\n",
       "        text-align: right;\n",
       "    }\n",
       "</style>\n",
       "<table border=\"1\" class=\"dataframe\">\n",
       "  <thead>\n",
       "    <tr style=\"text-align: right;\">\n",
       "      <th></th>\n",
       "      <th>Restaurant</th>\n",
       "      <th>Review</th>\n",
       "      <th>Date</th>\n",
       "      <th>Label</th>\n",
       "      <th>Stars</th>\n",
       "      <th>sentiment_polarity</th>\n",
       "      <th>adjusted_sentiment</th>\n",
       "      <th>weights</th>\n",
       "      <th>adjusted_weight</th>\n",
       "    </tr>\n",
       "  </thead>\n",
       "  <tbody>\n",
       "    <tr>\n",
       "      <th>509</th>\n",
       "      <td>Beauty in the Pot</td>\n",
       "      <td>i personally think for th price we payed this ...</td>\n",
       "      <td>2020-02-24</td>\n",
       "      <td>1</td>\n",
       "      <td>4</td>\n",
       "      <td>0.020833</td>\n",
       "      <td>0.510417</td>\n",
       "      <td>3671</td>\n",
       "      <td>3349.912036</td>\n",
       "    </tr>\n",
       "    <tr>\n",
       "      <th>541</th>\n",
       "      <td>Tai Hwa Pork Noodle</td>\n",
       "      <td>they offer a variety of soup base so we tried 4 1</td>\n",
       "      <td>2020-02-24</td>\n",
       "      <td>5</td>\n",
       "      <td>4</td>\n",
       "      <td>-0.800000</td>\n",
       "      <td>0.100000</td>\n",
       "      <td>3671</td>\n",
       "      <td>3351.666661</td>\n",
       "    </tr>\n",
       "    <tr>\n",
       "      <th>942</th>\n",
       "      <td>Candlenut</td>\n",
       "      <td>what sophistication</td>\n",
       "      <td>2020-02-25</td>\n",
       "      <td>4</td>\n",
       "      <td>1</td>\n",
       "      <td>0.000000</td>\n",
       "      <td>0.500000</td>\n",
       "      <td>3672</td>\n",
       "      <td>3353.417163</td>\n",
       "    </tr>\n",
       "    <tr>\n",
       "      <th>40</th>\n",
       "      <td>Song Fa Bak Kut Teh</td>\n",
       "      <td>a large portion is around dollar 10 singaporea...</td>\n",
       "      <td>2020-03-04</td>\n",
       "      <td>1</td>\n",
       "      <td>5</td>\n",
       "      <td>0.214286</td>\n",
       "      <td>0.607143</td>\n",
       "      <td>3680</td>\n",
       "      <td>3355.201815</td>\n",
       "    </tr>\n",
       "    <tr>\n",
       "      <th>1402</th>\n",
       "      <td>Odette</td>\n",
       "      <td>the only thing that wa even sort of exciting w...</td>\n",
       "      <td>2020-03-09</td>\n",
       "      <td>2</td>\n",
       "      <td>3</td>\n",
       "      <td>0.200000</td>\n",
       "      <td>0.600000</td>\n",
       "      <td>3685</td>\n",
       "      <td>3357.004038</td>\n",
       "    </tr>\n",
       "  </tbody>\n",
       "</table>\n",
       "</div>"
      ],
      "text/plain": [
       "               Restaurant                                             Review  \\\n",
       "509     Beauty in the Pot  i personally think for th price we payed this ...   \n",
       "541   Tai Hwa Pork Noodle  they offer a variety of soup base so we tried 4 1   \n",
       "942             Candlenut                                what sophistication   \n",
       "40    Song Fa Bak Kut Teh  a large portion is around dollar 10 singaporea...   \n",
       "1402               Odette  the only thing that wa even sort of exciting w...   \n",
       "\n",
       "           Date  Label  Stars  sentiment_polarity  adjusted_sentiment  \\\n",
       "509  2020-02-24      1      4            0.020833            0.510417   \n",
       "541  2020-02-24      5      4           -0.800000            0.100000   \n",
       "942  2020-02-25      4      1            0.000000            0.500000   \n",
       "40   2020-03-04      1      5            0.214286            0.607143   \n",
       "1402 2020-03-09      2      3            0.200000            0.600000   \n",
       "\n",
       "      weights  adjusted_weight  \n",
       "509      3671      3349.912036  \n",
       "541      3671      3351.666661  \n",
       "942      3672      3353.417163  \n",
       "40       3680      3355.201815  \n",
       "1402     3685      3357.004038  "
      ]
     },
     "execution_count": 355,
     "metadata": {},
     "output_type": "execute_result"
    }
   ],
   "source": [
    "df.tail()"
   ]
  },
  {
   "cell_type": "code",
   "execution_count": 448,
   "metadata": {},
   "outputs": [],
   "source": [
    "# Removing label 5 since it is not a preassigned class\n",
    "clean_data = df[df.Label != 5]"
   ]
  },
  {
   "cell_type": "markdown",
   "metadata": {},
   "source": [
    "# Star Prediction for each Label"
   ]
  },
  {
   "cell_type": "code",
   "execution_count": 449,
   "metadata": {},
   "outputs": [
    {
     "name": "stderr",
     "output_type": "stream",
     "text": [
      "c:\\users\\seagate pc\\appdata\\local\\programs\\python\\python37\\lib\\site-packages\\ipykernel_launcher.py:2: FutureWarning: Interpreting tuple 'by' as a list of keys, rather than a single key. Use 'by=[...]' instead of 'by=(...)'. In the future, a tuple will always mean a single key.\n",
      "  \n"
     ]
    }
   ],
   "source": [
    "label_sentiment = grouped_weighted_avg(clean_data[\"adjusted_sentiment\"], clean_data[\"adjusted_weight\"], (clean_data[\"Restaurant\"], clean_data[\"Label\"]))"
   ]
  },
  {
   "cell_type": "code",
   "execution_count": 450,
   "metadata": {},
   "outputs": [],
   "source": [
    "label_sentiment = label_sentiment.apply((lambda x: math.ceil(x*5)))"
   ]
  },
  {
   "cell_type": "code",
   "execution_count": 451,
   "metadata": {},
   "outputs": [
    {
     "data": {
      "text/plain": [
       "Restaurant        Label\n",
       "10 at Claymore    1        3\n",
       "                  2        4\n",
       "                  3        4\n",
       "126 Eating House  3        5\n",
       "2it & Drink       2        5\n",
       "dtype: int64"
      ]
     },
     "execution_count": 451,
     "metadata": {},
     "output_type": "execute_result"
    }
   ],
   "source": [
    "label_sentiment.head()"
   ]
  },
  {
   "cell_type": "code",
   "execution_count": 452,
   "metadata": {},
   "outputs": [
    {
     "data": {
      "text/plain": [
       "(824,)"
      ]
     },
     "execution_count": 452,
     "metadata": {},
     "output_type": "execute_result"
    }
   ],
   "source": [
    "label_sentiment.shape"
   ]
  },
  {
   "cell_type": "code",
   "execution_count": 453,
   "metadata": {},
   "outputs": [],
   "source": [
    "pred_label = []\n",
    "for x in label_sentiment:\n",
    "    pred_label.append(x)"
   ]
  },
  {
   "cell_type": "code",
   "execution_count": 454,
   "metadata": {},
   "outputs": [
    {
     "name": "stderr",
     "output_type": "stream",
     "text": [
      "c:\\users\\seagate pc\\appdata\\local\\programs\\python\\python37\\lib\\site-packages\\ipykernel_launcher.py:2: FutureWarning: Interpreting tuple 'by' as a list of keys, rather than a single key. Use 'by=[...]' instead of 'by=(...)'. In the future, a tuple will always mean a single key.\n",
      "  \n"
     ]
    }
   ],
   "source": [
    "label_star = grouped_weighted_avg(clean_data[\"Stars\"], clean_data[\"adjusted_weight\"], (clean_data[\"Restaurant\"], clean_data[\"Label\"]))"
   ]
  },
  {
   "cell_type": "code",
   "execution_count": 455,
   "metadata": {},
   "outputs": [],
   "source": [
    "label_star = label_star.apply((lambda x: math.ceil(x)))"
   ]
  },
  {
   "cell_type": "code",
   "execution_count": 456,
   "metadata": {},
   "outputs": [],
   "source": [
    "label_truth = []\n",
    "for x in label_star:\n",
    "    label_truth.append(x)"
   ]
  },
  {
   "cell_type": "code",
   "execution_count": 457,
   "metadata": {},
   "outputs": [
    {
     "data": {
      "text/plain": [
       "0.32645631067961167"
      ]
     },
     "execution_count": 457,
     "metadata": {},
     "output_type": "execute_result"
    }
   ],
   "source": [
    "accuracy_score(label_truth, pred_label)"
   ]
  },
  {
   "cell_type": "markdown",
   "metadata": {},
   "source": [
    "# Overall Restaurant Star Prediction"
   ]
  },
  {
   "cell_type": "code",
   "execution_count": 483,
   "metadata": {},
   "outputs": [],
   "source": [
    "overall_sentiment = grouped_weighted_avg(clean_data[\"adjusted_sentiment\"], clean_data[\"adjusted_weight\"], (clean_data[\"Restaurant\"]))"
   ]
  },
  {
   "cell_type": "code",
   "execution_count": 484,
   "metadata": {},
   "outputs": [],
   "source": [
    "overall_sentiment = overall_sentiment.apply((lambda x: round(x*5)))"
   ]
  },
  {
   "cell_type": "code",
   "execution_count": 485,
   "metadata": {},
   "outputs": [
    {
     "data": {
      "text/plain": [
       "Restaurant\n",
       "10 at Claymore      3\n",
       "126 Eating House    4\n",
       "2it & Drink         5\n",
       "328 Katong Laksa    3\n",
       "8 Korean BBQ        4\n",
       "dtype: int64"
      ]
     },
     "execution_count": 485,
     "metadata": {},
     "output_type": "execute_result"
    }
   ],
   "source": [
    "overall_sentiment.head()"
   ]
  },
  {
   "cell_type": "code",
   "execution_count": 488,
   "metadata": {},
   "outputs": [],
   "source": [
    "pred_overall = []\n",
    "for x in overall_sentiment:\n",
    "    pred_overall.append(x)"
   ]
  },
  {
   "cell_type": "code",
   "execution_count": 496,
   "metadata": {},
   "outputs": [],
   "source": [
    "overall_star = grouped_weighted_avg(clean_data[\"Stars\"], clean_data[\"adjusted_weight\"], (clean_data[\"Restaurant\"]))"
   ]
  },
  {
   "cell_type": "code",
   "execution_count": 497,
   "metadata": {},
   "outputs": [],
   "source": [
    "overall_star = overall_star.apply((lambda x: round(x)))"
   ]
  },
  {
   "cell_type": "code",
   "execution_count": 498,
   "metadata": {},
   "outputs": [
    {
     "data": {
      "text/plain": [
       "Restaurant\n",
       "10 at Claymore      4\n",
       "126 Eating House    4\n",
       "2it & Drink         5\n",
       "328 Katong Laksa    3\n",
       "8 Korean BBQ        4\n",
       "dtype: int64"
      ]
     },
     "execution_count": 498,
     "metadata": {},
     "output_type": "execute_result"
    }
   ],
   "source": [
    "overall_star.head()"
   ]
  },
  {
   "cell_type": "code",
   "execution_count": 499,
   "metadata": {},
   "outputs": [],
   "source": [
    "overall_truth = []\n",
    "for x in overall_star:\n",
    "    overall_truth.append(x)"
   ]
  },
  {
   "cell_type": "code",
   "execution_count": 500,
   "metadata": {},
   "outputs": [
    {
     "data": {
      "text/plain": [
       "0.26973684210526316"
      ]
     },
     "execution_count": 500,
     "metadata": {},
     "output_type": "execute_result"
    }
   ],
   "source": [
    "accuracy_score(overall_truth, pred_overall)"
   ]
  }
 ],
 "metadata": {
  "kernelspec": {
   "display_name": "Python 3",
   "language": "python",
   "name": "python3"
  },
  "language_info": {
   "codemirror_mode": {
    "name": "ipython",
    "version": 3
   },
   "file_extension": ".py",
   "mimetype": "text/x-python",
   "name": "python",
   "nbconvert_exporter": "python",
   "pygments_lexer": "ipython3",
   "version": "3.7.0"
  }
 },
 "nbformat": 4,
 "nbformat_minor": 4
}
