{
 "cells": [
  {
   "cell_type": "code",
   "execution_count": 17,
   "metadata": {},
   "outputs": [
    {
     "data": {
      "text/html": [
       "<div>\n",
       "<style scoped>\n",
       "    .dataframe tbody tr th:only-of-type {\n",
       "        vertical-align: middle;\n",
       "    }\n",
       "\n",
       "    .dataframe tbody tr th {\n",
       "        vertical-align: top;\n",
       "    }\n",
       "\n",
       "    .dataframe thead th {\n",
       "        text-align: right;\n",
       "    }\n",
       "</style>\n",
       "<table border=\"1\" class=\"dataframe\">\n",
       "  <thead>\n",
       "    <tr style=\"text-align: right;\">\n",
       "      <th></th>\n",
       "      <th>restaurant</th>\n",
       "      <th>content</th>\n",
       "      <th>stars</th>\n",
       "      <th>date</th>\n",
       "    </tr>\n",
       "  </thead>\n",
       "  <tbody>\n",
       "    <tr>\n",
       "      <td>0</td>\n",
       "      <td>Sungei Road Laksa</td>\n",
       "      <td>The food has been phenomenal Laksa was awesome...</td>\n",
       "      <td>5</td>\n",
       "      <td>2018-12-18T00:00:00</td>\n",
       "    </tr>\n",
       "    <tr>\n",
       "      <td>1</td>\n",
       "      <td>Sungei Road Laksa</td>\n",
       "      <td>When we got to this hawker center, we immediat...</td>\n",
       "      <td>4</td>\n",
       "      <td>2019-12-21T00:00:00</td>\n",
       "    </tr>\n",
       "    <tr>\n",
       "      <td>2</td>\n",
       "      <td>Sungei Road Laksa</td>\n",
       "      <td>Laksa is a popular Southeast Asia spicy noodle...</td>\n",
       "      <td>4</td>\n",
       "      <td>2019-05-16T00:00:00</td>\n",
       "    </tr>\n",
       "    <tr>\n",
       "      <td>3</td>\n",
       "      <td>Sungei Road Laksa</td>\n",
       "      <td>Laska is not my thing and after trying this st...</td>\n",
       "      <td>4</td>\n",
       "      <td>2019-04-28T00:00:00</td>\n",
       "    </tr>\n",
       "    <tr>\n",
       "      <td>4</td>\n",
       "      <td>Sungei Road Laksa</td>\n",
       "      <td>Laksa here is so good! Tasty and rich in flavo...</td>\n",
       "      <td>5</td>\n",
       "      <td>2019-01-03T00:00:00</td>\n",
       "    </tr>\n",
       "  </tbody>\n",
       "</table>\n",
       "</div>"
      ],
      "text/plain": [
       "          restaurant                                            content  \\\n",
       "0  Sungei Road Laksa  The food has been phenomenal Laksa was awesome...   \n",
       "1  Sungei Road Laksa  When we got to this hawker center, we immediat...   \n",
       "2  Sungei Road Laksa  Laksa is a popular Southeast Asia spicy noodle...   \n",
       "3  Sungei Road Laksa  Laska is not my thing and after trying this st...   \n",
       "4  Sungei Road Laksa  Laksa here is so good! Tasty and rich in flavo...   \n",
       "\n",
       "   stars                 date  \n",
       "0      5  2018-12-18T00:00:00  \n",
       "1      4  2019-12-21T00:00:00  \n",
       "2      4  2019-05-16T00:00:00  \n",
       "3      4  2019-04-28T00:00:00  \n",
       "4      5  2019-01-03T00:00:00  "
      ]
     },
     "execution_count": 17,
     "metadata": {},
     "output_type": "execute_result"
    }
   ],
   "source": [
    "import pandas as pd\n",
    "import re\n",
    "import inflect\n",
    "import numpy as np\n",
    "import matplotlib.pyplot as plt\n",
    "import nltk\n",
    "import string\n",
    "from nltk.tokenize import word_tokenize\n",
    "from nltk.corpus import stopwords\n",
    "\n",
    "reviews = pd.read_csv(r\"/Users/charlotte/Desktop/BT4222/yelp_data.csv\", encoding = \"ISO-8859-1\")\n",
    "reviews.head()\n",
    "                      \n",
    "              "
   ]
  },
  {
   "cell_type": "code",
   "execution_count": 18,
   "metadata": {},
   "outputs": [
    {
     "data": {
      "text/html": [
       "<div>\n",
       "<style scoped>\n",
       "    .dataframe tbody tr th:only-of-type {\n",
       "        vertical-align: middle;\n",
       "    }\n",
       "\n",
       "    .dataframe tbody tr th {\n",
       "        vertical-align: top;\n",
       "    }\n",
       "\n",
       "    .dataframe thead th {\n",
       "        text-align: right;\n",
       "    }\n",
       "</style>\n",
       "<table border=\"1\" class=\"dataframe\">\n",
       "  <thead>\n",
       "    <tr style=\"text-align: right;\">\n",
       "      <th></th>\n",
       "      <th>restaurant</th>\n",
       "      <th>content</th>\n",
       "      <th>stars</th>\n",
       "      <th>date</th>\n",
       "    </tr>\n",
       "  </thead>\n",
       "  <tbody>\n",
       "    <tr>\n",
       "      <td>10121</td>\n",
       "      <td>Ocean Curry Fish Head</td>\n",
       "      <td>I'm surprised at how good the fish head curry ...</td>\n",
       "      <td>5</td>\n",
       "      <td>2016-01-31T00:00:00</td>\n",
       "    </tr>\n",
       "    <tr>\n",
       "      <td>10122</td>\n",
       "      <td>Ocean Curry Fish Head</td>\n",
       "      <td>Absolutely yummy goodness. ÃÂ The restaurant ...</td>\n",
       "      <td>4</td>\n",
       "      <td>2018-07-01T00:00:00</td>\n",
       "    </tr>\n",
       "    <tr>\n",
       "      <td>10123</td>\n",
       "      <td>Ocean Curry Fish Head</td>\n",
       "      <td>$45 for 2... curry fishhead plus 3 side dishes...</td>\n",
       "      <td>4</td>\n",
       "      <td>2014-12-31T00:00:00</td>\n",
       "    </tr>\n",
       "    <tr>\n",
       "      <td>10124</td>\n",
       "      <td>Ocean Curry Fish Head</td>\n",
       "      <td>I'll be frank to say that the food is not chea...</td>\n",
       "      <td>4</td>\n",
       "      <td>2014-12-31T00:00:00</td>\n",
       "    </tr>\n",
       "    <tr>\n",
       "      <td>10125</td>\n",
       "      <td>Shan E Punjab</td>\n",
       "      <td>This is hawker stall food at its finest. We ha...</td>\n",
       "      <td>5</td>\n",
       "      <td>2018-07-23T00:00:00</td>\n",
       "    </tr>\n",
       "  </tbody>\n",
       "</table>\n",
       "</div>"
      ],
      "text/plain": [
       "                  restaurant  \\\n",
       "10121  Ocean Curry Fish Head   \n",
       "10122  Ocean Curry Fish Head   \n",
       "10123  Ocean Curry Fish Head   \n",
       "10124  Ocean Curry Fish Head   \n",
       "10125          Shan E Punjab   \n",
       "\n",
       "                                                 content  stars  \\\n",
       "10121  I'm surprised at how good the fish head curry ...      5   \n",
       "10122  Absolutely yummy goodness. ÃÂ The restaurant ...      4   \n",
       "10123  $45 for 2... curry fishhead plus 3 side dishes...      4   \n",
       "10124  I'll be frank to say that the food is not chea...      4   \n",
       "10125  This is hawker stall food at its finest. We ha...      5   \n",
       "\n",
       "                      date  \n",
       "10121  2016-01-31T00:00:00  \n",
       "10122  2018-07-01T00:00:00  \n",
       "10123  2014-12-31T00:00:00  \n",
       "10124  2014-12-31T00:00:00  \n",
       "10125  2018-07-23T00:00:00  "
      ]
     },
     "execution_count": 18,
     "metadata": {},
     "output_type": "execute_result"
    }
   ],
   "source": [
    "reviews.tail()"
   ]
  },
  {
   "cell_type": "code",
   "execution_count": 19,
   "metadata": {},
   "outputs": [
    {
     "data": {
      "text/plain": [
       "(10126, 4)"
      ]
     },
     "execution_count": 19,
     "metadata": {},
     "output_type": "execute_result"
    }
   ],
   "source": [
    "reviews.shape"
   ]
  },
  {
   "cell_type": "code",
   "execution_count": 24,
   "metadata": {},
   "outputs": [
    {
     "name": "stderr",
     "output_type": "stream",
     "text": [
      "[nltk_data] Downloading package punkt to /Users/charlotte/nltk_data...\n",
      "[nltk_data]   Unzipping tokenizers/punkt.zip.\n"
     ]
    },
    {
     "data": {
      "text/plain": [
       "True"
      ]
     },
     "execution_count": 24,
     "metadata": {},
     "output_type": "execute_result"
    }
   ],
   "source": [
    "nltk.download('punkt')"
   ]
  },
  {
   "cell_type": "code",
   "execution_count": 25,
   "metadata": {},
   "outputs": [
    {
     "data": {
      "text/html": [
       "<div>\n",
       "<style scoped>\n",
       "    .dataframe tbody tr th:only-of-type {\n",
       "        vertical-align: middle;\n",
       "    }\n",
       "\n",
       "    .dataframe tbody tr th {\n",
       "        vertical-align: top;\n",
       "    }\n",
       "\n",
       "    .dataframe thead th {\n",
       "        text-align: right;\n",
       "    }\n",
       "</style>\n",
       "<table border=\"1\" class=\"dataframe\">\n",
       "  <thead>\n",
       "    <tr style=\"text-align: right;\">\n",
       "      <th></th>\n",
       "      <th>restaurant</th>\n",
       "      <th>content</th>\n",
       "      <th>stars</th>\n",
       "      <th>date</th>\n",
       "      <th>content_clean</th>\n",
       "    </tr>\n",
       "  </thead>\n",
       "  <tbody>\n",
       "    <tr>\n",
       "      <td>0</td>\n",
       "      <td>Sungei Road Laksa</td>\n",
       "      <td>The food has been phenomenal Laksa was awesome...</td>\n",
       "      <td>5</td>\n",
       "      <td>2018-12-18T00:00:00</td>\n",
       "      <td>food phenomenal laksa awesome cheap yet heavy</td>\n",
       "    </tr>\n",
       "    <tr>\n",
       "      <td>1</td>\n",
       "      <td>Sungei Road Laksa</td>\n",
       "      <td>When we got to this hawker center, we immediat...</td>\n",
       "      <td>4</td>\n",
       "      <td>2019-12-21T00:00:00</td>\n",
       "      <td>got hawker center immediately saw sungei road ...</td>\n",
       "    </tr>\n",
       "    <tr>\n",
       "      <td>2</td>\n",
       "      <td>Sungei Road Laksa</td>\n",
       "      <td>Laksa is a popular Southeast Asia spicy noodle...</td>\n",
       "      <td>4</td>\n",
       "      <td>2019-05-16T00:00:00</td>\n",
       "      <td>laksa popular southeast asia spicy noodle soup...</td>\n",
       "    </tr>\n",
       "    <tr>\n",
       "      <td>3</td>\n",
       "      <td>Sungei Road Laksa</td>\n",
       "      <td>Laska is not my thing and after trying this st...</td>\n",
       "      <td>4</td>\n",
       "      <td>2019-04-28T00:00:00</td>\n",
       "      <td>laska thing trying still thing love noodles so...</td>\n",
       "    </tr>\n",
       "    <tr>\n",
       "      <td>4</td>\n",
       "      <td>Sungei Road Laksa</td>\n",
       "      <td>Laksa here is so good! Tasty and rich in flavo...</td>\n",
       "      <td>5</td>\n",
       "      <td>2019-01-03T00:00:00</td>\n",
       "      <td>laksa good tasty rich flavor line always long ...</td>\n",
       "    </tr>\n",
       "  </tbody>\n",
       "</table>\n",
       "</div>"
      ],
      "text/plain": [
       "          restaurant                                            content  \\\n",
       "0  Sungei Road Laksa  The food has been phenomenal Laksa was awesome...   \n",
       "1  Sungei Road Laksa  When we got to this hawker center, we immediat...   \n",
       "2  Sungei Road Laksa  Laksa is a popular Southeast Asia spicy noodle...   \n",
       "3  Sungei Road Laksa  Laska is not my thing and after trying this st...   \n",
       "4  Sungei Road Laksa  Laksa here is so good! Tasty and rich in flavo...   \n",
       "\n",
       "   stars                 date  \\\n",
       "0      5  2018-12-18T00:00:00   \n",
       "1      4  2019-12-21T00:00:00   \n",
       "2      4  2019-05-16T00:00:00   \n",
       "3      4  2019-04-28T00:00:00   \n",
       "4      5  2019-01-03T00:00:00   \n",
       "\n",
       "                                       content_clean  \n",
       "0      food phenomenal laksa awesome cheap yet heavy  \n",
       "1  got hawker center immediately saw sungei road ...  \n",
       "2  laksa popular southeast asia spicy noodle soup...  \n",
       "3  laska thing trying still thing love noodles so...  \n",
       "4  laksa good tasty rich flavor line always long ...  "
      ]
     },
     "execution_count": 25,
     "metadata": {},
     "output_type": "execute_result"
    }
   ],
   "source": [
    "# Cleaning the Data\n",
    "def clean(data):\n",
    "    \n",
    "    # Removing leading and trailing white spaces\n",
    "    data = str(data).strip()\n",
    "    \n",
    "    # Converting all text to lower case\n",
    "    data = data.lower() \n",
    "    \n",
    "    # Converting all numbers to words\n",
    "    word = data.split(' ')\n",
    "    p = inflect.engine()\n",
    "    word = ' '.join([i for i in word if not i.isdigit()])\n",
    "    word = re.sub(r'\\d+', p.number_to_words(word) , word)    \n",
    "    \n",
    "    # Removing Punctuation\n",
    "    translator = str.maketrans('', '', string.punctuation)\n",
    "    word = word.translate(translator)\n",
    "    \n",
    "    # Removing Stopwords\n",
    "    stop_words = set(stopwords.words('english'))\n",
    "    tokens = word_tokenize(word)\n",
    "    word = ' '.join([i for i in tokens if not i in stop_words])\n",
    "\n",
    "    return word\n",
    "\n",
    "# clean text data\n",
    "reviews[\"content_clean\"] = reviews[\"content\"].apply(lambda x: clean(x))\n",
    "reviews.head()"
   ]
  },
  {
   "cell_type": "code",
   "execution_count": 26,
   "metadata": {},
   "outputs": [],
   "source": [
    "restaurant_names = []\n",
    "\n",
    "for i in reviews['restaurant']:\n",
    "    if not i in restaurant_names:\n",
    "        restaurant_names.append(i)\n",
    "        \n",
    "restaurant_dict = dict()\n",
    "\n",
    "for index, i in enumerate(restaurant_names):\n",
    "    restaurant_dict[i] = index\n",
    "    \n",
    "reviews['enum_restaurant'] = reviews['restaurant'].apply(lambda x : restaurant_dict[x])"
   ]
  },
  {
   "cell_type": "code",
   "execution_count": 27,
   "metadata": {},
   "outputs": [
    {
     "data": {
      "text/plain": [
       "Text(0, 0.5, 'Frequency of Reviews')"
      ]
     },
     "execution_count": 27,
     "metadata": {},
     "output_type": "execute_result"
    },
    {
     "data": {
      "image/png": "[encoded data removed]",
      "text/plain": [
       "<Figure size 432x288 with 1 Axes>"
      ]
     },
     "metadata": {
      "needs_background": "light"
     },
     "output_type": "display_data"
    }
   ],
   "source": [
    "plt.hist(reviews['enum_restaurant'], color = 'blue', edgecolor = 'black',bins = int(180/5))\n",
    "plt.title(\"Frequency of Reviews each Restaurant\")\n",
    "plt.xlabel(\"enum_restaurant\")\n",
    "plt.ylabel(\"Frequency of Reviews\")"
   ]
  },
  {
   "cell_type": "code",
   "execution_count": 28,
   "metadata": {},
   "outputs": [
    {
     "name": "stderr",
     "output_type": "stream",
     "text": [
      "/Users/charlotte/opt/anaconda3/lib/python3.7/site-packages/ipykernel_launcher.py:1: FutureWarning: `Series.plot()` should not be called with positional arguments, only keyword arguments. The order of positional arguments will change in the future. Use `Series.plot(kind='bar')` instead of `Series.plot('bar',)`.\n",
      "  \"\"\"Entry point for launching an IPython kernel.\n"
     ]
    },
    {
     "data": {
      "text/plain": [
       "Text(0, 0.5, 'Frequency of Restaurants')"
      ]
     },
     "execution_count": 28,
     "metadata": {},
     "output_type": "execute_result"
    },
    {
     "data": {
      "image/png": "[encoded data removed]",
      "text/plain": [
       "<Figure size 432x288 with 1 Axes>"
      ]
     },
     "metadata": {
      "needs_background": "light"
     },
     "output_type": "display_data"
    }
   ],
   "source": [
    "reviews['stars'].value_counts().plot('bar')\n",
    "plt.title(\"Frequency of Reviews for each Star\")\n",
    "plt.xlabel(\"Stars Awarded\")\n",
    "plt.ylabel(\"Frequency of Restaurants\")"
   ]
  },
  {
   "cell_type": "code",
   "execution_count": 29,
   "metadata": {},
   "outputs": [],
   "source": [
    "from sklearn.feature_extraction.text import CountVectorizer\n",
    "cv = CountVectorizer(max_df = 0.95, min_df = 2, stop_words = 'english')\n",
    "df = cv.fit_transform(reviews['content_clean'])"
   ]
  },
  {
   "cell_type": "code",
   "execution_count": 35,
   "metadata": {},
   "outputs": [
    {
     "data": {
      "text/plain": [
       "LatentDirichletAllocation(batch_size=128, doc_topic_prior=None,\n",
       "                          evaluate_every=-1, learning_decay=0.7,\n",
       "                          learning_method='batch', learning_offset=10.0,\n",
       "                          max_doc_update_iter=100, max_iter=10,\n",
       "                          mean_change_tol=0.001, n_components=4, n_jobs=None,\n",
       "                          perp_tol=0.1, random_state=0, topic_word_prior=None,\n",
       "                          total_samples=1000000.0, verbose=0)"
      ]
     },
     "execution_count": 35,
     "metadata": {},
     "output_type": "execute_result"
    }
   ],
   "source": [
    "from sklearn.decomposition import LatentDirichletAllocation\n",
    "lda = LatentDirichletAllocation(n_components = 4, random_state = 0)\n",
    "lda.fit(df)"
   ]
  },
  {
   "cell_type": "code",
   "execution_count": 36,
   "metadata": {},
   "outputs": [
    {
     "name": "stdout",
     "output_type": "stream",
     "text": [
      "Top 15 words for Topic #0\n",
      "['best', 'try', 'dont', 'nice', 'time', 'menu', 'restaurant', 'really', 'like', 'singapore', 'service', 'great', 'place', 'good', 'food']\n",
      "\n",
      "\n",
      "Top 15 words for Topic #1\n",
      "['dish', 'chicken', 'sauce', 'fried', 'singapore', 'restaurant', 'really', 'dishes', 'fish', 'pork', 'like', 'place', 'soup', 'food', 'good']\n",
      "\n",
      "\n",
      "Top 15 words for Topic #2\n",
      "['rice', 'order', 'place', 'food', 'fried', 'like', 'good', 'sauce', 'thousand', 'chili', 'zerozero', 'crab', 'seven', 'point', 'zero']\n",
      "\n",
      "\n",
      "Top 15 words for Topic #3\n",
      "['food', 'sweet', 'meat', 'served', 'taste', 'dish', 'like', 'sauce', 'good', 'ramen', 'seven', 'rice', 'zero', 'chicken', 'point']\n",
      "\n",
      "\n"
     ]
    }
   ],
   "source": [
    "for index, topic in enumerate(lda.components_):\n",
    "    print(f'Top 15 words for Topic #{index}')\n",
    "    print([cv.get_feature_names()[i] for i in topic.argsort()[-15:]])\n",
    "    print('\\n')"
   ]
  },
  {
   "cell_type": "code",
   "execution_count": null,
   "metadata": {},
   "outputs": [],
   "source": []
  }
 ],
 "metadata": {
  "kernelspec": {
   "display_name": "Python 3",
   "language": "python",
   "name": "python3"
  },
  "language_info": {
   "codemirror_mode": {
    "name": "ipython",
    "version": 3
   },
   "file_extension": ".py",
   "mimetype": "text/x-python",
   "name": "python",
   "nbconvert_exporter": "python",
   "pygments_lexer": "ipython3",
   "version": "3.7.4"
  }
 },
 "nbformat": 4,
 "nbformat_minor": 4
}
