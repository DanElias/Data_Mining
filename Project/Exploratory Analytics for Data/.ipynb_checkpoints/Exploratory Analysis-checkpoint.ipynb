{
 "cells": [
  {
   "cell_type": "markdown",
   "metadata": {},
   "source": [
    "## Importing the necessary libraries"
   ]
  },
  {
   "cell_type": "code",
   "execution_count": 129,
   "metadata": {},
   "outputs": [],
   "source": [
    "import pandas as pd\n",
    "import re\n",
    "import numpy as np\n",
    "\n",
    "import seaborn as sns\n",
    "import matplotlib.pyplot as plt\n",
    "from wordcloud import WordCloud\n",
    "\n",
    "import nltk\n",
    "import string\n",
    "from collections import Counter\n",
    "from nltk.tokenize import word_tokenize\n",
    "from nltk.corpus import stopwords\n",
    "from nltk.stem.wordnet import WordNetLemmatizer\n",
    "from keras.preprocessing.text import Tokenizer\n",
    "\n",
    "from sklearn.feature_extraction.text import CountVectorizer"
   ]
  },
  {
   "cell_type": "markdown",
   "metadata": {},
   "source": [
    "## Reading in the corpus"
   ]
  },
  {
   "cell_type": "code",
   "execution_count": 123,
   "metadata": {},
   "outputs": [
    {
     "data": {
      "text/html": [
       "<div>\n",
       "<style scoped>\n",
       "    .dataframe tbody tr th:only-of-type {\n",
       "        vertical-align: middle;\n",
       "    }\n",
       "\n",
       "    .dataframe tbody tr th {\n",
       "        vertical-align: top;\n",
       "    }\n",
       "\n",
       "    .dataframe thead th {\n",
       "        text-align: right;\n",
       "    }\n",
       "</style>\n",
       "<table border=\"1\" class=\"dataframe\">\n",
       "  <thead>\n",
       "    <tr style=\"text-align: right;\">\n",
       "      <th></th>\n",
       "      <th>Restaurant</th>\n",
       "      <th>Review</th>\n",
       "      <th>Label</th>\n",
       "      <th>Stars</th>\n",
       "      <th>Date</th>\n",
       "    </tr>\n",
       "  </thead>\n",
       "  <tbody>\n",
       "    <tr>\n",
       "      <td>0</td>\n",
       "      <td>Happy Tummy</td>\n",
       "      <td>Fresh ingredients, friendly peeps and so much ...</td>\n",
       "      <td>1</td>\n",
       "      <td>5</td>\n",
       "      <td>2016-04-06T00:00:00</td>\n",
       "    </tr>\n",
       "    <tr>\n",
       "      <td>1</td>\n",
       "      <td>Cibo Italiano</td>\n",
       "      <td>A small selection of Italian wines by the glas...</td>\n",
       "      <td>1</td>\n",
       "      <td>4</td>\n",
       "      <td>2015-12-24T00:00:00</td>\n",
       "    </tr>\n",
       "    <tr>\n",
       "      <td>2</td>\n",
       "      <td>Yan kee Noodle House</td>\n",
       "      <td>The plus point is that the price remains the s...</td>\n",
       "      <td>1</td>\n",
       "      <td>4</td>\n",
       "      <td>2018-12-28T00:00:00</td>\n",
       "    </tr>\n",
       "    <tr>\n",
       "      <td>3</td>\n",
       "      <td>Clinton Street Baking Company &amp; Restaurant</td>\n",
       "      <td>Same for more?I ordered what I thought was the...</td>\n",
       "      <td>1</td>\n",
       "      <td>2</td>\n",
       "      <td>2018-03-03T00:00:00</td>\n",
       "    </tr>\n",
       "    <tr>\n",
       "      <td>4</td>\n",
       "      <td>Brawn &amp; Brains Coffee</td>\n",
       "      <td>I don't get why it can't just be full service....</td>\n",
       "      <td>1</td>\n",
       "      <td>3</td>\n",
       "      <td>2019-12-17T00:00:00</td>\n",
       "    </tr>\n",
       "  </tbody>\n",
       "</table>\n",
       "</div>"
      ],
      "text/plain": [
       "                                   Restaurant  \\\n",
       "0                                 Happy Tummy   \n",
       "1                               Cibo Italiano   \n",
       "2                        Yan kee Noodle House   \n",
       "3  Clinton Street Baking Company & Restaurant   \n",
       "4                       Brawn & Brains Coffee   \n",
       "\n",
       "                                              Review  Label  Stars  \\\n",
       "0  Fresh ingredients, friendly peeps and so much ...      1      5   \n",
       "1  A small selection of Italian wines by the glas...      1      4   \n",
       "2  The plus point is that the price remains the s...      1      4   \n",
       "3  Same for more?I ordered what I thought was the...      1      2   \n",
       "4  I don't get why it can't just be full service....      1      3   \n",
       "\n",
       "                  Date  \n",
       "0  2016-04-06T00:00:00  \n",
       "1  2015-12-24T00:00:00  \n",
       "2  2018-12-28T00:00:00  \n",
       "3  2018-03-03T00:00:00  \n",
       "4  2019-12-17T00:00:00  "
      ]
     },
     "execution_count": 123,
     "metadata": {},
     "output_type": "execute_result"
    }
   ],
   "source": [
    "# Read csv file into pandas DataFrame\n",
    "reviews = pd.read_csv(\"./train_labelled.csv\", encoding = 'unicode_escape')\n",
    "\n",
    "# Examine first 5 lines of reviews\n",
    "reviews.head()"
   ]
  },
  {
   "cell_type": "code",
   "execution_count": 124,
   "metadata": {},
   "outputs": [
    {
     "data": {
      "text/html": [
       "<div>\n",
       "<style scoped>\n",
       "    .dataframe tbody tr th:only-of-type {\n",
       "        vertical-align: middle;\n",
       "    }\n",
       "\n",
       "    .dataframe tbody tr th {\n",
       "        vertical-align: top;\n",
       "    }\n",
       "\n",
       "    .dataframe thead th {\n",
       "        text-align: right;\n",
       "    }\n",
       "</style>\n",
       "<table border=\"1\" class=\"dataframe\">\n",
       "  <thead>\n",
       "    <tr style=\"text-align: right;\">\n",
       "      <th></th>\n",
       "      <th>Restaurant</th>\n",
       "      <th>Review</th>\n",
       "      <th>Label</th>\n",
       "      <th>Stars</th>\n",
       "      <th>Date</th>\n",
       "    </tr>\n",
       "  </thead>\n",
       "  <tbody>\n",
       "    <tr>\n",
       "      <td>3458</td>\n",
       "      <td>Momma Kong's Crab Shack</td>\n",
       "      <td>They had a not so great experience with sotong...</td>\n",
       "      <td>5</td>\n",
       "      <td>3</td>\n",
       "      <td>2015-05-23T00:00:00</td>\n",
       "    </tr>\n",
       "    <tr>\n",
       "      <td>3459</td>\n",
       "      <td>Spago By Wolfgang Puck</td>\n",
       "      <td>It'll take you up to the 50 something floor wh...</td>\n",
       "      <td>5</td>\n",
       "      <td>4</td>\n",
       "      <td>2018-01-10T00:00:00</td>\n",
       "    </tr>\n",
       "    <tr>\n",
       "      <td>3460</td>\n",
       "      <td>Swee Choon Tim Sum</td>\n",
       "      <td>Tips: Bring cash cause they don't accept credi...</td>\n",
       "      <td>5</td>\n",
       "      <td>5</td>\n",
       "      <td>2019-10-19T00:00:00</td>\n",
       "    </tr>\n",
       "    <tr>\n",
       "      <td>3461</td>\n",
       "      <td>Sakae Teppanyaki</td>\n",
       "      <td>The only reason why I visited this store in th...</td>\n",
       "      <td>5</td>\n",
       "      <td>5</td>\n",
       "      <td>2012-08-17T00:00:00</td>\n",
       "    </tr>\n",
       "    <tr>\n",
       "      <td>3462</td>\n",
       "      <td>Ki-sho</td>\n",
       "      <td>Ki sho sources for a variety of different spec...</td>\n",
       "      <td>5</td>\n",
       "      <td>5</td>\n",
       "      <td>2019-06-24T00:00:00</td>\n",
       "    </tr>\n",
       "  </tbody>\n",
       "</table>\n",
       "</div>"
      ],
      "text/plain": [
       "                   Restaurant  \\\n",
       "3458  Momma Kong's Crab Shack   \n",
       "3459   Spago By Wolfgang Puck   \n",
       "3460       Swee Choon Tim Sum   \n",
       "3461         Sakae Teppanyaki   \n",
       "3462                   Ki-sho   \n",
       "\n",
       "                                                 Review  Label  Stars  \\\n",
       "3458  They had a not so great experience with sotong...      5      3   \n",
       "3459  It'll take you up to the 50 something floor wh...      5      4   \n",
       "3460  Tips: Bring cash cause they don't accept credi...      5      5   \n",
       "3461  The only reason why I visited this store in th...      5      5   \n",
       "3462  Ki sho sources for a variety of different spec...      5      5   \n",
       "\n",
       "                     Date  \n",
       "3458  2015-05-23T00:00:00  \n",
       "3459  2018-01-10T00:00:00  \n",
       "3460  2019-10-19T00:00:00  \n",
       "3461  2012-08-17T00:00:00  \n",
       "3462  2019-06-24T00:00:00  "
      ]
     },
     "execution_count": 124,
     "metadata": {},
     "output_type": "execute_result"
    }
   ],
   "source": [
    "# Examine last 5 lines of reviews\n",
    "reviews.tail()"
   ]
  },
  {
   "cell_type": "code",
   "execution_count": 126,
   "metadata": {},
   "outputs": [
    {
     "data": {
      "text/plain": [
       "Restaurant    False\n",
       "Review        False\n",
       "Label         False\n",
       "Stars         False\n",
       "Date          False\n",
       "dtype: bool"
      ]
     },
     "execution_count": 126,
     "metadata": {},
     "output_type": "execute_result"
    }
   ],
   "source": [
    "# Check for any null rows\n",
    "reviews.isnull().any()"
   ]
  },
  {
   "cell_type": "code",
   "execution_count": 125,
   "metadata": {},
   "outputs": [
    {
     "data": {
      "text/plain": [
       "(3463, 5)"
      ]
     },
     "execution_count": 125,
     "metadata": {},
     "output_type": "execute_result"
    }
   ],
   "source": [
    "# Print the number of rows and columns\n",
    "reviews.shape"
   ]
  },
  {
   "cell_type": "markdown",
   "metadata": {},
   "source": [
    "## Data cleaning"
   ]
  },
  {
   "cell_type": "code",
   "execution_count": 127,
   "metadata": {},
   "outputs": [
    {
     "name": "stdout",
     "output_type": "stream",
     "text": [
      "Number of words before cleaning:  5962\n"
     ]
    }
   ],
   "source": [
    "# Build vocabulary of words and their respective counts\n",
    "corpus = []\n",
    "\n",
    "for line in reviews['Review']:\n",
    "    line = line.replace('\\n', ' ').replace('\\t', ' ').lower() # remove next line, tabs and convert to lower casing\n",
    "    line = re.sub('[^a-z]', ' ', line) # remove punctuations and numbers\n",
    "    tokens = line.split(' ')\n",
    "    tokens = [token for token in tokens if len(token) > 0]\n",
    "    corpus.extend(tokens)\n",
    "\n",
    "corpus = Counter(corpus)\n",
    "print('Number of words before cleaning: ', len(corpus))"
   ]
  },
  {
   "cell_type": "code",
   "execution_count": 128,
   "metadata": {},
   "outputs": [],
   "source": [
    "# SymSpell to correct spelling\n",
    "class SymSpell:\n",
    "    def __init__(self, max_edit_distance=3, verbose=0):\n",
    "        self.max_edit_distance = max_edit_distance\n",
    "        self.verbose = verbose\n",
    "        # 0: top suggestion\n",
    "        # 1: all suggestions of smallest edit distance\n",
    "        # 2: all suggestions <= max_edit_distance (slower, no early termination)\n",
    "\n",
    "        self.dictionary = {}\n",
    "        self.longest_word_length = 0\n",
    "\n",
    "    def best_word(self, s, silent=False):\n",
    "        try:\n",
    "            return self.get_suggestions(s, silent)[0]\n",
    "        except:\n",
    "            return None\n",
    "        \n",
    "    def create_dictionary_entry(self, w):\n",
    "        '''add word and its derived deletions to dictionary'''\n",
    "        # check if word is already in dictionary\n",
    "        # dictionary entries are in the form: (list of suggested corrections,\n",
    "        # frequency of word in corpus)\n",
    "        new_real_word_added = False\n",
    "        if w in self.dictionary:\n",
    "            # increment count of word in corpus\n",
    "            self.dictionary[w] = (self.dictionary[w][0], self.dictionary[w][1] + 1)\n",
    "        else:\n",
    "            self.dictionary[w] = ([], 1)\n",
    "            self.longest_word_length = max(self.longest_word_length, len(w))\n",
    "\n",
    "        if self.dictionary[w][1] == 1:\n",
    "            # first appearance of word in corpus\n",
    "            # n.b. word may already be in dictionary as a derived word\n",
    "            # (deleting character from a real word)\n",
    "            # but counter of frequency of word in corpus is not incremented\n",
    "            # in those cases)\n",
    "            new_real_word_added = True\n",
    "            deletes = self.get_deletes_list(w)\n",
    "            for item in deletes:\n",
    "                if item in self.dictionary:\n",
    "                    # add (correct) word to delete's suggested correction list\n",
    "                    self.dictionary[item][0].append(w)\n",
    "                else:\n",
    "                    # note frequency of word in corpus is not incremented\n",
    "                    self.dictionary[item] = ([w], 0)\n",
    "\n",
    "        return new_real_word_added\n",
    "        \n",
    "    def get_suggestions(self, string, silent=False):\n",
    "        \"\"\"return list of suggested corrections for potentially incorrectly\n",
    "           spelled word\"\"\"\n",
    "        if (len(string) - self.longest_word_length) > self.max_edit_distance:\n",
    "            if not silent:\n",
    "                print(\"no items in dictionary within maximum edit distance\")\n",
    "            return []\n",
    "\n",
    "        suggest_dict = {}\n",
    "        min_suggest_len = float('inf')\n",
    "\n",
    "        queue = [string]\n",
    "        q_dictionary = {}  # items other than string that we've checked\n",
    "\n",
    "        while len(queue) > 0:\n",
    "            q_item = queue[0]  # pop\n",
    "            queue = queue[1:]\n",
    "\n",
    "            # early exit\n",
    "            if ((self.verbose < 2) and (len(suggest_dict) > 0) and\n",
    "                    ((len(string) - len(q_item)) > min_suggest_len)):\n",
    "                break\n",
    "\n",
    "            # process queue item\n",
    "            if (q_item in self.dictionary) and (q_item not in suggest_dict):\n",
    "                if self.dictionary[q_item][1] > 0:\n",
    "                    # word is in dictionary, and is a word from the corpus, and\n",
    "                    # not already in suggestion list so add to suggestion\n",
    "                    # dictionary, indexed by the word with value (frequency in\n",
    "                    # corpus, edit distance)\n",
    "                    # note q_items that are not the input string are shorter\n",
    "                    # than input string since only deletes are added (unless\n",
    "                    # manual dictionary corrections are added)\n",
    "                    assert len(string) >= len(q_item)\n",
    "                    suggest_dict[q_item] = (self.dictionary[q_item][1],\n",
    "                                            len(string) - len(q_item))\n",
    "                    # early exit\n",
    "                    if (self.verbose < 2) and (len(string) == len(q_item)):\n",
    "                        break\n",
    "                    elif (len(string) - len(q_item)) < min_suggest_len:\n",
    "                        min_suggest_len = len(string) - len(q_item)\n",
    "\n",
    "                # the suggested corrections for q_item as stored in\n",
    "                # dictionary (whether or not q_item itself is a valid word\n",
    "                # or merely a delete) can be valid corrections\n",
    "                for sc_item in self.dictionary[q_item][0]:\n",
    "                    if sc_item not in suggest_dict:\n",
    "\n",
    "                        # compute edit distance\n",
    "                        # suggested items should always be longer\n",
    "                        # (unless manual corrections are added)\n",
    "                        assert len(sc_item) > len(q_item)\n",
    "\n",
    "                        # q_items that are not input should be shorter\n",
    "                        # than original string\n",
    "                        # (unless manual corrections added)\n",
    "                        assert len(q_item) <= len(string)\n",
    "\n",
    "                        if len(q_item) == len(string):\n",
    "                            assert q_item == string\n",
    "                            item_dist = len(sc_item) - len(q_item)\n",
    "\n",
    "                        # item in suggestions list should not be the same as\n",
    "                        # the string itself\n",
    "                        assert sc_item != string\n",
    "\n",
    "                        # calculate edit distance using, for example,\n",
    "                        # Damerau-Levenshtein distance\n",
    "                        item_dist = dameraulevenshtein(sc_item, string)\n",
    "\n",
    "                        # do not add words with greater edit distance if\n",
    "                        # verbose setting not on\n",
    "                        if (self.verbose < 2) and (item_dist > min_suggest_len):\n",
    "                            pass\n",
    "                        elif item_dist <= self.max_edit_distance:\n",
    "                            assert sc_item in self.dictionary  # should already be in dictionary if in suggestion list\n",
    "                            suggest_dict[sc_item] = (self.dictionary[sc_item][1], item_dist)\n",
    "                            if item_dist < min_suggest_len:\n",
    "                                min_suggest_len = item_dist\n",
    "\n",
    "                        # depending on order words are processed, some words\n",
    "                        # with different edit distances may be entered into\n",
    "                        # suggestions; trim suggestion dictionary if verbose\n",
    "                        # setting not on\n",
    "                        if self.verbose < 2:\n",
    "                            suggest_dict = {k: v for k, v in suggest_dict.items() if v[1] <= min_suggest_len}\n",
    "\n",
    "            # now generate deletes (e.g. a substring of string or of a delete)\n",
    "            # from the queue item\n",
    "            # as additional items to check -- add to end of queue\n",
    "            assert len(string) >= len(q_item)\n",
    "\n",
    "            # do not add words with greater edit distance if verbose setting\n",
    "            # is not on\n",
    "            if (self.verbose < 2) and ((len(string) - len(q_item)) > min_suggest_len):\n",
    "                pass\n",
    "            elif (len(string) - len(q_item)) < self.max_edit_distance and len(q_item) > 1:\n",
    "                for c in range(len(q_item)):  # character index\n",
    "                    word_minus_c = q_item[:c] + q_item[c + 1:]\n",
    "                    if word_minus_c not in q_dictionary:\n",
    "                        queue.append(word_minus_c)\n",
    "                        q_dictionary[word_minus_c] = None  # arbitrary value, just to identify we checked this\n",
    "\n",
    "        # queue is now empty: convert suggestions in dictionary to\n",
    "        # list for output\n",
    "        if not silent and self.verbose != 0:\n",
    "            print(\"number of possible corrections: %i\" % len(suggest_dict))\n",
    "            print(\"  edit distance for deletions: %i\" % self.max_edit_distance)\n",
    "\n",
    "        # output option 1\n",
    "        # sort results by ascending order of edit distance and descending\n",
    "        # order of frequency\n",
    "        #     and return list of suggested word corrections only:\n",
    "        # return sorted(suggest_dict, key = lambda x:\n",
    "        #               (suggest_dict[x][1], -suggest_dict[x][0]))\n",
    "\n",
    "        # output option 2\n",
    "        # return list of suggestions with (correction,\n",
    "        #                                  (frequency in corpus, edit distance)):\n",
    "        as_list = suggest_dict.items()\n",
    "        # outlist = sorted(as_list, key=lambda (term, (freq, dist)): (dist, -freq))\n",
    "        outlist = sorted(as_list, key=lambda x: (x[1][1], -x[1][0]))\n",
    "\n",
    "        if self.verbose == 0:\n",
    "            return outlist[0]\n",
    "        else:\n",
    "            return outlist\n"
   ]
  },
  {
   "cell_type": "code",
   "execution_count": 9,
   "metadata": {},
   "outputs": [],
   "source": [
    "# Define function to correct spelling \n",
    "def spell_corrector(word_list, words_d) -> str:\n",
    "    result_list = []\n",
    "    for word in word_list:\n",
    "        if word not in words_d:\n",
    "            suggestion = ss.best_word(word, silent=True)\n",
    "            if suggestion is not None:\n",
    "                result_list.append(suggestion)\n",
    "        else:\n",
    "            result_list.append(word)\n",
    "            \n",
    "    return \" \".join(result_list)"
   ]
  },
  {
   "cell_type": "code",
   "execution_count": 10,
   "metadata": {},
   "outputs": [],
   "source": [
    "# Create SymSpell object\n",
    "ss = SymSpell(max_edit_distance=2)"
   ]
  },
  {
   "cell_type": "code",
   "execution_count": 101,
   "metadata": {},
   "outputs": [
    {
     "data": {
      "text/html": [
       "<div>\n",
       "<style scoped>\n",
       "    .dataframe tbody tr th:only-of-type {\n",
       "        vertical-align: middle;\n",
       "    }\n",
       "\n",
       "    .dataframe tbody tr th {\n",
       "        vertical-align: top;\n",
       "    }\n",
       "\n",
       "    .dataframe thead th {\n",
       "        text-align: right;\n",
       "    }\n",
       "</style>\n",
       "<table border=\"1\" class=\"dataframe\">\n",
       "  <thead>\n",
       "    <tr style=\"text-align: right;\">\n",
       "      <th></th>\n",
       "      <th>Restaurant</th>\n",
       "      <th>Review</th>\n",
       "      <th>Label</th>\n",
       "      <th>Stars</th>\n",
       "      <th>Date</th>\n",
       "      <th>Review_clean</th>\n",
       "    </tr>\n",
       "  </thead>\n",
       "  <tbody>\n",
       "    <tr>\n",
       "      <td>0</td>\n",
       "      <td>Happy Tummy</td>\n",
       "      <td>Fresh ingredients, friendly peeps and so much ...</td>\n",
       "      <td>1</td>\n",
       "      <td>5</td>\n",
       "      <td>2016-04-06T00:00:00</td>\n",
       "      <td>fresh ingredients friendly peeps and so much c...</td>\n",
       "    </tr>\n",
       "    <tr>\n",
       "      <td>1</td>\n",
       "      <td>Cibo Italiano</td>\n",
       "      <td>A small selection of Italian wines by the glas...</td>\n",
       "      <td>1</td>\n",
       "      <td>4</td>\n",
       "      <td>2015-12-24T00:00:00</td>\n",
       "      <td>a small selection of italian wines by the glas...</td>\n",
       "    </tr>\n",
       "    <tr>\n",
       "      <td>2</td>\n",
       "      <td>Yan kee Noodle House</td>\n",
       "      <td>The plus point is that the price remains the s...</td>\n",
       "      <td>1</td>\n",
       "      <td>4</td>\n",
       "      <td>2018-12-28T00:00:00</td>\n",
       "      <td>the plus point is that the price remains the s...</td>\n",
       "    </tr>\n",
       "    <tr>\n",
       "      <td>3</td>\n",
       "      <td>Clinton Street Baking Company &amp; Restaurant</td>\n",
       "      <td>Same for more?I ordered what I thought was the...</td>\n",
       "      <td>1</td>\n",
       "      <td>2</td>\n",
       "      <td>2018-03-03T00:00:00</td>\n",
       "      <td>same for more i ordered what i thought was the...</td>\n",
       "    </tr>\n",
       "    <tr>\n",
       "      <td>4</td>\n",
       "      <td>Brawn &amp; Brains Coffee</td>\n",
       "      <td>I don't get why it can't just be full service....</td>\n",
       "      <td>1</td>\n",
       "      <td>3</td>\n",
       "      <td>2019-12-17T00:00:00</td>\n",
       "      <td>i don t get why it can t just be full service ...</td>\n",
       "    </tr>\n",
       "    <tr>\n",
       "      <td>...</td>\n",
       "      <td>...</td>\n",
       "      <td>...</td>\n",
       "      <td>...</td>\n",
       "      <td>...</td>\n",
       "      <td>...</td>\n",
       "      <td>...</td>\n",
       "    </tr>\n",
       "    <tr>\n",
       "      <td>3458</td>\n",
       "      <td>Momma Kong's Crab Shack</td>\n",
       "      <td>They had a not so great experience with sotong...</td>\n",
       "      <td>5</td>\n",
       "      <td>3</td>\n",
       "      <td>2015-05-23T00:00:00</td>\n",
       "      <td>they had a not so great experience with sotong...</td>\n",
       "    </tr>\n",
       "    <tr>\n",
       "      <td>3459</td>\n",
       "      <td>Spago By Wolfgang Puck</td>\n",
       "      <td>It'll take you up to the 50 something floor wh...</td>\n",
       "      <td>5</td>\n",
       "      <td>4</td>\n",
       "      <td>2018-01-10T00:00:00</td>\n",
       "      <td>it ll take you up to the something floor where...</td>\n",
       "    </tr>\n",
       "    <tr>\n",
       "      <td>3460</td>\n",
       "      <td>Swee Choon Tim Sum</td>\n",
       "      <td>Tips: Bring cash cause they don't accept credi...</td>\n",
       "      <td>5</td>\n",
       "      <td>5</td>\n",
       "      <td>2019-10-19T00:00:00</td>\n",
       "      <td>tips bring cash cause they don t accept credit...</td>\n",
       "    </tr>\n",
       "    <tr>\n",
       "      <td>3461</td>\n",
       "      <td>Sakae Teppanyaki</td>\n",
       "      <td>The only reason why I visited this store in th...</td>\n",
       "      <td>5</td>\n",
       "      <td>5</td>\n",
       "      <td>2012-08-17T00:00:00</td>\n",
       "      <td>the only reason why i visited this store in th...</td>\n",
       "    </tr>\n",
       "    <tr>\n",
       "      <td>3462</td>\n",
       "      <td>Ki-sho</td>\n",
       "      <td>Ki sho sources for a variety of different spec...</td>\n",
       "      <td>5</td>\n",
       "      <td>5</td>\n",
       "      <td>2019-06-24T00:00:00</td>\n",
       "      <td>ki sho sources for a variety of different spec...</td>\n",
       "    </tr>\n",
       "  </tbody>\n",
       "</table>\n",
       "<p>3463 rows × 6 columns</p>\n",
       "</div>"
      ],
      "text/plain": [
       "                                      Restaurant  \\\n",
       "0                                    Happy Tummy   \n",
       "1                                  Cibo Italiano   \n",
       "2                           Yan kee Noodle House   \n",
       "3     Clinton Street Baking Company & Restaurant   \n",
       "4                          Brawn & Brains Coffee   \n",
       "...                                          ...   \n",
       "3458                     Momma Kong's Crab Shack   \n",
       "3459                      Spago By Wolfgang Puck   \n",
       "3460                          Swee Choon Tim Sum   \n",
       "3461                            Sakae Teppanyaki   \n",
       "3462                                      Ki-sho   \n",
       "\n",
       "                                                 Review  Label  Stars  \\\n",
       "0     Fresh ingredients, friendly peeps and so much ...      1      5   \n",
       "1     A small selection of Italian wines by the glas...      1      4   \n",
       "2     The plus point is that the price remains the s...      1      4   \n",
       "3     Same for more?I ordered what I thought was the...      1      2   \n",
       "4     I don't get why it can't just be full service....      1      3   \n",
       "...                                                 ...    ...    ...   \n",
       "3458  They had a not so great experience with sotong...      5      3   \n",
       "3459  It'll take you up to the 50 something floor wh...      5      4   \n",
       "3460  Tips: Bring cash cause they don't accept credi...      5      5   \n",
       "3461  The only reason why I visited this store in th...      5      5   \n",
       "3462  Ki sho sources for a variety of different spec...      5      5   \n",
       "\n",
       "                     Date                                       Review_clean  \n",
       "0     2016-04-06T00:00:00  fresh ingredients friendly peeps and so much c...  \n",
       "1     2015-12-24T00:00:00  a small selection of italian wines by the glas...  \n",
       "2     2018-12-28T00:00:00  the plus point is that the price remains the s...  \n",
       "3     2018-03-03T00:00:00  same for more i ordered what i thought was the...  \n",
       "4     2019-12-17T00:00:00  i don t get why it can t just be full service ...  \n",
       "...                   ...                                                ...  \n",
       "3458  2015-05-23T00:00:00  they had a not so great experience with sotong...  \n",
       "3459  2018-01-10T00:00:00  it ll take you up to the something floor where...  \n",
       "3460  2019-10-19T00:00:00  tips bring cash cause they don t accept credit...  \n",
       "3461  2012-08-17T00:00:00  the only reason why i visited this store in th...  \n",
       "3462  2019-06-24T00:00:00  ki sho sources for a variety of different spec...  \n",
       "\n",
       "[3463 rows x 6 columns]"
      ]
     },
     "execution_count": 101,
     "metadata": {},
     "output_type": "execute_result"
    }
   ],
   "source": [
    "# Cleaning the Data\n",
    "def clean(data):\n",
    "\n",
    "    # Removing leading and trailing white spaces\n",
    "    data = str(data).strip()\n",
    "    \n",
    "    # Converting all text to lower case\n",
    "    data = data.lower() \n",
    "    \n",
    "    # Adding space for punctuation\n",
    "    translator = re.compile('[%s]' % re.escape(string.punctuation))\n",
    "    translator.sub(' ', data)\n",
    "\n",
    "    # Removing punctuation\n",
    "    data = re.sub('[^A-Za-z0-9]+', ' ', data)\n",
    "    \n",
    "    # Keeping only english words\n",
    "    data = re.sub(r'[^\\x00-\\x7F]+', '', data)\n",
    "    \n",
    "    # Keeping printable\n",
    "    data = re.sub(f'[^{re.escape(string.printable)}]', '', data)\n",
    "\n",
    "    # Tokenizing data\n",
    "    tokens = word_tokenize(data)\n",
    "\n",
    "    # Correcting spelling mistakes\n",
    "    correct_text = spell_corrector(tokens, corpus)\n",
    "\n",
    "    return correct_text\n",
    "\n",
    "# clean text data\n",
    "reviews[\"Review_clean\"] = reviews[\"Review\"].apply(lambda x: clean(x))\n",
    "reviews"
   ]
  },
  {
   "cell_type": "code",
   "execution_count": 102,
   "metadata": {},
   "outputs": [
    {
     "name": "stdout",
     "output_type": "stream",
     "text": [
      "Number of words after cleaning:  5942\n"
     ]
    }
   ],
   "source": [
    "# Build vocabulary of cleaned text and their respective counts\n",
    "tokenizer = Tokenizer()\n",
    "tokenizer.fit_on_texts(reviews.Review_clean)\n",
    "print(\"Number of words after cleaning: \", len(tokenizer.word_index))"
   ]
  },
  {
   "cell_type": "code",
   "execution_count": 103,
   "metadata": {},
   "outputs": [],
   "source": [
    "# Write to a clean csv file\n",
    "reviews.to_csv('train_cleaned.csv')"
   ]
  },
  {
   "cell_type": "markdown",
   "metadata": {},
   "source": [
    "## Exploratory Data"
   ]
  },
  {
   "cell_type": "code",
   "execution_count": 119,
   "metadata": {},
   "outputs": [],
   "source": [
    "# Getting an index for each restaurant\n",
    "restaurant_names = []\n",
    "\n",
    "for i in reviews['Restaurant']:\n",
    "    if not i in restaurant_names:\n",
    "        restaurant_names.append(i)\n",
    "        \n",
    "restaurant_dict = dict()\n",
    "\n",
    "for index, i in enumerate(restaurant_names):\n",
    "    restaurant_dict[i] = index\n",
    "    \n",
    "reviews['enum_restaurant'] = reviews['Restaurant'].apply(lambda x : restaurant_dict[x])"
   ]
  },
  {
   "cell_type": "code",
   "execution_count": 120,
   "metadata": {},
   "outputs": [
    {
     "data": {
      "text/plain": [
       "Text(0, 0.5, 'Frequency of Reviews')"
      ]
     },
     "execution_count": 120,
     "metadata": {},
     "output_type": "execute_result"
    },
    {
     "data": {
      "image/png": "[encoded data removed]",
      "text/plain": [
       "<Figure size 432x288 with 1 Axes>"
      ]
     },
     "metadata": {
      "needs_background": "light"
     },
     "output_type": "display_data"
    }
   ],
   "source": [
    "# Frequency of reviews from each restaurant\n",
    "plt.hist(reviews['enum_restaurant'], color = 'blue', edgecolor = 'black',bins = int(180/5))\n",
    "plt.title(\"Frequency of Reviews each Restaurant\")\n",
    "plt.xlabel(\"enum_restaurant\")\n",
    "plt.ylabel(\"Frequency of Reviews\")"
   ]
  },
  {
   "cell_type": "code",
   "execution_count": 121,
   "metadata": {},
   "outputs": [
    {
     "name": "stderr",
     "output_type": "stream",
     "text": [
      "C:\\Users\\xuehu\\.conda\\lib\\site-packages\\ipykernel_launcher.py:1: FutureWarning: `Series.plot()` should not be called with positional arguments, only keyword arguments. The order of positional arguments will change in the future. Use `Series.plot(kind='bar')` instead of `Series.plot('bar',)`.\n",
      "  \"\"\"Entry point for launching an IPython kernel.\n"
     ]
    },
    {
     "data": {
      "text/plain": [
       "Text(0, 0.5, 'Frequency of Restaurants')"
      ]
     },
     "execution_count": 121,
     "metadata": {},
     "output_type": "execute_result"
    },
    {
     "data": {
      "image/png": "[encoded data removed]",
      "text/plain": [
       "<Figure size 432x288 with 1 Axes>"
      ]
     },
     "metadata": {
      "needs_background": "light"
     },
     "output_type": "display_data"
    }
   ],
   "source": [
    "# Frequency of number of stars\n",
    "reviews['Stars'].value_counts().plot('bar')\n",
    "plt.title(\"Frequency of Reviews for Each Star\")\n",
    "plt.xlabel(\"Stars Awarded\")\n",
    "plt.ylabel(\"Frequency of Restaurants\")"
   ]
  },
  {
   "cell_type": "code",
   "execution_count": 122,
   "metadata": {},
   "outputs": [
    {
     "name": "stderr",
     "output_type": "stream",
     "text": [
      "C:\\Users\\xuehu\\.conda\\lib\\site-packages\\ipykernel_launcher.py:1: FutureWarning: `Series.plot()` should not be called with positional arguments, only keyword arguments. The order of positional arguments will change in the future. Use `Series.plot(kind='bar')` instead of `Series.plot('bar',)`.\n",
      "  \"\"\"Entry point for launching an IPython kernel.\n"
     ]
    },
    {
     "data": {
      "text/plain": [
       "Text(0, 0.5, 'Frequency of Restaurants')"
      ]
     },
     "execution_count": 122,
     "metadata": {},
     "output_type": "execute_result"
    },
    {
     "data": {
      "image/png": "[encoded data removed]",
      "text/plain": [
       "<Figure size 432x288 with 1 Axes>"
      ]
     },
     "metadata": {
      "needs_background": "light"
     },
     "output_type": "display_data"
    }
   ],
   "source": [
    "# Frequency of labels\n",
    "reviews['Label'].value_counts().plot('bar')\n",
    "plt.title(\"Frequency of Reviews for Each Label\")\n",
    "plt.xlabel(\"Label\")\n",
    "plt.ylabel(\"Frequency of Restaurants\")"
   ]
  },
  {
   "cell_type": "code",
   "execution_count": 117,
   "metadata": {},
   "outputs": [
    {
     "data": {
      "image/png": "[encoded data removed]",
      "text/plain": [
       "<PIL.Image.Image image mode=RGB size=400x200 at 0x14BDEC76F08>"
      ]
     },
     "execution_count": 117,
     "metadata": {},
     "output_type": "execute_result"
    }
   ],
   "source": [
    "# Creating a WordCloud to analyse the data\n",
    "long_string = ','.join(list(reviews['Review_clean'].values))\n",
    "# Create a WordCloud object\n",
    "wordcloud = WordCloud(background_color=\"white\", max_words=100, contour_width=3, contour_color='steelblue')\n",
    "# Generate a word cloud\n",
    "wordcloud.generate(long_string)\n",
    "# Visualize the word cloud\n",
    "wordcloud.to_image()"
   ]
  },
  {
   "cell_type": "code",
   "execution_count": 118,
   "metadata": {},
   "outputs": [
    {
     "data": {
      "image/png": "[encoded data removed]",
      "text/plain": [
       "<Figure size 1080x667.491 with 1 Axes>"
      ]
     },
     "metadata": {
      "needs_background": "light"
     },
     "output_type": "display_data"
    }
   ],
   "source": [
    "# Getting the top 10 most common words used in reviews\n",
    "sns.set_style('whitegrid')\n",
    "%matplotlib inline\n",
    "\n",
    "# Helper function\n",
    "def plot_10_most_common_words(count_data, count_vectorizer):\n",
    "    import matplotlib.pyplot as plt\n",
    "    words = count_vectorizer.get_feature_names()\n",
    "    total_counts = np.zeros(len(words))\n",
    "    for t in count_data:\n",
    "        total_counts+=t.toarray()[0]\n",
    "    \n",
    "    count_dict = (zip(words, total_counts))\n",
    "    count_dict = sorted(count_dict, key=lambda x:x[1], reverse=True)[0:20]\n",
    "    words = [w[0] for w in count_dict]\n",
    "    counts = [w[1] for w in count_dict]\n",
    "    x_pos = np.arange(len(words)) \n",
    "    \n",
    "    plt.figure(2, figsize=(15, 15/1.6180))\n",
    "    plt.subplot(title='Top 10 Most Common Words used in Reviews')\n",
    "    sns.set_context(\"notebook\", font_scale=1.25, rc={\"lines.linewidth\": 2.5})\n",
    "    sns.barplot(x_pos, counts, palette='muted')\n",
    "    plt.xticks(x_pos, words, rotation=90) \n",
    "    plt.xlabel('Words')\n",
    "    plt.ylabel('Counts')\n",
    "    plt.show()\n",
    "    \n",
    "# Initialise the count vectorizer with the English stop words\n",
    "count_vectorizer = CountVectorizer(stop_words='english')\n",
    "# Fit and transform the processed titles\n",
    "count_data = count_vectorizer.fit_transform(reviews['Review_clean'])\n",
    "# Visualise the 10 most common words\n",
    "plot_10_most_common_words(count_data, count_vectorizer)"
   ]
  }
 ],
 "metadata": {
  "kernelspec": {
   "display_name": "Python 3",
   "language": "python",
   "name": "python3"
  },
  "language_info": {
   "codemirror_mode": {
    "name": "ipython",
    "version": 3
   },
   "file_extension": ".py",
   "mimetype": "text/x-python",
   "name": "python",
   "nbconvert_exporter": "python",
   "pygments_lexer": "ipython3",
   "version": "3.7.4"
  }
 },
 "nbformat": 4,
 "nbformat_minor": 4
}
