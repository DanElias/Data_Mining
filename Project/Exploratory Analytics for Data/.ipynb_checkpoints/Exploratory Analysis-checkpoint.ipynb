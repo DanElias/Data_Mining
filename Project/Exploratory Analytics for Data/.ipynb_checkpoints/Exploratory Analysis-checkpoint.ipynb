{
 "cells": [
  {
   "cell_type": "code",
   "execution_count": 22,
   "metadata": {},
   "outputs": [],
   "source": [
    "import pandas as pd\n",
    "import re\n",
    "import inflect\n",
    "import numpy as np\n",
    "import matplotlib.pyplot as plt\n",
    "import nltk\n",
    "import string\n",
    "from nltk.tokenize import word_tokenize\n",
    "from nltk.corpus import stopwords\n",
    "from wordcloud import WordCloud\n",
    "from sklearn.feature_extraction.text import CountVectorizer\n",
    "import seaborn as sns\n",
    "import spacy\n"
   ]
  },
  {
   "cell_type": "code",
   "execution_count": 24,
   "metadata": {},
   "outputs": [
    {
     "data": {
      "text/html": [
       "<div>\n",
       "<style scoped>\n",
       "    .dataframe tbody tr th:only-of-type {\n",
       "        vertical-align: middle;\n",
       "    }\n",
       "\n",
       "    .dataframe tbody tr th {\n",
       "        vertical-align: top;\n",
       "    }\n",
       "\n",
       "    .dataframe thead th {\n",
       "        text-align: right;\n",
       "    }\n",
       "</style>\n",
       "<table border=\"1\" class=\"dataframe\">\n",
       "  <thead>\n",
       "    <tr style=\"text-align: right;\">\n",
       "      <th></th>\n",
       "      <th>Restaurant</th>\n",
       "      <th>Review</th>\n",
       "      <th>Label</th>\n",
       "      <th>Stars</th>\n",
       "      <th>Date</th>\n",
       "    </tr>\n",
       "  </thead>\n",
       "  <tbody>\n",
       "    <tr>\n",
       "      <td>0</td>\n",
       "      <td>Happy Tummy</td>\n",
       "      <td>Fresh ingredients, friendly peeps and so much ...</td>\n",
       "      <td>1</td>\n",
       "      <td>5</td>\n",
       "      <td>2016-04-06T00:00:00</td>\n",
       "    </tr>\n",
       "    <tr>\n",
       "      <td>1</td>\n",
       "      <td>Cibo Italiano</td>\n",
       "      <td>A small selection of Italian wines by the glas...</td>\n",
       "      <td>1</td>\n",
       "      <td>4</td>\n",
       "      <td>2015-12-24T00:00:00</td>\n",
       "    </tr>\n",
       "    <tr>\n",
       "      <td>2</td>\n",
       "      <td>Yan kee Noodle House</td>\n",
       "      <td>The plus point is that the price remains the s...</td>\n",
       "      <td>1</td>\n",
       "      <td>4</td>\n",
       "      <td>2018-12-28T00:00:00</td>\n",
       "    </tr>\n",
       "    <tr>\n",
       "      <td>3</td>\n",
       "      <td>Clinton Street Baking Company &amp; Restaurant</td>\n",
       "      <td>Same for more?I ordered what I thought was the...</td>\n",
       "      <td>1</td>\n",
       "      <td>2</td>\n",
       "      <td>2018-03-03T00:00:00</td>\n",
       "    </tr>\n",
       "    <tr>\n",
       "      <td>4</td>\n",
       "      <td>Song Fa Bak Kut Teh</td>\n",
       "      <td>I will probably get that again.Have been very ...</td>\n",
       "      <td>5</td>\n",
       "      <td>5</td>\n",
       "      <td>2019-01-05T00:00:00</td>\n",
       "    </tr>\n",
       "  </tbody>\n",
       "</table>\n",
       "</div>"
      ],
      "text/plain": [
       "                                   Restaurant  \\\n",
       "0                                 Happy Tummy   \n",
       "1                               Cibo Italiano   \n",
       "2                        Yan kee Noodle House   \n",
       "3  Clinton Street Baking Company & Restaurant   \n",
       "4                         Song Fa Bak Kut Teh   \n",
       "\n",
       "                                              Review  Label  Stars  \\\n",
       "0  Fresh ingredients, friendly peeps and so much ...      1      5   \n",
       "1  A small selection of Italian wines by the glas...      1      4   \n",
       "2  The plus point is that the price remains the s...      1      4   \n",
       "3  Same for more?I ordered what I thought was the...      1      2   \n",
       "4  I will probably get that again.Have been very ...      5      5   \n",
       "\n",
       "                  Date  \n",
       "0  2016-04-06T00:00:00  \n",
       "1  2015-12-24T00:00:00  \n",
       "2  2018-12-28T00:00:00  \n",
       "3  2018-03-03T00:00:00  \n",
       "4  2019-01-05T00:00:00  "
      ]
     },
     "execution_count": 24,
     "metadata": {},
     "output_type": "execute_result"
    }
   ],
   "source": [
    "reviews = pd.read_csv(\"./train_labelled.csv\", encoding = 'unicode_escape')\n",
    "reviews.head()"
   ]
  },
  {
   "cell_type": "code",
   "execution_count": 25,
   "metadata": {},
   "outputs": [
    {
     "data": {
      "text/html": [
       "<div>\n",
       "<style scoped>\n",
       "    .dataframe tbody tr th:only-of-type {\n",
       "        vertical-align: middle;\n",
       "    }\n",
       "\n",
       "    .dataframe tbody tr th {\n",
       "        vertical-align: top;\n",
       "    }\n",
       "\n",
       "    .dataframe thead th {\n",
       "        text-align: right;\n",
       "    }\n",
       "</style>\n",
       "<table border=\"1\" class=\"dataframe\">\n",
       "  <thead>\n",
       "    <tr style=\"text-align: right;\">\n",
       "      <th></th>\n",
       "      <th>Restaurant</th>\n",
       "      <th>Review</th>\n",
       "      <th>Label</th>\n",
       "      <th>Stars</th>\n",
       "      <th>Date</th>\n",
       "    </tr>\n",
       "  </thead>\n",
       "  <tbody>\n",
       "    <tr>\n",
       "      <td>2825</td>\n",
       "      <td>Buona Terra</td>\n",
       "      <td>We went there in a weekday night.</td>\n",
       "      <td>5</td>\n",
       "      <td>4</td>\n",
       "      <td>2013-07-14T00:00:00</td>\n",
       "    </tr>\n",
       "    <tr>\n",
       "      <td>2826</td>\n",
       "      <td>Bigmama</td>\n",
       "      <td>Came here for a birthday celebration with my m...</td>\n",
       "      <td>5</td>\n",
       "      <td>4</td>\n",
       "      <td>2015-09-04T00:00:00</td>\n",
       "    </tr>\n",
       "    <tr>\n",
       "      <td>2827</td>\n",
       "      <td>Tapas Club</td>\n",
       "      <td>Caters to vegetarians too.</td>\n",
       "      <td>5</td>\n",
       "      <td>5</td>\n",
       "      <td>2018-11-10T00:00:00</td>\n",
       "    </tr>\n",
       "    <tr>\n",
       "      <td>2828</td>\n",
       "      <td>Tolido's Espresso Nook</td>\n",
       "      <td>My friend really wanted to come back to try th...</td>\n",
       "      <td>5</td>\n",
       "      <td>5</td>\n",
       "      <td>2019-07-21T00:00:00</td>\n",
       "    </tr>\n",
       "    <tr>\n",
       "      <td>2829</td>\n",
       "      <td>Riders Cafe</td>\n",
       "      <td>The only issue with this place is you have to ...</td>\n",
       "      <td>5</td>\n",
       "      <td>4</td>\n",
       "      <td>2015-12-12T00:00:00</td>\n",
       "    </tr>\n",
       "  </tbody>\n",
       "</table>\n",
       "</div>"
      ],
      "text/plain": [
       "                  Restaurant  \\\n",
       "2825             Buona Terra   \n",
       "2826                 Bigmama   \n",
       "2827              Tapas Club   \n",
       "2828  Tolido's Espresso Nook   \n",
       "2829             Riders Cafe   \n",
       "\n",
       "                                                 Review  Label  Stars  \\\n",
       "2825                  We went there in a weekday night.      5      4   \n",
       "2826  Came here for a birthday celebration with my m...      5      4   \n",
       "2827                         Caters to vegetarians too.      5      5   \n",
       "2828  My friend really wanted to come back to try th...      5      5   \n",
       "2829  The only issue with this place is you have to ...      5      4   \n",
       "\n",
       "                     Date  \n",
       "2825  2013-07-14T00:00:00  \n",
       "2826  2015-09-04T00:00:00  \n",
       "2827  2018-11-10T00:00:00  \n",
       "2828  2019-07-21T00:00:00  \n",
       "2829  2015-12-12T00:00:00  "
      ]
     },
     "execution_count": 25,
     "metadata": {},
     "output_type": "execute_result"
    }
   ],
   "source": [
    "reviews.tail()"
   ]
  },
  {
   "cell_type": "code",
   "execution_count": 26,
   "metadata": {},
   "outputs": [
    {
     "data": {
      "text/plain": [
       "(2830, 5)"
      ]
     },
     "execution_count": 26,
     "metadata": {},
     "output_type": "execute_result"
    }
   ],
   "source": [
    "reviews.shape"
   ]
  },
  {
   "cell_type": "code",
   "execution_count": 5,
   "metadata": {},
   "outputs": [
    {
     "data": {
      "text/html": [
       "<div>\n",
       "<style scoped>\n",
       "    .dataframe tbody tr th:only-of-type {\n",
       "        vertical-align: middle;\n",
       "    }\n",
       "\n",
       "    .dataframe tbody tr th {\n",
       "        vertical-align: top;\n",
       "    }\n",
       "\n",
       "    .dataframe thead th {\n",
       "        text-align: right;\n",
       "    }\n",
       "</style>\n",
       "<table border=\"1\" class=\"dataframe\">\n",
       "  <thead>\n",
       "    <tr style=\"text-align: right;\">\n",
       "      <th></th>\n",
       "      <th>restaurant</th>\n",
       "      <th>content</th>\n",
       "      <th>stars</th>\n",
       "      <th>date</th>\n",
       "      <th>content_clean</th>\n",
       "    </tr>\n",
       "  </thead>\n",
       "  <tbody>\n",
       "    <tr>\n",
       "      <th>0</th>\n",
       "      <td>Sungei Road Laksa</td>\n",
       "      <td>The food has been phenomenal Laksa was awesome...</td>\n",
       "      <td>5</td>\n",
       "      <td>2018-12-18T00:00:00</td>\n",
       "      <td>food phenomenal laksa awesome cheap yet heavy</td>\n",
       "    </tr>\n",
       "    <tr>\n",
       "      <th>1</th>\n",
       "      <td>Sungei Road Laksa</td>\n",
       "      <td>When we got to this hawker center, we immediat...</td>\n",
       "      <td>4</td>\n",
       "      <td>2019-12-21T00:00:00</td>\n",
       "      <td>got hawker center immediately saw sungei road ...</td>\n",
       "    </tr>\n",
       "    <tr>\n",
       "      <th>2</th>\n",
       "      <td>Sungei Road Laksa</td>\n",
       "      <td>Laksa is a popular Southeast Asia spicy noodle...</td>\n",
       "      <td>4</td>\n",
       "      <td>2019-05-16T00:00:00</td>\n",
       "      <td>laksa popular southeast asia spicy noodle soup...</td>\n",
       "    </tr>\n",
       "    <tr>\n",
       "      <th>3</th>\n",
       "      <td>Sungei Road Laksa</td>\n",
       "      <td>Laska is not my thing and after trying this st...</td>\n",
       "      <td>4</td>\n",
       "      <td>2019-04-28T00:00:00</td>\n",
       "      <td>laska thing trying still thing love noodles so...</td>\n",
       "    </tr>\n",
       "    <tr>\n",
       "      <th>4</th>\n",
       "      <td>Sungei Road Laksa</td>\n",
       "      <td>Laksa here is so good! Tasty and rich in flavo...</td>\n",
       "      <td>5</td>\n",
       "      <td>2019-01-03T00:00:00</td>\n",
       "      <td>laksa good tasty rich flavor line always long ...</td>\n",
       "    </tr>\n",
       "  </tbody>\n",
       "</table>\n",
       "</div>"
      ],
      "text/plain": [
       "          restaurant                                            content  \\\n",
       "0  Sungei Road Laksa  The food has been phenomenal Laksa was awesome...   \n",
       "1  Sungei Road Laksa  When we got to this hawker center, we immediat...   \n",
       "2  Sungei Road Laksa  Laksa is a popular Southeast Asia spicy noodle...   \n",
       "3  Sungei Road Laksa  Laska is not my thing and after trying this st...   \n",
       "4  Sungei Road Laksa  Laksa here is so good! Tasty and rich in flavo...   \n",
       "\n",
       "   stars                 date  \\\n",
       "0      5  2018-12-18T00:00:00   \n",
       "1      4  2019-12-21T00:00:00   \n",
       "2      4  2019-05-16T00:00:00   \n",
       "3      4  2019-04-28T00:00:00   \n",
       "4      5  2019-01-03T00:00:00   \n",
       "\n",
       "                                       content_clean  \n",
       "0      food phenomenal laksa awesome cheap yet heavy  \n",
       "1  got hawker center immediately saw sungei road ...  \n",
       "2  laksa popular southeast asia spicy noodle soup...  \n",
       "3  laska thing trying still thing love noodles so...  \n",
       "4  laksa good tasty rich flavor line always long ...  "
      ]
     },
     "execution_count": 5,
     "metadata": {},
     "output_type": "execute_result"
    }
   ],
   "source": [
    "# Cleaning the Data\n",
    "def clean(data):\n",
    "    \n",
    "    # Removing leading and trailing white spaces\n",
    "    data = str(data).strip()\n",
    "    \n",
    "    # Converting all text to lower case\n",
    "    data = data.lower() \n",
    "    \n",
    "    # Removing all the numbers\n",
    "    word = data.split(' ')\n",
    "    #p = inflect.engine()\n",
    "    #p.number_to_words(word)\n",
    "    word = ' '.join([i for i in word if not i.isdigit()])\n",
    "    word = re.sub(r'\\d+','' , word)\n",
    "    \n",
    "    # Removing the word \"one\" from reviews\n",
    "    word = re.sub('one', '', word)\n",
    "    \n",
    "    # Removing Punctuation\n",
    "    translator = str.maketrans('', '', string.punctuation)\n",
    "    word = word.translate(translator)\n",
    "    \n",
    "    # Removing Stopwords\n",
    "    stop_words = set(stopwords.words('english'))\n",
    "    tokens = word_tokenize(word)\n",
    "    word = ' '.join([i for i in tokens if not i in stop_words])\n",
    "    \n",
    "    # Removing all the odd characters with the aprostroe etc\n",
    "    word = re.sub(r'([^\\s\\w]|_)+', \"\", word)\n",
    "    word = re.sub(r'ý+', '', word)\n",
    "\n",
    "\n",
    "    return word\n",
    "\n",
    "# clean text data\n",
    "reviews[\"content_clean\"] = reviews[\"content\"].apply(lambda x: clean(x))\n",
    "reviews.head()"
   ]
  },
  {
   "cell_type": "code",
   "execution_count": 10,
   "metadata": {},
   "outputs": [],
   "source": [
    "restaurant_names = []\n",
    "\n",
    "for i in reviews['restaurant']:\n",
    "    if not i in restaurant_names:\n",
    "        restaurant_names.append(i)\n",
    "        \n",
    "restaurant_dict = dict()\n",
    "\n",
    "for index, i in enumerate(restaurant_names):\n",
    "    restaurant_dict[i] = index\n",
    "    \n",
    "reviews['enum_restaurant'] = reviews['restaurant'].apply(lambda x : restaurant_dict[x])"
   ]
  },
  {
   "cell_type": "code",
   "execution_count": 86,
   "metadata": {},
   "outputs": [
    {
     "data": {
      "text/plain": [
       "Text(0,0.5,'Frequency of Reviews')"
      ]
     },
     "execution_count": 86,
     "metadata": {},
     "output_type": "execute_result"
    },
    {
     "data": {
      "image/png": "[encoded data removed]",
      "text/plain": [
       "<Figure size 432x288 with 1 Axes>"
      ]
     },
     "metadata": {
      "needs_background": "light"
     },
     "output_type": "display_data"
    }
   ],
   "source": [
    "plt.hist(reviews['enum_restaurant'], color = 'blue', edgecolor = 'black',bins = int(180/5))\n",
    "plt.title(\"Frequency of Reviews each Restaurant\")\n",
    "plt.xlabel(\"enum_restaurant\")\n",
    "plt.ylabel(\"Frequency of Reviews\")"
   ]
  },
  {
   "cell_type": "code",
   "execution_count": 26,
   "metadata": {},
   "outputs": [
    {
     "data": {
      "text/plain": [
       "Text(0,0.5,'Frequency of Restaurants')"
      ]
     },
     "execution_count": 26,
     "metadata": {},
     "output_type": "execute_result"
    },
    {
     "data": {
      "image/png": "[encoded data removed]",
      "text/plain": [
       "<Figure size 432x288 with 1 Axes>"
      ]
     },
     "metadata": {
      "needs_background": "light"
     },
     "output_type": "display_data"
    }
   ],
   "source": [
    "reviews['stars'].value_counts().plot('bar')\n",
    "plt.title(\"Frequency of Reviews for each Star\")\n",
    "plt.xlabel(\"Stars Awarded\")\n",
    "plt.ylabel(\"Frequency of Restaurants\")"
   ]
  },
  {
   "cell_type": "code",
   "execution_count": 7,
   "metadata": {},
   "outputs": [
    {
     "data": {
      "image/png": "[encoded data removed]",
      "text/plain": [
       "<PIL.Image.Image image mode=RGB size=400x200 at 0x25F317C49B0>"
      ]
     },
     "execution_count": 7,
     "metadata": {},
     "output_type": "execute_result"
    }
   ],
   "source": [
    "# Creating a WordCloud to analyse the data\n",
    "long_string = ','.join(list(reviews['content_clean'].values))\n",
    "# Create a WordCloud object\n",
    "wordcloud = WordCloud(background_color=\"white\", max_words=100, contour_width=3, contour_color='steelblue')\n",
    "# Generate a word cloud\n",
    "wordcloud.generate(long_string)\n",
    "# Visualize the word cloud\n",
    "wordcloud.to_image()"
   ]
  },
  {
   "cell_type": "code",
   "execution_count": 6,
   "metadata": {},
   "outputs": [
    {
     "data": {
      "image/png": "[encoded data removed]",
      "text/plain": [
       "<Figure size 1080x667.491 with 1 Axes>"
      ]
     },
     "metadata": {
      "needs_background": "light"
     },
     "output_type": "display_data"
    }
   ],
   "source": [
    "sns.set_style('whitegrid')\n",
    "%matplotlib inline\n",
    "\n",
    "# Helper function\n",
    "def plot_10_most_common_words(count_data, count_vectorizer):\n",
    "    import matplotlib.pyplot as plt\n",
    "    words = count_vectorizer.get_feature_names()\n",
    "    total_counts = np.zeros(len(words))\n",
    "    for t in count_data:\n",
    "        total_counts+=t.toarray()[0]\n",
    "    \n",
    "    count_dict = (zip(words, total_counts))\n",
    "    count_dict = sorted(count_dict, key=lambda x:x[1], reverse=True)[0:20]\n",
    "    words = [w[0] for w in count_dict]\n",
    "    counts = [w[1] for w in count_dict]\n",
    "    x_pos = np.arange(len(words)) \n",
    "    \n",
    "    plt.figure(2, figsize=(15, 15/1.6180))\n",
    "    plt.subplot(title='10 most common words')\n",
    "    sns.set_context(\"notebook\", font_scale=1.25, rc={\"lines.linewidth\": 2.5})\n",
    "    sns.barplot(x_pos, counts, palette='husl')\n",
    "    plt.xticks(x_pos, words, rotation=90) \n",
    "    plt.xlabel('words')\n",
    "    plt.ylabel('counts')\n",
    "    plt.show()\n",
    "    \n",
    "# Initialise the count vectorizer with the English stop words\n",
    "count_vectorizer = CountVectorizer(stop_words='english')\n",
    "# Fit and transform the processed titles\n",
    "count_data = count_vectorizer.fit_transform(reviews['content_clean'])\n",
    "# Visualise the 10 most common words\n",
    "plot_10_most_common_words(count_data, count_vectorizer)"
   ]
  },
  {
   "cell_type": "code",
   "execution_count": 112,
   "metadata": {},
   "outputs": [],
   "source": [
    "import nltk\n",
    "from nltk.stem import WordNetLemmatizer\n",
    "from nltk.corpus import wordnet\n",
    "\n",
    "#example text text = 'What can I say about this place. The staff of these restaurants is nice and the eggplant is not bad'\n",
    "\n",
    "class Splitter(object):\n",
    "    \"\"\"\n",
    "    split the document into sentences and tokenize each sentence\n",
    "    \"\"\"\n",
    "    def __init__(self):\n",
    "        self.splitter = nltk.data.load('tokenizers/punkt/english.pickle')\n",
    "        self.tokenizer = nltk.tokenize.TreebankWordTokenizer()\n",
    "\n",
    "    def split(self,text):\n",
    "        \"\"\"\n",
    "        out : ['What', 'can', 'I', 'say', 'about', 'this', 'place', '.']\n",
    "        \"\"\"\n",
    "        # split into single sentence\n",
    "        sentences = self.splitter.tokenize(text)\n",
    "        # tokenization in each sentences\n",
    "        tokens = [self.tokenizer.tokenize(sent) for sent in sentences]\n",
    "        return tokens\n",
    "\n",
    "\n",
    "class LemmatizationWithPOSTagger(object):\n",
    "    def __init__(self):\n",
    "        pass\n",
    "    def get_wordnet_pos(self,treebank_tag):\n",
    "        \"\"\"\n",
    "        return WORDNET POS compliance to WORDENT lemmatization (a,n,r,v) \n",
    "        \"\"\"\n",
    "        if treebank_tag.startswith('J'):\n",
    "            return wordnet.ADJ\n",
    "        elif treebank_tag.startswith('V'):\n",
    "            return wordnet.VERB\n",
    "        elif treebank_tag.startswith('N'):\n",
    "            return wordnet.NOUN\n",
    "        elif treebank_tag.startswith('R'):\n",
    "            return wordnet.ADV\n",
    "        else:\n",
    "            # As default pos in lemmatization is Noun\n",
    "            return wordnet.NOUN\n",
    "\n",
    "    def pos_tag(self,tokens):\n",
    "        # find the pos tagginf for each tokens [('What', 'WP'), ('can', 'MD'), ('I', 'PRP') ....\n",
    "        pos_tokens = [nltk.pos_tag(token) for token in tokens]\n",
    "\n",
    "        # lemmatization using pos tagg   \n",
    "        # convert into feature set of [('What', 'What', ['WP']), ('can', 'can', ['MD']), ... ie [original WORD, Lemmatized word, POS tag]\n",
    "        pos_tokens = [ [(word, lemmatizer.lemmatize(word,self.get_wordnet_pos(pos_tag)), [pos_tag]) for (word,pos_tag) in pos] for pos in pos_tokens]\n",
    "        return pos_tokens[0]\n",
    "\n",
    "lemmatizer = WordNetLemmatizer()\n",
    "splitter = Splitter()\n",
    "lemmatization_using_pos_tagger = LemmatizationWithPOSTagger()\n",
    "\n",
    "#step 1 split document into sentence followed by tokenization\n",
    "reviews[\"content_tokenized\"] = reviews[\"content_clean\"].apply(lambda x: splitter.split(x))\n",
    "\n",
    "#step 2 lemmatization using pos tagger \n",
    "reviews[\"content_pos_tagged\"] = reviews[\"content_tokenized\"].apply(lambda x: lemmatization_using_pos_tagger.pos_tag(x))"
   ]
  },
  {
   "cell_type": "code",
   "execution_count": 113,
   "metadata": {
    "scrolled": false
   },
   "outputs": [
    {
     "data": {
      "text/html": [
       "<div>\n",
       "<style scoped>\n",
       "    .dataframe tbody tr th:only-of-type {\n",
       "        vertical-align: middle;\n",
       "    }\n",
       "\n",
       "    .dataframe tbody tr th {\n",
       "        vertical-align: top;\n",
       "    }\n",
       "\n",
       "    .dataframe thead th {\n",
       "        text-align: right;\n",
       "    }\n",
       "</style>\n",
       "<table border=\"1\" class=\"dataframe\">\n",
       "  <thead>\n",
       "    <tr style=\"text-align: right;\">\n",
       "      <th></th>\n",
       "      <th>restaurant</th>\n",
       "      <th>content</th>\n",
       "      <th>stars</th>\n",
       "      <th>date</th>\n",
       "      <th>content_clean</th>\n",
       "      <th>content_tokenized</th>\n",
       "      <th>content_pos_tagged</th>\n",
       "    </tr>\n",
       "  </thead>\n",
       "  <tbody>\n",
       "    <tr>\n",
       "      <th>0</th>\n",
       "      <td>Sungei Road Laksa</td>\n",
       "      <td>The food has been phenomenal Laksa was awesome...</td>\n",
       "      <td>5</td>\n",
       "      <td>2018-12-18T00:00:00</td>\n",
       "      <td>food phenomenal laksa awesome cheap yet heavy</td>\n",
       "      <td>[[food, phenomenal, laksa, awesome, cheap, yet...</td>\n",
       "      <td>[(food, food, [NN]), (phenomenal, phenomenal, ...</td>\n",
       "    </tr>\n",
       "    <tr>\n",
       "      <th>1</th>\n",
       "      <td>Sungei Road Laksa</td>\n",
       "      <td>When we got to this hawker center, we immediat...</td>\n",
       "      <td>4</td>\n",
       "      <td>2019-12-21T00:00:00</td>\n",
       "      <td>got hawker center immediately saw sungei road ...</td>\n",
       "      <td>[[got, hawker, center, immediately, saw, sunge...</td>\n",
       "      <td>[(got, get, [VBD]), (hawker, hawker, [NN]), (c...</td>\n",
       "    </tr>\n",
       "    <tr>\n",
       "      <th>2</th>\n",
       "      <td>Sungei Road Laksa</td>\n",
       "      <td>Laksa is a popular Southeast Asia spicy noodle...</td>\n",
       "      <td>4</td>\n",
       "      <td>2019-05-16T00:00:00</td>\n",
       "      <td>laksa popular southeast asia spicy noodle soup...</td>\n",
       "      <td>[[laksa, popular, southeast, asia, spicy, nood...</td>\n",
       "      <td>[(laksa, laksa, [NN]), (popular, popular, [JJ]...</td>\n",
       "    </tr>\n",
       "    <tr>\n",
       "      <th>3</th>\n",
       "      <td>Sungei Road Laksa</td>\n",
       "      <td>Laska is not my thing and after trying this st...</td>\n",
       "      <td>4</td>\n",
       "      <td>2019-04-28T00:00:00</td>\n",
       "      <td>laska thing trying still thing love noodles so...</td>\n",
       "      <td>[[laska, thing, trying, still, thing, love, no...</td>\n",
       "      <td>[(laska, laska, [JJ]), (thing, thing, [NN]), (...</td>\n",
       "    </tr>\n",
       "    <tr>\n",
       "      <th>4</th>\n",
       "      <td>Sungei Road Laksa</td>\n",
       "      <td>Laksa here is so good! Tasty and rich in flavo...</td>\n",
       "      <td>5</td>\n",
       "      <td>2019-01-03T00:00:00</td>\n",
       "      <td>laksa good tasty rich flavor line always long ...</td>\n",
       "      <td>[[laksa, good, tasty, rich, flavor, line, alwa...</td>\n",
       "      <td>[(laksa, laksa, [RB]), (good, good, [JJ]), (ta...</td>\n",
       "    </tr>\n",
       "  </tbody>\n",
       "</table>\n",
       "</div>"
      ],
      "text/plain": [
       "          restaurant                                            content  \\\n",
       "0  Sungei Road Laksa  The food has been phenomenal Laksa was awesome...   \n",
       "1  Sungei Road Laksa  When we got to this hawker center, we immediat...   \n",
       "2  Sungei Road Laksa  Laksa is a popular Southeast Asia spicy noodle...   \n",
       "3  Sungei Road Laksa  Laska is not my thing and after trying this st...   \n",
       "4  Sungei Road Laksa  Laksa here is so good! Tasty and rich in flavo...   \n",
       "\n",
       "   stars                 date  \\\n",
       "0      5  2018-12-18T00:00:00   \n",
       "1      4  2019-12-21T00:00:00   \n",
       "2      4  2019-05-16T00:00:00   \n",
       "3      4  2019-04-28T00:00:00   \n",
       "4      5  2019-01-03T00:00:00   \n",
       "\n",
       "                                       content_clean  \\\n",
       "0      food phenomenal laksa awesome cheap yet heavy   \n",
       "1  got hawker center immediately saw sungei road ...   \n",
       "2  laksa popular southeast asia spicy noodle soup...   \n",
       "3  laska thing trying still thing love noodles so...   \n",
       "4  laksa good tasty rich flavor line always long ...   \n",
       "\n",
       "                                   content_tokenized  \\\n",
       "0  [[food, phenomenal, laksa, awesome, cheap, yet...   \n",
       "1  [[got, hawker, center, immediately, saw, sunge...   \n",
       "2  [[laksa, popular, southeast, asia, spicy, nood...   \n",
       "3  [[laska, thing, trying, still, thing, love, no...   \n",
       "4  [[laksa, good, tasty, rich, flavor, line, alwa...   \n",
       "\n",
       "                                  content_pos_tagged  \n",
       "0  [(food, food, [NN]), (phenomenal, phenomenal, ...  \n",
       "1  [(got, get, [VBD]), (hawker, hawker, [NN]), (c...  \n",
       "2  [(laksa, laksa, [NN]), (popular, popular, [JJ]...  \n",
       "3  [(laska, laska, [JJ]), (thing, thing, [NN]), (...  \n",
       "4  [(laksa, laksa, [RB]), (good, good, [JJ]), (ta...  "
      ]
     },
     "execution_count": 113,
     "metadata": {},
     "output_type": "execute_result"
    }
   ],
   "source": [
    "reviews.head()"
   ]
  },
  {
   "cell_type": "code",
   "execution_count": 127,
   "metadata": {},
   "outputs": [
    {
     "data": {
      "text/plain": [
       "<generator object <genexpr> at 0x0000018E751D8480>"
      ]
     },
     "execution_count": 127,
     "metadata": {},
     "output_type": "execute_result"
    }
   ],
   "source": [
    "def get_pos_tags(column):\n",
    "    for lst in column:\n",
    "        for "
   ]
  },
  {
   "cell_type": "code",
   "execution_count": 130,
   "metadata": {},
   "outputs": [
    {
     "ename": "SyntaxError",
     "evalue": "invalid syntax (<ipython-input-130-1b525335879a>, line 2)",
     "output_type": "error",
     "traceback": [
      "\u001b[1;36m  File \u001b[1;32m\"<ipython-input-130-1b525335879a>\"\u001b[1;36m, line \u001b[1;32m2\u001b[0m\n\u001b[1;33m    long_string = ','.join(list(x[1] in reviews['content_pos_tagged'].iloc[0] if x[2][0] == 'NN')\u001b[0m\n\u001b[1;37m                                                                                                ^\u001b[0m\n\u001b[1;31mSyntaxError\u001b[0m\u001b[1;31m:\u001b[0m invalid syntax\n"
     ]
    }
   ],
   "source": [
    "# Creating a WordCloud to analyse the data\n",
    "long_string = ','.join(list(x[1] in reviews['content_pos_tagged'].iloc[0] if x[2][0] == 'NN')\n",
    "# Create a WordCloud object\n",
    "wordcloud = WordCloud(background_color=\"white\", max_words=100, contour_width=3, contour_color='steelblue')\n",
    "# Generate a word cloud\n",
    "wordcloud.generate(long_string)\n",
    "# Visualize the word cloud\n",
    "wordcloud.to_image()"
   ]
  }
 ],
 "metadata": {
  "kernelspec": {
   "display_name": "Python 3",
   "language": "python",
   "name": "python3"
  },
  "language_info": {
   "codemirror_mode": {
    "name": "ipython",
    "version": 3
   },
   "file_extension": ".py",
   "mimetype": "text/x-python",
   "name": "python",
   "nbconvert_exporter": "python",
   "pygments_lexer": "ipython3",
   "version": "3.7.4"
  }
 },
 "nbformat": 4,
 "nbformat_minor": 4
}
