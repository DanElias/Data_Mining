{
 "cells": [
  {
   "cell_type": "code",
   "execution_count": 25,
   "metadata": {},
   "outputs": [
    {
     "data": {
      "text/html": [
       "<div>\n",
       "<style scoped>\n",
       "    .dataframe tbody tr th:only-of-type {\n",
       "        vertical-align: middle;\n",
       "    }\n",
       "\n",
       "    .dataframe tbody tr th {\n",
       "        vertical-align: top;\n",
       "    }\n",
       "\n",
       "    .dataframe thead th {\n",
       "        text-align: right;\n",
       "    }\n",
       "</style>\n",
       "<table border=\"1\" class=\"dataframe\">\n",
       "  <thead>\n",
       "    <tr style=\"text-align: right;\">\n",
       "      <th></th>\n",
       "      <th>restaurant</th>\n",
       "      <th>content</th>\n",
       "      <th>stars</th>\n",
       "      <th>date</th>\n",
       "    </tr>\n",
       "  </thead>\n",
       "  <tbody>\n",
       "    <tr>\n",
       "      <th>0</th>\n",
       "      <td>Sungei Road Laksa</td>\n",
       "      <td>The food has been phenomenal Laksa was awesome...</td>\n",
       "      <td>5</td>\n",
       "      <td>2018-12-18T00:00:00</td>\n",
       "    </tr>\n",
       "    <tr>\n",
       "      <th>1</th>\n",
       "      <td>Sungei Road Laksa</td>\n",
       "      <td>When we got to this hawker center, we immediat...</td>\n",
       "      <td>4</td>\n",
       "      <td>2019-12-21T00:00:00</td>\n",
       "    </tr>\n",
       "    <tr>\n",
       "      <th>2</th>\n",
       "      <td>Sungei Road Laksa</td>\n",
       "      <td>Laksa is a popular Southeast Asia spicy noodle...</td>\n",
       "      <td>4</td>\n",
       "      <td>2019-05-16T00:00:00</td>\n",
       "    </tr>\n",
       "    <tr>\n",
       "      <th>3</th>\n",
       "      <td>Sungei Road Laksa</td>\n",
       "      <td>Laska is not my thing and after trying this st...</td>\n",
       "      <td>4</td>\n",
       "      <td>2019-04-28T00:00:00</td>\n",
       "    </tr>\n",
       "    <tr>\n",
       "      <th>4</th>\n",
       "      <td>Sungei Road Laksa</td>\n",
       "      <td>Laksa here is so good! Tasty and rich in flavo...</td>\n",
       "      <td>5</td>\n",
       "      <td>2019-01-03T00:00:00</td>\n",
       "    </tr>\n",
       "  </tbody>\n",
       "</table>\n",
       "</div>"
      ],
      "text/plain": [
       "          restaurant                                            content  \\\n",
       "0  Sungei Road Laksa  The food has been phenomenal Laksa was awesome...   \n",
       "1  Sungei Road Laksa  When we got to this hawker center, we immediat...   \n",
       "2  Sungei Road Laksa  Laksa is a popular Southeast Asia spicy noodle...   \n",
       "3  Sungei Road Laksa  Laska is not my thing and after trying this st...   \n",
       "4  Sungei Road Laksa  Laksa here is so good! Tasty and rich in flavo...   \n",
       "\n",
       "   stars                 date  \n",
       "0      5  2018-12-18T00:00:00  \n",
       "1      4  2019-12-21T00:00:00  \n",
       "2      4  2019-05-16T00:00:00  \n",
       "3      4  2019-04-28T00:00:00  \n",
       "4      5  2019-01-03T00:00:00  "
      ]
     },
     "execution_count": 25,
     "metadata": {},
     "output_type": "execute_result"
    }
   ],
   "source": [
    "import pandas as pd\n",
    "import re\n",
    "import inflect\n",
    "import numpy as np\n",
    "import matplotlib.pyplot as plt\n",
    "import nltk\n",
    "import string\n",
    "from nltk.tokenize import word_tokenize\n",
    "from nltk.corpus import stopwords\n",
    "\n",
    "reviews = pd.read_csv(\"yelp_singapore_restaurants_reviews.csv\", encoding = \"ISO-8859-1\")\n",
    "reviews.head()"
   ]
  },
  {
   "cell_type": "code",
   "execution_count": 57,
   "metadata": {},
   "outputs": [
    {
     "data": {
      "text/html": [
       "<div>\n",
       "<style scoped>\n",
       "    .dataframe tbody tr th:only-of-type {\n",
       "        vertical-align: middle;\n",
       "    }\n",
       "\n",
       "    .dataframe tbody tr th {\n",
       "        vertical-align: top;\n",
       "    }\n",
       "\n",
       "    .dataframe thead th {\n",
       "        text-align: right;\n",
       "    }\n",
       "</style>\n",
       "<table border=\"1\" class=\"dataframe\">\n",
       "  <thead>\n",
       "    <tr style=\"text-align: right;\">\n",
       "      <th></th>\n",
       "      <th>restaurant</th>\n",
       "      <th>content</th>\n",
       "      <th>stars</th>\n",
       "      <th>date</th>\n",
       "    </tr>\n",
       "  </thead>\n",
       "  <tbody>\n",
       "    <tr>\n",
       "      <th>10121</th>\n",
       "      <td>Ocean Curry Fish Head</td>\n",
       "      <td>I'm surprised at how good the fish head curry ...</td>\n",
       "      <td>5</td>\n",
       "      <td>2016-01-31T00:00:00</td>\n",
       "    </tr>\n",
       "    <tr>\n",
       "      <th>10122</th>\n",
       "      <td>Ocean Curry Fish Head</td>\n",
       "      <td>Absolutely yummy goodness. ýýýýThe restaurant ...</td>\n",
       "      <td>4</td>\n",
       "      <td>2018-07-01T00:00:00</td>\n",
       "    </tr>\n",
       "    <tr>\n",
       "      <th>10123</th>\n",
       "      <td>Ocean Curry Fish Head</td>\n",
       "      <td>$45 for 2... curry fishhead plus 3 side dishes...</td>\n",
       "      <td>4</td>\n",
       "      <td>2014-12-31T00:00:00</td>\n",
       "    </tr>\n",
       "    <tr>\n",
       "      <th>10124</th>\n",
       "      <td>Ocean Curry Fish Head</td>\n",
       "      <td>I'll be frank to say that the food is not chea...</td>\n",
       "      <td>4</td>\n",
       "      <td>2014-12-31T00:00:00</td>\n",
       "    </tr>\n",
       "    <tr>\n",
       "      <th>10125</th>\n",
       "      <td>Shan E Punjab</td>\n",
       "      <td>This is hawker stall food at its finest. We ha...</td>\n",
       "      <td>5</td>\n",
       "      <td>2018-07-23T00:00:00</td>\n",
       "    </tr>\n",
       "  </tbody>\n",
       "</table>\n",
       "</div>"
      ],
      "text/plain": [
       "                  restaurant  \\\n",
       "10121  Ocean Curry Fish Head   \n",
       "10122  Ocean Curry Fish Head   \n",
       "10123  Ocean Curry Fish Head   \n",
       "10124  Ocean Curry Fish Head   \n",
       "10125          Shan E Punjab   \n",
       "\n",
       "                                                 content  stars  \\\n",
       "10121  I'm surprised at how good the fish head curry ...      5   \n",
       "10122  Absolutely yummy goodness. ýýýýThe restaurant ...      4   \n",
       "10123  $45 for 2... curry fishhead plus 3 side dishes...      4   \n",
       "10124  I'll be frank to say that the food is not chea...      4   \n",
       "10125  This is hawker stall food at its finest. We ha...      5   \n",
       "\n",
       "                      date  \n",
       "10121  2016-01-31T00:00:00  \n",
       "10122  2018-07-01T00:00:00  \n",
       "10123  2014-12-31T00:00:00  \n",
       "10124  2014-12-31T00:00:00  \n",
       "10125  2018-07-23T00:00:00  "
      ]
     },
     "execution_count": 57,
     "metadata": {},
     "output_type": "execute_result"
    }
   ],
   "source": [
    "reviews.tail()"
   ]
  },
  {
   "cell_type": "code",
   "execution_count": 53,
   "metadata": {},
   "outputs": [
    {
     "data": {
      "text/plain": [
       "(10126, 4)"
      ]
     },
     "execution_count": 53,
     "metadata": {},
     "output_type": "execute_result"
    }
   ],
   "source": [
    "reviews.shape"
   ]
  },
  {
   "cell_type": "code",
   "execution_count": 23,
   "metadata": {},
   "outputs": [
    {
     "data": {
      "text/html": [
       "<div>\n",
       "<style scoped>\n",
       "    .dataframe tbody tr th:only-of-type {\n",
       "        vertical-align: middle;\n",
       "    }\n",
       "\n",
       "    .dataframe tbody tr th {\n",
       "        vertical-align: top;\n",
       "    }\n",
       "\n",
       "    .dataframe thead th {\n",
       "        text-align: right;\n",
       "    }\n",
       "</style>\n",
       "<table border=\"1\" class=\"dataframe\">\n",
       "  <thead>\n",
       "    <tr style=\"text-align: right;\">\n",
       "      <th></th>\n",
       "      <th>restaurant</th>\n",
       "      <th>content</th>\n",
       "      <th>stars</th>\n",
       "      <th>date</th>\n",
       "      <th>content_clean</th>\n",
       "    </tr>\n",
       "  </thead>\n",
       "  <tbody>\n",
       "    <tr>\n",
       "      <th>0</th>\n",
       "      <td>Sungei Road Laksa</td>\n",
       "      <td>The food has been phenomenal Laksa was awesome...</td>\n",
       "      <td>5</td>\n",
       "      <td>2018-12-18T00:00:00</td>\n",
       "      <td>food phenomenal laksa awesome cheap yet heavy</td>\n",
       "    </tr>\n",
       "    <tr>\n",
       "      <th>1</th>\n",
       "      <td>Sungei Road Laksa</td>\n",
       "      <td>When we got to this hawker center, we immediat...</td>\n",
       "      <td>4</td>\n",
       "      <td>2019-12-21T00:00:00</td>\n",
       "      <td>got hawker center immediately saw sungei road ...</td>\n",
       "    </tr>\n",
       "    <tr>\n",
       "      <th>2</th>\n",
       "      <td>Sungei Road Laksa</td>\n",
       "      <td>Laksa is a popular Southeast Asia spicy noodle...</td>\n",
       "      <td>4</td>\n",
       "      <td>2019-05-16T00:00:00</td>\n",
       "      <td>laksa popular southeast asia spicy noodle soup...</td>\n",
       "    </tr>\n",
       "    <tr>\n",
       "      <th>3</th>\n",
       "      <td>Sungei Road Laksa</td>\n",
       "      <td>Laska is not my thing and after trying this st...</td>\n",
       "      <td>4</td>\n",
       "      <td>2019-04-28T00:00:00</td>\n",
       "      <td>laska thing trying still thing love noodles so...</td>\n",
       "    </tr>\n",
       "    <tr>\n",
       "      <th>4</th>\n",
       "      <td>Sungei Road Laksa</td>\n",
       "      <td>Laksa here is so good! Tasty and rich in flavo...</td>\n",
       "      <td>5</td>\n",
       "      <td>2019-01-03T00:00:00</td>\n",
       "      <td>laksa good tasty rich flavor line always long ...</td>\n",
       "    </tr>\n",
       "  </tbody>\n",
       "</table>\n",
       "</div>"
      ],
      "text/plain": [
       "          restaurant                                            content  \\\n",
       "0  Sungei Road Laksa  The food has been phenomenal Laksa was awesome...   \n",
       "1  Sungei Road Laksa  When we got to this hawker center, we immediat...   \n",
       "2  Sungei Road Laksa  Laksa is a popular Southeast Asia spicy noodle...   \n",
       "3  Sungei Road Laksa  Laska is not my thing and after trying this st...   \n",
       "4  Sungei Road Laksa  Laksa here is so good! Tasty and rich in flavo...   \n",
       "\n",
       "   stars                 date  \\\n",
       "0      5  2018-12-18T00:00:00   \n",
       "1      4  2019-12-21T00:00:00   \n",
       "2      4  2019-05-16T00:00:00   \n",
       "3      4  2019-04-28T00:00:00   \n",
       "4      5  2019-01-03T00:00:00   \n",
       "\n",
       "                                       content_clean  \n",
       "0      food phenomenal laksa awesome cheap yet heavy  \n",
       "1  got hawker center immediately saw sungei road ...  \n",
       "2  laksa popular southeast asia spicy noodle soup...  \n",
       "3  laska thing trying still thing love noodles so...  \n",
       "4  laksa good tasty rich flavor line always long ...  "
      ]
     },
     "execution_count": 23,
     "metadata": {},
     "output_type": "execute_result"
    }
   ],
   "source": [
    "# Cleaning the Data\n",
    "def clean(data):\n",
    "    \n",
    "    # Removing leading and trailing white spaces\n",
    "    data = str(data).strip()\n",
    "    \n",
    "    # Converting all text to lower case\n",
    "    data = data.lower() \n",
    "    \n",
    "    # Converting all numbers to words\n",
    "    word = data.split(' ')\n",
    "    p = inflect.engine()\n",
    "    word = ' '.join([i for i in word if not i.isdigit()])\n",
    "    word = re.sub(r'\\d+', p.number_to_words(word) , word)    \n",
    "    \n",
    "    # Removing Punctuation\n",
    "    translator = str.maketrans('', '', string.punctuation)\n",
    "    word = word.translate(translator)\n",
    "    \n",
    "    # Removing Stopwords\n",
    "    stop_words = set(stopwords.words('english'))\n",
    "    tokens = word_tokenize(word)\n",
    "    word = ' '.join([i for i in tokens if not i in stop_words])\n",
    "\n",
    "    return word\n",
    "\n",
    "# clean text data\n",
    "reviews[\"content_clean\"] = reviews[\"content\"].apply(lambda x: clean(x))\n",
    "reviews.head()"
   ]
  },
  {
   "cell_type": "code",
   "execution_count": 10,
   "metadata": {},
   "outputs": [],
   "source": [
    "restaurant_names = []\n",
    "\n",
    "for i in reviews['restaurant']:\n",
    "    if not i in restaurant_names:\n",
    "        restaurant_names.append(i)\n",
    "        \n",
    "restaurant_dict = dict()\n",
    "\n",
    "for index, i in enumerate(restaurant_names):\n",
    "    restaurant_dict[i] = index\n",
    "    \n",
    "reviews['enum_restaurant'] = reviews['restaurant'].apply(lambda x : restaurant_dict[x])"
   ]
  },
  {
   "cell_type": "code",
   "execution_count": 86,
   "metadata": {},
   "outputs": [
    {
     "data": {
      "text/plain": [
       "Text(0,0.5,'Frequency of Reviews')"
      ]
     },
     "execution_count": 86,
     "metadata": {},
     "output_type": "execute_result"
    },
    {
     "data": {
      "image/png": "[encoded data removed]",
      "text/plain": [
       "<Figure size 432x288 with 1 Axes>"
      ]
     },
     "metadata": {
      "needs_background": "light"
     },
     "output_type": "display_data"
    }
   ],
   "source": [
    "plt.hist(reviews['enum_restaurant'], color = 'blue', edgecolor = 'black',bins = int(180/5))\n",
    "plt.title(\"Frequency of Reviews each Restaurant\")\n",
    "plt.xlabel(\"enum_restaurant\")\n",
    "plt.ylabel(\"Frequency of Reviews\")"
   ]
  },
  {
   "cell_type": "code",
   "execution_count": 26,
   "metadata": {},
   "outputs": [
    {
     "data": {
      "text/plain": [
       "Text(0,0.5,'Frequency of Restaurants')"
      ]
     },
     "execution_count": 26,
     "metadata": {},
     "output_type": "execute_result"
    },
    {
     "data": {
      "image/png": "[encoded data removed]",
      "text/plain": [
       "<Figure size 432x288 with 1 Axes>"
      ]
     },
     "metadata": {
      "needs_background": "light"
     },
     "output_type": "display_data"
    }
   ],
   "source": [
    "reviews['stars'].value_counts().plot('bar')\n",
    "plt.title(\"Frequency of Reviews for each Star\")\n",
    "plt.xlabel(\"Stars Awarded\")\n",
    "plt.ylabel(\"Frequency of Restaurants\")"
   ]
  },
  {
   "cell_type": "code",
   "execution_count": null,
   "metadata": {},
   "outputs": [],
   "source": []
  }
 ],
 "metadata": {
  "kernelspec": {
   "display_name": "Python 3",
   "language": "python",
   "name": "python3"
  },
  "language_info": {
   "codemirror_mode": {
    "name": "ipython",
    "version": 3
   },
   "file_extension": ".py",
   "mimetype": "text/x-python",
   "name": "python",
   "nbconvert_exporter": "python",
   "pygments_lexer": "ipython3",
   "version": "3.7.4"
  }
 },
 "nbformat": 4,
 "nbformat_minor": 4
}
