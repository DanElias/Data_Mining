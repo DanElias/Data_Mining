{
 "cells": [
  {
   "cell_type": "markdown",
   "metadata": {},
   "source": [
    "## Importing necessary libraries"
   ]
  },
  {
   "cell_type": "code",
   "execution_count": 7,
   "metadata": {},
   "outputs": [],
   "source": [
    "import pandas as pd\n",
    "import re\n",
    "import inflect\n",
    "import numpy as np\n",
    "\n",
    "import seaborn as sns\n",
    "import matplotlib.pyplot as plt\n",
    "from wordcloud import WordCloud\n",
    "\n",
    "import nltk\n",
    "import spacy\n",
    "import string\n",
    "from nltk.tokenize import word_tokenize\n",
    "from nltk.corpus import stopwords\n",
    "from nltk.stem.wordnet import WordNetLemmatizer\n",
    "\n",
    "from sklearn.model_selection import train_test_split\n",
    "from sklearn.feature_extraction.text import CountVectorizer, TfidfVectorizer"
   ]
  },
  {
   "cell_type": "markdown",
   "metadata": {},
   "source": [
    "## Reading in the corpus"
   ]
  },
  {
   "cell_type": "code",
   "execution_count": 31,
   "metadata": {},
   "outputs": [
    {
     "data": {
      "text/html": [
       "<div>\n",
       "<style scoped>\n",
       "    .dataframe tbody tr th:only-of-type {\n",
       "        vertical-align: middle;\n",
       "    }\n",
       "\n",
       "    .dataframe tbody tr th {\n",
       "        vertical-align: top;\n",
       "    }\n",
       "\n",
       "    .dataframe thead th {\n",
       "        text-align: right;\n",
       "    }\n",
       "</style>\n",
       "<table border=\"1\" class=\"dataframe\">\n",
       "  <thead>\n",
       "    <tr style=\"text-align: right;\">\n",
       "      <th></th>\n",
       "      <th>Restaurant</th>\n",
       "      <th>Review</th>\n",
       "      <th>Label</th>\n",
       "      <th>Stars</th>\n",
       "      <th>Date</th>\n",
       "    </tr>\n",
       "  </thead>\n",
       "  <tbody>\n",
       "    <tr>\n",
       "      <td>0</td>\n",
       "      <td>Happy Tummy</td>\n",
       "      <td>Fresh ingredients, friendly peeps and so much ...</td>\n",
       "      <td>1</td>\n",
       "      <td>5</td>\n",
       "      <td>2016-04-06T00:00:00</td>\n",
       "    </tr>\n",
       "    <tr>\n",
       "      <td>1</td>\n",
       "      <td>Cibo Italiano</td>\n",
       "      <td>A small selection of Italian wines by the glas...</td>\n",
       "      <td>1</td>\n",
       "      <td>4</td>\n",
       "      <td>2015-12-24T00:00:00</td>\n",
       "    </tr>\n",
       "    <tr>\n",
       "      <td>2</td>\n",
       "      <td>Yan kee Noodle House</td>\n",
       "      <td>The plus point is that the price remains the s...</td>\n",
       "      <td>1</td>\n",
       "      <td>4</td>\n",
       "      <td>2018-12-28T00:00:00</td>\n",
       "    </tr>\n",
       "    <tr>\n",
       "      <td>3</td>\n",
       "      <td>Clinton Street Baking Company &amp; Restaurant</td>\n",
       "      <td>Same for more?I ordered what I thought was the...</td>\n",
       "      <td>1</td>\n",
       "      <td>2</td>\n",
       "      <td>2018-03-03T00:00:00</td>\n",
       "    </tr>\n",
       "    <tr>\n",
       "      <td>4</td>\n",
       "      <td>Brawn &amp; Brains Coffee</td>\n",
       "      <td>I don't get why it can't just be full service....</td>\n",
       "      <td>1</td>\n",
       "      <td>3</td>\n",
       "      <td>2019-12-17T00:00:00</td>\n",
       "    </tr>\n",
       "  </tbody>\n",
       "</table>\n",
       "</div>"
      ],
      "text/plain": [
       "                                   Restaurant  \\\n",
       "0                                 Happy Tummy   \n",
       "1                               Cibo Italiano   \n",
       "2                        Yan kee Noodle House   \n",
       "3  Clinton Street Baking Company & Restaurant   \n",
       "4                       Brawn & Brains Coffee   \n",
       "\n",
       "                                              Review  Label  Stars  \\\n",
       "0  Fresh ingredients, friendly peeps and so much ...      1      5   \n",
       "1  A small selection of Italian wines by the glas...      1      4   \n",
       "2  The plus point is that the price remains the s...      1      4   \n",
       "3  Same for more?I ordered what I thought was the...      1      2   \n",
       "4  I don't get why it can't just be full service....      1      3   \n",
       "\n",
       "                  Date  \n",
       "0  2016-04-06T00:00:00  \n",
       "1  2015-12-24T00:00:00  \n",
       "2  2018-12-28T00:00:00  \n",
       "3  2018-03-03T00:00:00  \n",
       "4  2019-12-17T00:00:00  "
      ]
     },
     "execution_count": 31,
     "metadata": {},
     "output_type": "execute_result"
    }
   ],
   "source": [
    "reviews = pd.read_csv(\"./train_labelled.csv\", encoding = 'unicode_escape')\n",
    "reviews.head()"
   ]
  },
  {
   "cell_type": "code",
   "execution_count": 32,
   "metadata": {},
   "outputs": [
    {
     "data": {
      "text/html": [
       "<div>\n",
       "<style scoped>\n",
       "    .dataframe tbody tr th:only-of-type {\n",
       "        vertical-align: middle;\n",
       "    }\n",
       "\n",
       "    .dataframe tbody tr th {\n",
       "        vertical-align: top;\n",
       "    }\n",
       "\n",
       "    .dataframe thead th {\n",
       "        text-align: right;\n",
       "    }\n",
       "</style>\n",
       "<table border=\"1\" class=\"dataframe\">\n",
       "  <thead>\n",
       "    <tr style=\"text-align: right;\">\n",
       "      <th></th>\n",
       "      <th>Restaurant</th>\n",
       "      <th>Review</th>\n",
       "      <th>Label</th>\n",
       "      <th>Stars</th>\n",
       "      <th>Date</th>\n",
       "    </tr>\n",
       "  </thead>\n",
       "  <tbody>\n",
       "    <tr>\n",
       "      <td>3373</td>\n",
       "      <td>Ah Tai Hainanese Chicken Rice</td>\n",
       "      <td>the original plan was to go to both ah tai and...</td>\n",
       "      <td>5</td>\n",
       "      <td>4</td>\n",
       "      <td>2014-12-09T00:00:00</td>\n",
       "    </tr>\n",
       "    <tr>\n",
       "      <td>3374</td>\n",
       "      <td>Sawadee Thai Cuisine</td>\n",
       "      <td>Menu is beautiful.</td>\n",
       "      <td>5</td>\n",
       "      <td>5</td>\n",
       "      <td>2017-01-21T00:00:00</td>\n",
       "    </tr>\n",
       "    <tr>\n",
       "      <td>3375</td>\n",
       "      <td>StraitsKitchen</td>\n",
       "      <td>Last year during ramadan, they invited an Egyp...</td>\n",
       "      <td>5</td>\n",
       "      <td>4</td>\n",
       "      <td>2012-07-29T00:00:00</td>\n",
       "    </tr>\n",
       "    <tr>\n",
       "      <td>3376</td>\n",
       "      <td>Ippudo</td>\n",
       "      <td>They also have umeshu cocktail which i would t...</td>\n",
       "      <td>5</td>\n",
       "      <td>5</td>\n",
       "      <td>2013-12-27T00:00:00</td>\n",
       "    </tr>\n",
       "    <tr>\n",
       "      <td>3377</td>\n",
       "      <td>Annalakshmi</td>\n",
       "      <td>There is a decent selection to choose from.</td>\n",
       "      <td>5</td>\n",
       "      <td>4</td>\n",
       "      <td>2018-12-24T00:00:00</td>\n",
       "    </tr>\n",
       "  </tbody>\n",
       "</table>\n",
       "</div>"
      ],
      "text/plain": [
       "                         Restaurant  \\\n",
       "3373  Ah Tai Hainanese Chicken Rice   \n",
       "3374           Sawadee Thai Cuisine   \n",
       "3375                 StraitsKitchen   \n",
       "3376                         Ippudo   \n",
       "3377                    Annalakshmi   \n",
       "\n",
       "                                                 Review  Label  Stars  \\\n",
       "3373  the original plan was to go to both ah tai and...      5      4   \n",
       "3374                                 Menu is beautiful.      5      5   \n",
       "3375  Last year during ramadan, they invited an Egyp...      5      4   \n",
       "3376  They also have umeshu cocktail which i would t...      5      5   \n",
       "3377        There is a decent selection to choose from.      5      4   \n",
       "\n",
       "                     Date  \n",
       "3373  2014-12-09T00:00:00  \n",
       "3374  2017-01-21T00:00:00  \n",
       "3375  2012-07-29T00:00:00  \n",
       "3376  2013-12-27T00:00:00  \n",
       "3377  2018-12-24T00:00:00  "
      ]
     },
     "execution_count": 32,
     "metadata": {},
     "output_type": "execute_result"
    }
   ],
   "source": [
    "reviews.tail()"
   ]
  },
  {
   "cell_type": "code",
   "execution_count": 33,
   "metadata": {},
   "outputs": [
    {
     "data": {
      "text/plain": [
       "Restaurant    False\n",
       "Review        False\n",
       "Label         False\n",
       "Stars         False\n",
       "Date          False\n",
       "dtype: bool"
      ]
     },
     "execution_count": 33,
     "metadata": {},
     "output_type": "execute_result"
    }
   ],
   "source": [
    "reviews.isnull().any()"
   ]
  },
  {
   "cell_type": "code",
   "execution_count": 34,
   "metadata": {},
   "outputs": [
    {
     "data": {
      "text/plain": [
       "(3378, 5)"
      ]
     },
     "execution_count": 34,
     "metadata": {},
     "output_type": "execute_result"
    }
   ],
   "source": [
    "reviews.shape"
   ]
  },
  {
   "cell_type": "markdown",
   "metadata": {},
   "source": [
    "## Data cleaning"
   ]
  },
  {
   "cell_type": "code",
   "execution_count": 18,
   "metadata": {},
   "outputs": [
    {
     "data": {
      "text/html": [
       "<div>\n",
       "<style scoped>\n",
       "    .dataframe tbody tr th:only-of-type {\n",
       "        vertical-align: middle;\n",
       "    }\n",
       "\n",
       "    .dataframe tbody tr th {\n",
       "        vertical-align: top;\n",
       "    }\n",
       "\n",
       "    .dataframe thead th {\n",
       "        text-align: right;\n",
       "    }\n",
       "</style>\n",
       "<table border=\"1\" class=\"dataframe\">\n",
       "  <thead>\n",
       "    <tr style=\"text-align: right;\">\n",
       "      <th></th>\n",
       "      <th>Restaurant</th>\n",
       "      <th>Review</th>\n",
       "      <th>Label</th>\n",
       "      <th>Stars</th>\n",
       "      <th>Date</th>\n",
       "      <th>Review_clean</th>\n",
       "      <th>enum_restaurant</th>\n",
       "    </tr>\n",
       "  </thead>\n",
       "  <tbody>\n",
       "    <tr>\n",
       "      <td>0</td>\n",
       "      <td>Happy Tummy</td>\n",
       "      <td>Fresh ingredients, friendly peeps and so much ...</td>\n",
       "      <td>1</td>\n",
       "      <td>5</td>\n",
       "      <td>2016-04-06T00:00:00</td>\n",
       "      <td>fresh ingredients friendly peeps and so much c...</td>\n",
       "      <td>0</td>\n",
       "    </tr>\n",
       "    <tr>\n",
       "      <td>1</td>\n",
       "      <td>Cibo Italiano</td>\n",
       "      <td>A small selection of Italian wines by the glas...</td>\n",
       "      <td>1</td>\n",
       "      <td>4</td>\n",
       "      <td>2015-12-24T00:00:00</td>\n",
       "      <td>a small selection of italian wines by the glas...</td>\n",
       "      <td>1</td>\n",
       "    </tr>\n",
       "    <tr>\n",
       "      <td>2</td>\n",
       "      <td>Yan kee Noodle House</td>\n",
       "      <td>The plus point is that the price remains the s...</td>\n",
       "      <td>1</td>\n",
       "      <td>4</td>\n",
       "      <td>2018-12-28T00:00:00</td>\n",
       "      <td>the plus point is that the price remains the s...</td>\n",
       "      <td>2</td>\n",
       "    </tr>\n",
       "    <tr>\n",
       "      <td>3</td>\n",
       "      <td>Clinton Street Baking Company &amp; Restaurant</td>\n",
       "      <td>Same for more?I ordered what I thought was the...</td>\n",
       "      <td>1</td>\n",
       "      <td>2</td>\n",
       "      <td>2018-03-03T00:00:00</td>\n",
       "      <td>same for more i ordered what i thought was the...</td>\n",
       "      <td>3</td>\n",
       "    </tr>\n",
       "    <tr>\n",
       "      <td>4</td>\n",
       "      <td>Song Fa Bak Kut Teh</td>\n",
       "      <td>I will probably get that again.Have been very ...</td>\n",
       "      <td>5</td>\n",
       "      <td>5</td>\n",
       "      <td>2019-01-05T00:00:00</td>\n",
       "      <td>i will probably get that again have been very ...</td>\n",
       "      <td>4</td>\n",
       "    </tr>\n",
       "    <tr>\n",
       "      <td>...</td>\n",
       "      <td>...</td>\n",
       "      <td>...</td>\n",
       "      <td>...</td>\n",
       "      <td>...</td>\n",
       "      <td>...</td>\n",
       "      <td>...</td>\n",
       "      <td>...</td>\n",
       "    </tr>\n",
       "    <tr>\n",
       "      <td>2825</td>\n",
       "      <td>Buona Terra</td>\n",
       "      <td>We went there in a weekday night.</td>\n",
       "      <td>5</td>\n",
       "      <td>4</td>\n",
       "      <td>2013-07-14T00:00:00</td>\n",
       "      <td>we went there in a weekday night</td>\n",
       "      <td>389</td>\n",
       "    </tr>\n",
       "    <tr>\n",
       "      <td>2826</td>\n",
       "      <td>Bigmama</td>\n",
       "      <td>Came here for a birthday celebration with my m...</td>\n",
       "      <td>5</td>\n",
       "      <td>4</td>\n",
       "      <td>2015-09-04T00:00:00</td>\n",
       "      <td>came here for a birthday celebration with my m...</td>\n",
       "      <td>480</td>\n",
       "    </tr>\n",
       "    <tr>\n",
       "      <td>2827</td>\n",
       "      <td>Tapas Club</td>\n",
       "      <td>Caters to vegetarians too.</td>\n",
       "      <td>5</td>\n",
       "      <td>5</td>\n",
       "      <td>2018-11-10T00:00:00</td>\n",
       "      <td>caters to vegetarians too</td>\n",
       "      <td>462</td>\n",
       "    </tr>\n",
       "    <tr>\n",
       "      <td>2828</td>\n",
       "      <td>Tolido's Espresso Nook</td>\n",
       "      <td>My friend really wanted to come back to try th...</td>\n",
       "      <td>5</td>\n",
       "      <td>5</td>\n",
       "      <td>2019-07-21T00:00:00</td>\n",
       "      <td>my friend really wanted to come back to try th...</td>\n",
       "      <td>114</td>\n",
       "    </tr>\n",
       "    <tr>\n",
       "      <td>2829</td>\n",
       "      <td>Riders Cafe</td>\n",
       "      <td>The only issue with this place is you have to ...</td>\n",
       "      <td>5</td>\n",
       "      <td>4</td>\n",
       "      <td>2015-12-12T00:00:00</td>\n",
       "      <td>the only issue with this place is you have to ...</td>\n",
       "      <td>274</td>\n",
       "    </tr>\n",
       "  </tbody>\n",
       "</table>\n",
       "<p>2830 rows × 7 columns</p>\n",
       "</div>"
      ],
      "text/plain": [
       "                                      Restaurant  \\\n",
       "0                                    Happy Tummy   \n",
       "1                                  Cibo Italiano   \n",
       "2                           Yan kee Noodle House   \n",
       "3     Clinton Street Baking Company & Restaurant   \n",
       "4                            Song Fa Bak Kut Teh   \n",
       "...                                          ...   \n",
       "2825                                 Buona Terra   \n",
       "2826                                     Bigmama   \n",
       "2827                                  Tapas Club   \n",
       "2828                      Tolido's Espresso Nook   \n",
       "2829                                 Riders Cafe   \n",
       "\n",
       "                                                 Review  Label  Stars  \\\n",
       "0     Fresh ingredients, friendly peeps and so much ...      1      5   \n",
       "1     A small selection of Italian wines by the glas...      1      4   \n",
       "2     The plus point is that the price remains the s...      1      4   \n",
       "3     Same for more?I ordered what I thought was the...      1      2   \n",
       "4     I will probably get that again.Have been very ...      5      5   \n",
       "...                                                 ...    ...    ...   \n",
       "2825                  We went there in a weekday night.      5      4   \n",
       "2826  Came here for a birthday celebration with my m...      5      4   \n",
       "2827                         Caters to vegetarians too.      5      5   \n",
       "2828  My friend really wanted to come back to try th...      5      5   \n",
       "2829  The only issue with this place is you have to ...      5      4   \n",
       "\n",
       "                     Date                                       Review_clean  \\\n",
       "0     2016-04-06T00:00:00  fresh ingredients friendly peeps and so much c...   \n",
       "1     2015-12-24T00:00:00  a small selection of italian wines by the glas...   \n",
       "2     2018-12-28T00:00:00  the plus point is that the price remains the s...   \n",
       "3     2018-03-03T00:00:00  same for more i ordered what i thought was the...   \n",
       "4     2019-01-05T00:00:00  i will probably get that again have been very ...   \n",
       "...                   ...                                                ...   \n",
       "2825  2013-07-14T00:00:00                   we went there in a weekday night   \n",
       "2826  2015-09-04T00:00:00  came here for a birthday celebration with my m...   \n",
       "2827  2018-11-10T00:00:00                          caters to vegetarians too   \n",
       "2828  2019-07-21T00:00:00  my friend really wanted to come back to try th...   \n",
       "2829  2015-12-12T00:00:00  the only issue with this place is you have to ...   \n",
       "\n",
       "      enum_restaurant  \n",
       "0                   0  \n",
       "1                   1  \n",
       "2                   2  \n",
       "3                   3  \n",
       "4                   4  \n",
       "...               ...  \n",
       "2825              389  \n",
       "2826              480  \n",
       "2827              462  \n",
       "2828              114  \n",
       "2829              274  \n",
       "\n",
       "[2830 rows x 7 columns]"
      ]
     },
     "execution_count": 18,
     "metadata": {},
     "output_type": "execute_result"
    }
   ],
   "source": [
    "# Cleaning the Data\n",
    "def clean(data):\n",
    "\n",
    "    # Removing leading and trailing white spaces\n",
    "    data = str(data).strip()\n",
    "    \n",
    "    # Converting all text to lower case\n",
    "    data = data.lower() \n",
    "    \n",
    "    # add space for punctuation\n",
    "    translator = re.compile('[%s]' % re.escape(string.punctuation))\n",
    "    translator.sub(' ', data)\n",
    "\n",
    "    #remove punct\n",
    "    data = re.sub('[^A-Za-z0-9]+', ' ', data)\n",
    "    \n",
    "    #keep english words\n",
    "    data = re.sub(r'[^\\x00-\\x7F]+', '', data)\n",
    "    \n",
    "    #keep printable\n",
    "    data = re.sub(f'[^{re.escape(string.printable)}]', '', data)\n",
    "\n",
    "    # Removing Stopwords\n",
    "    stop_words = set(stopwords.words('english'))\n",
    "    tokens = word_tokenize(data)\n",
    "\n",
    "    # Converting all text to base form\n",
    "    lemmatizer = WordNetLemmatizer()\n",
    "    tokens_lemmatized = [lemmatizer.lemmatize(token) for token in tokens]\n",
    "            \n",
    "    # Removing Punctuation\n",
    "#     translator = str.maketrans('', '', string.punctuation)\n",
    "#     data = data.translate(translator)\n",
    "\n",
    "    # Removing all the numbers\n",
    "#     word = data.split(' ')\n",
    "#     #p = inflect.engine()\n",
    "#     #p.number_to_words(word)\n",
    "#     word = ' '.join([i for i in word if not i.isdigit()])\n",
    "#     word = re.sub(r'\\d+','' , word)\n",
    "\n",
    "         # Converting all numbers to words\n",
    "#    word = data.split(' ')\n",
    "#     p = inflect.engine()\n",
    "#     word = ' '.join([i for i in word if not i.isdigit()])\n",
    "#     word = re.sub(r'\\d+', p.number_to_words(word) , word)  \n",
    "\n",
    "    # Removing all the odd characters with the aprostroe etc\n",
    "#     word = re.sub(r'([^\\s\\w]|_)+', \"\", word)\n",
    "#     word = re.sub(r'ý+', '', word)\n",
    "\n",
    "    word = ' '.join([i for i in tokens])\n",
    "\n",
    "    return word\n",
    "\n",
    "# clean text data\n",
    "reviews[\"Review_clean\"] = reviews[\"Review\"].apply(lambda x: clean(x))\n",
    "reviews"
   ]
  },
  {
   "cell_type": "code",
   "execution_count": 9,
   "metadata": {},
   "outputs": [],
   "source": [
    "# Write to a clean csv file\n",
    "reviews.to_csv('train_cleaned.csv')"
   ]
  },
  {
   "cell_type": "markdown",
   "metadata": {},
   "source": [
    "## Exploratory Data"
   ]
  },
  {
   "cell_type": "code",
   "execution_count": 11,
   "metadata": {},
   "outputs": [],
   "source": [
    "restaurant_names = []\n",
    "\n",
    "for i in reviews['Restaurant']:\n",
    "    if not i in restaurant_names:\n",
    "        restaurant_names.append(i)\n",
    "        \n",
    "restaurant_dict = dict()\n",
    "\n",
    "for index, i in enumerate(restaurant_names):\n",
    "    restaurant_dict[i] = index\n",
    "    \n",
    "reviews['enum_restaurant'] = reviews['Restaurant'].apply(lambda x : restaurant_dict[x])"
   ]
  },
  {
   "cell_type": "code",
   "execution_count": 12,
   "metadata": {},
   "outputs": [
    {
     "data": {
      "text/plain": [
       "Text(0, 0.5, 'Frequency of Reviews')"
      ]
     },
     "execution_count": 12,
     "metadata": {},
     "output_type": "execute_result"
    },
    {
     "data": {
      "image/png": "[encoded data removed]",
      "text/plain": [
       "<Figure size 432x288 with 1 Axes>"
      ]
     },
     "metadata": {
      "needs_background": "light"
     },
     "output_type": "display_data"
    }
   ],
   "source": [
    "plt.hist(reviews['enum_restaurant'], color = 'blue', edgecolor = 'black',bins = int(180/5))\n",
    "plt.title(\"Frequency of Reviews each Restaurant\")\n",
    "plt.xlabel(\"enum_restaurant\")\n",
    "plt.ylabel(\"Frequency of Reviews\")"
   ]
  },
  {
   "cell_type": "code",
   "execution_count": 15,
   "metadata": {},
   "outputs": [
    {
     "name": "stderr",
     "output_type": "stream",
     "text": [
      "C:\\Users\\xuehu\\.conda\\lib\\site-packages\\ipykernel_launcher.py:1: FutureWarning: `Series.plot()` should not be called with positional arguments, only keyword arguments. The order of positional arguments will change in the future. Use `Series.plot(kind='bar')` instead of `Series.plot('bar',)`.\n",
      "  \"\"\"Entry point for launching an IPython kernel.\n"
     ]
    },
    {
     "data": {
      "text/plain": [
       "Text(0, 0.5, 'Frequency of Restaurants')"
      ]
     },
     "execution_count": 15,
     "metadata": {},
     "output_type": "execute_result"
    },
    {
     "data": {
      "image/png": "[encoded data removed]",
      "text/plain": [
       "<Figure size 432x288 with 1 Axes>"
      ]
     },
     "metadata": {
      "needs_background": "light"
     },
     "output_type": "display_data"
    }
   ],
   "source": [
    "reviews['Stars'].value_counts().plot('bar')\n",
    "plt.title(\"Frequency of Reviews for Each Star\")\n",
    "plt.xlabel(\"Stars Awarded\")\n",
    "plt.ylabel(\"Frequency of Restaurants\")"
   ]
  },
  {
   "cell_type": "code",
   "execution_count": 16,
   "metadata": {},
   "outputs": [
    {
     "name": "stderr",
     "output_type": "stream",
     "text": [
      "C:\\Users\\xuehu\\.conda\\lib\\site-packages\\ipykernel_launcher.py:1: FutureWarning: `Series.plot()` should not be called with positional arguments, only keyword arguments. The order of positional arguments will change in the future. Use `Series.plot(kind='bar')` instead of `Series.plot('bar',)`.\n",
      "  \"\"\"Entry point for launching an IPython kernel.\n"
     ]
    },
    {
     "data": {
      "text/plain": [
       "Text(0, 0.5, 'Frequency of Restaurants')"
      ]
     },
     "execution_count": 16,
     "metadata": {},
     "output_type": "execute_result"
    },
    {
     "data": {
      "image/png": "[encoded data removed]",
      "text/plain": [
       "<Figure size 432x288 with 1 Axes>"
      ]
     },
     "metadata": {
      "needs_background": "light"
     },
     "output_type": "display_data"
    }
   ],
   "source": [
    "reviews['Label'].value_counts().plot('bar')\n",
    "plt.title(\"Frequency of Reviews for Each Label\")\n",
    "plt.xlabel(\"Label\")\n",
    "plt.ylabel(\"Frequency of Restaurants\")"
   ]
  },
  {
   "cell_type": "code",
   "execution_count": 19,
   "metadata": {},
   "outputs": [
    {
     "data": {
      "image/png": "[encoded data removed]",
      "text/plain": [
       "<PIL.Image.Image image mode=RGB size=400x200 at 0x194881CEA08>"
      ]
     },
     "execution_count": 19,
     "metadata": {},
     "output_type": "execute_result"
    }
   ],
   "source": [
    "# Creating a WordCloud to analyse the data\n",
    "long_string = ','.join(list(reviews['Review_clean'].values))\n",
    "# Create a WordCloud object\n",
    "wordcloud = WordCloud(background_color=\"white\", max_words=100, contour_width=3, contour_color='steelblue')\n",
    "# Generate a word cloud\n",
    "wordcloud.generate(long_string)\n",
    "# Visualize the word cloud\n",
    "wordcloud.to_image()"
   ]
  },
  {
   "cell_type": "code",
   "execution_count": 27,
   "metadata": {},
   "outputs": [
    {
     "data": {
      "image/png": "[encoded data removed]",
      "text/plain": [
       "<Figure size 1080x667.491 with 1 Axes>"
      ]
     },
     "metadata": {
      "needs_background": "light"
     },
     "output_type": "display_data"
    }
   ],
   "source": [
    "sns.set_style('whitegrid')\n",
    "%matplotlib inline\n",
    "\n",
    "# Helper function\n",
    "def plot_10_most_common_words(count_data, count_vectorizer):\n",
    "    import matplotlib.pyplot as plt\n",
    "    words = count_vectorizer.get_feature_names()\n",
    "    total_counts = np.zeros(len(words))\n",
    "    for t in count_data:\n",
    "        total_counts+=t.toarray()[0]\n",
    "    \n",
    "    count_dict = (zip(words, total_counts))\n",
    "    count_dict = sorted(count_dict, key=lambda x:x[1], reverse=True)[0:20]\n",
    "    words = [w[0] for w in count_dict]\n",
    "    counts = [w[1] for w in count_dict]\n",
    "    x_pos = np.arange(len(words)) \n",
    "    \n",
    "    plt.figure(2, figsize=(15, 15/1.6180))\n",
    "    plt.subplot(title='Top 10 Most Common Words used in Reviews')\n",
    "    sns.set_context(\"notebook\", font_scale=1.25, rc={\"lines.linewidth\": 2.5})\n",
    "    sns.barplot(x_pos, counts, palette='muted')\n",
    "    plt.xticks(x_pos, words, rotation=90) \n",
    "    plt.xlabel('Words')\n",
    "    plt.ylabel('Counts')\n",
    "    plt.show()\n",
    "    \n",
    "# Initialise the count vectorizer with the English stop words\n",
    "count_vectorizer = CountVectorizer(stop_words='english')\n",
    "# Fit and transform the processed titles\n",
    "count_data = count_vectorizer.fit_transform(reviews['Review_clean'])\n",
    "# Visualise the 10 most common words\n",
    "plot_10_most_common_words(count_data, count_vectorizer)"
   ]
  },
  {
   "cell_type": "code",
   "execution_count": 29,
   "metadata": {},
   "outputs": [
    {
     "ename": "IndexError",
     "evalue": "list index out of range",
     "output_type": "error",
     "traceback": [
      "\u001b[1;31m---------------------------------------------------------------------------\u001b[0m",
      "\u001b[1;31mIndexError\u001b[0m                                Traceback (most recent call last)",
      "\u001b[1;32m<ipython-input-29-0b8909865990>\u001b[0m in \u001b[0;36m<module>\u001b[1;34m\u001b[0m\n\u001b[0;32m     57\u001b[0m \u001b[1;33m\u001b[0m\u001b[0m\n\u001b[0;32m     58\u001b[0m \u001b[1;31m#step 2 lemmatization using pos tagger\u001b[0m\u001b[1;33m\u001b[0m\u001b[1;33m\u001b[0m\u001b[1;33m\u001b[0m\u001b[0m\n\u001b[1;32m---> 59\u001b[1;33m \u001b[0mreviews\u001b[0m\u001b[1;33m[\u001b[0m\u001b[1;34m\"Review_pos_tagged\"\u001b[0m\u001b[1;33m]\u001b[0m \u001b[1;33m=\u001b[0m \u001b[0mreviews\u001b[0m\u001b[1;33m[\u001b[0m\u001b[1;34m\"Review_clean\"\u001b[0m\u001b[1;33m]\u001b[0m\u001b[1;33m.\u001b[0m\u001b[0mapply\u001b[0m\u001b[1;33m(\u001b[0m\u001b[1;32mlambda\u001b[0m \u001b[0mx\u001b[0m\u001b[1;33m:\u001b[0m \u001b[0mlemmatization_using_pos_tagger\u001b[0m\u001b[1;33m.\u001b[0m\u001b[0mpos_tag\u001b[0m\u001b[1;33m(\u001b[0m\u001b[0mx\u001b[0m\u001b[1;33m)\u001b[0m\u001b[1;33m)\u001b[0m\u001b[1;33m\u001b[0m\u001b[1;33m\u001b[0m\u001b[0m\n\u001b[0m",
      "\u001b[1;32m~\\.conda\\lib\\site-packages\\pandas\\core\\series.py\u001b[0m in \u001b[0;36mapply\u001b[1;34m(self, func, convert_dtype, args, **kwds)\u001b[0m\n\u001b[0;32m   4040\u001b[0m             \u001b[1;32melse\u001b[0m\u001b[1;33m:\u001b[0m\u001b[1;33m\u001b[0m\u001b[1;33m\u001b[0m\u001b[0m\n\u001b[0;32m   4041\u001b[0m                 \u001b[0mvalues\u001b[0m \u001b[1;33m=\u001b[0m \u001b[0mself\u001b[0m\u001b[1;33m.\u001b[0m\u001b[0mastype\u001b[0m\u001b[1;33m(\u001b[0m\u001b[0mobject\u001b[0m\u001b[1;33m)\u001b[0m\u001b[1;33m.\u001b[0m\u001b[0mvalues\u001b[0m\u001b[1;33m\u001b[0m\u001b[1;33m\u001b[0m\u001b[0m\n\u001b[1;32m-> 4042\u001b[1;33m                 \u001b[0mmapped\u001b[0m \u001b[1;33m=\u001b[0m \u001b[0mlib\u001b[0m\u001b[1;33m.\u001b[0m\u001b[0mmap_infer\u001b[0m\u001b[1;33m(\u001b[0m\u001b[0mvalues\u001b[0m\u001b[1;33m,\u001b[0m \u001b[0mf\u001b[0m\u001b[1;33m,\u001b[0m \u001b[0mconvert\u001b[0m\u001b[1;33m=\u001b[0m\u001b[0mconvert_dtype\u001b[0m\u001b[1;33m)\u001b[0m\u001b[1;33m\u001b[0m\u001b[1;33m\u001b[0m\u001b[0m\n\u001b[0m\u001b[0;32m   4043\u001b[0m \u001b[1;33m\u001b[0m\u001b[0m\n\u001b[0;32m   4044\u001b[0m         \u001b[1;32mif\u001b[0m \u001b[0mlen\u001b[0m\u001b[1;33m(\u001b[0m\u001b[0mmapped\u001b[0m\u001b[1;33m)\u001b[0m \u001b[1;32mand\u001b[0m \u001b[0misinstance\u001b[0m\u001b[1;33m(\u001b[0m\u001b[0mmapped\u001b[0m\u001b[1;33m[\u001b[0m\u001b[1;36m0\u001b[0m\u001b[1;33m]\u001b[0m\u001b[1;33m,\u001b[0m \u001b[0mSeries\u001b[0m\u001b[1;33m)\u001b[0m\u001b[1;33m:\u001b[0m\u001b[1;33m\u001b[0m\u001b[1;33m\u001b[0m\u001b[0m\n",
      "\u001b[1;32mpandas\\_libs\\lib.pyx\u001b[0m in \u001b[0;36mpandas._libs.lib.map_infer\u001b[1;34m()\u001b[0m\n",
      "\u001b[1;32m<ipython-input-29-0b8909865990>\u001b[0m in \u001b[0;36m<lambda>\u001b[1;34m(x)\u001b[0m\n\u001b[0;32m     57\u001b[0m \u001b[1;33m\u001b[0m\u001b[0m\n\u001b[0;32m     58\u001b[0m \u001b[1;31m#step 2 lemmatization using pos tagger\u001b[0m\u001b[1;33m\u001b[0m\u001b[1;33m\u001b[0m\u001b[1;33m\u001b[0m\u001b[0m\n\u001b[1;32m---> 59\u001b[1;33m \u001b[0mreviews\u001b[0m\u001b[1;33m[\u001b[0m\u001b[1;34m\"Review_pos_tagged\"\u001b[0m\u001b[1;33m]\u001b[0m \u001b[1;33m=\u001b[0m \u001b[0mreviews\u001b[0m\u001b[1;33m[\u001b[0m\u001b[1;34m\"Review_clean\"\u001b[0m\u001b[1;33m]\u001b[0m\u001b[1;33m.\u001b[0m\u001b[0mapply\u001b[0m\u001b[1;33m(\u001b[0m\u001b[1;32mlambda\u001b[0m \u001b[0mx\u001b[0m\u001b[1;33m:\u001b[0m \u001b[0mlemmatization_using_pos_tagger\u001b[0m\u001b[1;33m.\u001b[0m\u001b[0mpos_tag\u001b[0m\u001b[1;33m(\u001b[0m\u001b[0mx\u001b[0m\u001b[1;33m)\u001b[0m\u001b[1;33m)\u001b[0m\u001b[1;33m\u001b[0m\u001b[1;33m\u001b[0m\u001b[0m\n\u001b[0m",
      "\u001b[1;32m<ipython-input-29-0b8909865990>\u001b[0m in \u001b[0;36mpos_tag\u001b[1;34m(self, tokens)\u001b[0m\n\u001b[0;32m     47\u001b[0m         \u001b[1;31m# convert into feature set of [('What', 'What', ['WP']), ('can', 'can', ['MD']), ... ie [original WORD, Lemmatized word, POS tag]\u001b[0m\u001b[1;33m\u001b[0m\u001b[1;33m\u001b[0m\u001b[1;33m\u001b[0m\u001b[0m\n\u001b[0;32m     48\u001b[0m         \u001b[0mpos_tokens\u001b[0m \u001b[1;33m=\u001b[0m \u001b[1;33m[\u001b[0m \u001b[1;33m[\u001b[0m\u001b[1;33m(\u001b[0m\u001b[0mword\u001b[0m\u001b[1;33m,\u001b[0m \u001b[0mlemmatizer\u001b[0m\u001b[1;33m.\u001b[0m\u001b[0mlemmatize\u001b[0m\u001b[1;33m(\u001b[0m\u001b[0mword\u001b[0m\u001b[1;33m,\u001b[0m\u001b[0mself\u001b[0m\u001b[1;33m.\u001b[0m\u001b[0mget_wordnet_pos\u001b[0m\u001b[1;33m(\u001b[0m\u001b[0mpos_tag\u001b[0m\u001b[1;33m)\u001b[0m\u001b[1;33m)\u001b[0m\u001b[1;33m,\u001b[0m \u001b[1;33m[\u001b[0m\u001b[0mpos_tag\u001b[0m\u001b[1;33m]\u001b[0m\u001b[1;33m)\u001b[0m \u001b[1;32mfor\u001b[0m \u001b[1;33m(\u001b[0m\u001b[0mword\u001b[0m\u001b[1;33m,\u001b[0m\u001b[0mpos_tag\u001b[0m\u001b[1;33m)\u001b[0m \u001b[1;32min\u001b[0m \u001b[0mpos\u001b[0m\u001b[1;33m]\u001b[0m \u001b[1;32mfor\u001b[0m \u001b[0mpos\u001b[0m \u001b[1;32min\u001b[0m \u001b[0mpos_tokens\u001b[0m\u001b[1;33m]\u001b[0m\u001b[1;33m\u001b[0m\u001b[1;33m\u001b[0m\u001b[0m\n\u001b[1;32m---> 49\u001b[1;33m         \u001b[1;32mreturn\u001b[0m \u001b[0mpos_tokens\u001b[0m\u001b[1;33m[\u001b[0m\u001b[1;36m0\u001b[0m\u001b[1;33m]\u001b[0m\u001b[1;33m\u001b[0m\u001b[1;33m\u001b[0m\u001b[0m\n\u001b[0m\u001b[0;32m     50\u001b[0m \u001b[1;33m\u001b[0m\u001b[0m\n\u001b[0;32m     51\u001b[0m \u001b[0mlemmatizer\u001b[0m \u001b[1;33m=\u001b[0m \u001b[0mWordNetLemmatizer\u001b[0m\u001b[1;33m(\u001b[0m\u001b[1;33m)\u001b[0m\u001b[1;33m\u001b[0m\u001b[1;33m\u001b[0m\u001b[0m\n",
      "\u001b[1;31mIndexError\u001b[0m: list index out of range"
     ]
    }
   ],
   "source": [
    "import nltk\n",
    "from nltk.stem import WordNetLemmatizer\n",
    "from nltk.corpus import wordnet\n",
    "\n",
    "#example text text = 'What can I say about this place. The staff of these restaurants is nice and the eggplant is not bad'\n",
    "\n",
    "# class Splitter(object):\n",
    "#     \"\"\"\n",
    "#     split the document into sentences and tokenize each sentence\n",
    "#     \"\"\"\n",
    "#     def __init__(self):\n",
    "#         self.splitter = nltk.data.load('tokenizers/punkt/english.pickle')\n",
    "#         self.tokenizer = nltk.tokenize.TreebankWordTokenizer()\n",
    "\n",
    "#     def split(self,text):\n",
    "#         # split into single sentence\n",
    "#         sentences = self.splitter.tokenize(text)\n",
    "#         # tokenization in each sentences\n",
    "#         tokens = [self.tokenizer.tokenize(sent) for sent in sentences]\n",
    "#         return tokens\n",
    "\n",
    "\n",
    "class LemmatizationWithPOSTagger(object):\n",
    "    def __init__(self):\n",
    "        pass\n",
    "    def get_wordnet_pos(self,treebank_tag):\n",
    "        \"\"\"\n",
    "        return WORDNET POS compliance to WORDENT lemmatization (a,n,r,v) \n",
    "        \"\"\"\n",
    "        if treebank_tag.startswith('J'):\n",
    "            return wordnet.ADJ\n",
    "        elif treebank_tag.startswith('V'):\n",
    "            return wordnet.VERB\n",
    "        elif treebank_tag.startswith('N'):\n",
    "            return wordnet.NOUN\n",
    "        elif treebank_tag.startswith('R'):\n",
    "            return wordnet.ADV\n",
    "        else:\n",
    "            # As default pos in lemmatization is Noun\n",
    "            return wordnet.NOUN\n",
    "\n",
    "    def pos_tag(self,tokens):\n",
    "        # find the pos tagginf for each tokens [('What', 'WP'), ('can', 'MD'), ('I', 'PRP') ....\n",
    "        pos_tokens = [nltk.pos_tag(token) for token in tokens]\n",
    "\n",
    "        # lemmatization using pos tagg   \n",
    "        # convert into feature set of [('What', 'What', ['WP']), ('can', 'can', ['MD']), ... ie [original WORD, Lemmatized word, POS tag]\n",
    "        pos_tokens = [ [(word, lemmatizer.lemmatize(word,self.get_wordnet_pos(pos_tag)), [pos_tag]) for (word,pos_tag) in pos] for pos in pos_tokens]\n",
    "        return pos_tokens[0]\n",
    "\n",
    "lemmatizer = WordNetLemmatizer()\n",
    "splitter = Splitter()\n",
    "lemmatization_using_pos_tagger = LemmatizationWithPOSTagger()\n",
    "\n",
    "#step 1 split document into sentence followed by tokenization\n",
    "# reviews[\"Review_tokenized\"] = reviews[\"Review_clean\"].apply(lambda x: splitter.split(x))\n",
    "\n",
    "#step 2 lemmatization using pos tagger \n",
    "reviews[\"Review_pos_tagged\"] = reviews[\"Review_clean\"].apply(lambda x: lemmatization_using_pos_tagger.pos_tag(x))"
   ]
  },
  {
   "cell_type": "code",
   "execution_count": null,
   "metadata": {
    "scrolled": false
   },
   "outputs": [],
   "source": [
    "reviews.head()"
   ]
  },
  {
   "cell_type": "code",
   "execution_count": 127,
   "metadata": {},
   "outputs": [
    {
     "data": {
      "text/plain": [
       "<generator object <genexpr> at 0x0000018E751D8480>"
      ]
     },
     "execution_count": 127,
     "metadata": {},
     "output_type": "execute_result"
    }
   ],
   "source": [
    "def get_pos_tags(column):\n",
    "    for lst in column:\n",
    "        for "
   ]
  },
  {
   "cell_type": "code",
   "execution_count": 130,
   "metadata": {},
   "outputs": [
    {
     "ename": "SyntaxError",
     "evalue": "invalid syntax (<ipython-input-130-1b525335879a>, line 2)",
     "output_type": "error",
     "traceback": [
      "\u001b[1;36m  File \u001b[1;32m\"<ipython-input-130-1b525335879a>\"\u001b[1;36m, line \u001b[1;32m2\u001b[0m\n\u001b[1;33m    long_string = ','.join(list(x[1] in reviews['content_pos_tagged'].iloc[0] if x[2][0] == 'NN')\u001b[0m\n\u001b[1;37m                                                                                                ^\u001b[0m\n\u001b[1;31mSyntaxError\u001b[0m\u001b[1;31m:\u001b[0m invalid syntax\n"
     ]
    }
   ],
   "source": [
    "# Creating a WordCloud to analyse the data\n",
    "long_string = ','.join(list(x[1] in reviews['content_pos_tagged'].iloc[0] if x[2][0] == 'NN')\n",
    "# Create a WordCloud object\n",
    "wordcloud = WordCloud(background_color=\"white\", max_words=100, contour_width=3, contour_color='steelblue')\n",
    "# Generate a word cloud\n",
    "wordcloud.generate(long_string)\n",
    "# Visualize the word cloud\n",
    "wordcloud.to_image()"
   ]
  }
 ],
 "metadata": {
  "kernelspec": {
   "display_name": "Python 3",
   "language": "python",
   "name": "python3"
  },
  "language_info": {
   "codemirror_mode": {
    "name": "ipython",
    "version": 3
   },
   "file_extension": ".py",
   "mimetype": "text/x-python",
   "name": "python",
   "nbconvert_exporter": "python",
   "pygments_lexer": "ipython3",
   "version": "3.7.4"
  }
 },
 "nbformat": 4,
 "nbformat_minor": 4
}
