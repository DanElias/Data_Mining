{
 "cells": [
  {
   "cell_type": "markdown",
   "metadata": {},
   "source": [
    "## Importing the necessary libraries"
   ]
  },
  {
   "cell_type": "code",
   "execution_count": 215,
   "metadata": {},
   "outputs": [],
   "source": [
    "import warnings\n",
    "warnings.simplefilter(action='ignore', category=FutureWarning)\n",
    "                      \n",
    "import pandas as pd\n",
    "import re\n",
    "import numpy as np\n",
    "import matplotlib.pyplot as plt\n",
    "\n",
    "from sklearn.naive_bayes import MultinomialNB\n",
    "from sklearn.linear_model import LogisticRegression\n",
    "from sklearn.model_selection import cross_validate\n",
    "from sklearn.model_selection import cross_val_score\n",
    "from sklearn import svm\n",
    "from sklearn.neighbors import KNeighborsClassifier\n",
    "from sklearn.tree import DecisionTreeClassifier\n",
    "from sklearn.ensemble import RandomForestClassifier, GradientBoostingClassifier\n",
    "from sklearn import metrics\n",
    "from sklearn import linear_model\n",
    "from sklearn.svm import LinearSVC\n",
    "from sklearn.pipeline import Pipeline\n",
    "from sklearn.ensemble import BaggingClassifier\n",
    "from sklearn.ensemble import AdaBoostClassifier\n",
    "from sklearn.metrics import f1_score\n",
    "\n",
    "\n",
    "from sklearn.model_selection import RandomizedSearchCV\n",
    "import time\n",
    "\n",
    "from sklearn.feature_extraction.text import CountVectorizer\n",
    "from sklearn.feature_extraction.text import TfidfVectorizer\n",
    "\n",
    "import keras\n",
    "import tensorflow as tf\n",
    "from tensorflow.keras.utils import to_categorical\n",
    "from keras.preprocessing import sequence\n",
    "\n",
    "from keras.preprocessing.text import Tokenizer\n",
    "from keras.callbacks import EarlyStopping\n",
    "from keras.layers import LSTM, Activation, Dense, Dropout, Input, Embedding, Bidirectional\n",
    "from keras.models import Model\n",
    "from keras.models import Sequential\n",
    "from keras.preprocessing.sequence import pad_sequences\n",
    "\n",
    "#make results reproducable\n",
    "from numpy.random import seed\n",
    "seed(1)"
   ]
  },
  {
   "cell_type": "markdown",
   "metadata": {},
   "source": [
    "## Reading in the corpus"
   ]
  },
  {
   "cell_type": "code",
   "execution_count": 204,
   "metadata": {},
   "outputs": [],
   "source": [
    "reviews = pd.read_csv('./train_cleaned.csv', encoding= 'unicode_escape')"
   ]
  },
  {
   "cell_type": "code",
   "execution_count": 205,
   "metadata": {},
   "outputs": [
    {
     "data": {
      "text/html": [
       "<div>\n",
       "<style scoped>\n",
       "    .dataframe tbody tr th:only-of-type {\n",
       "        vertical-align: middle;\n",
       "    }\n",
       "\n",
       "    .dataframe tbody tr th {\n",
       "        vertical-align: top;\n",
       "    }\n",
       "\n",
       "    .dataframe thead th {\n",
       "        text-align: right;\n",
       "    }\n",
       "</style>\n",
       "<table border=\"1\" class=\"dataframe\">\n",
       "  <thead>\n",
       "    <tr style=\"text-align: right;\">\n",
       "      <th></th>\n",
       "      <th>Restaurant</th>\n",
       "      <th>Review</th>\n",
       "      <th>Label</th>\n",
       "      <th>Stars</th>\n",
       "      <th>Date</th>\n",
       "      <th>Review_clean</th>\n",
       "    </tr>\n",
       "  </thead>\n",
       "  <tbody>\n",
       "    <tr>\n",
       "      <td>0</td>\n",
       "      <td>Happy Tummy</td>\n",
       "      <td>Fresh ingredients, friendly peeps and so much ...</td>\n",
       "      <td>1</td>\n",
       "      <td>5</td>\n",
       "      <td>2016-04-06T00:00:00</td>\n",
       "      <td>fresh ingredients friendly peeps and so much c...</td>\n",
       "    </tr>\n",
       "    <tr>\n",
       "      <td>1</td>\n",
       "      <td>Cibo Italiano</td>\n",
       "      <td>A small selection of Italian wines by the glas...</td>\n",
       "      <td>1</td>\n",
       "      <td>4</td>\n",
       "      <td>2015-12-24T00:00:00</td>\n",
       "      <td>a small selection of italian wines by the glas...</td>\n",
       "    </tr>\n",
       "    <tr>\n",
       "      <td>2</td>\n",
       "      <td>Yan kee Noodle House</td>\n",
       "      <td>The plus point is that the price remains the s...</td>\n",
       "      <td>1</td>\n",
       "      <td>4</td>\n",
       "      <td>2018-12-28T00:00:00</td>\n",
       "      <td>the plus point is that the price remains the s...</td>\n",
       "    </tr>\n",
       "    <tr>\n",
       "      <td>3</td>\n",
       "      <td>Clinton Street Baking Company &amp; Restaurant</td>\n",
       "      <td>Same for more?I ordered what I thought was the...</td>\n",
       "      <td>1</td>\n",
       "      <td>2</td>\n",
       "      <td>2018-03-03T00:00:00</td>\n",
       "      <td>same for more i ordered what i thought was the...</td>\n",
       "    </tr>\n",
       "    <tr>\n",
       "      <td>4</td>\n",
       "      <td>Brawn &amp; Brains Coffee</td>\n",
       "      <td>I don't get why it can't just be full service....</td>\n",
       "      <td>1</td>\n",
       "      <td>3</td>\n",
       "      <td>2019-12-17T00:00:00</td>\n",
       "      <td>i don t get why it can t just be full service ...</td>\n",
       "    </tr>\n",
       "  </tbody>\n",
       "</table>\n",
       "</div>"
      ],
      "text/plain": [
       "                                   Restaurant  \\\n",
       "0                                 Happy Tummy   \n",
       "1                               Cibo Italiano   \n",
       "2                        Yan kee Noodle House   \n",
       "3  Clinton Street Baking Company & Restaurant   \n",
       "4                       Brawn & Brains Coffee   \n",
       "\n",
       "                                              Review  Label  Stars  \\\n",
       "0  Fresh ingredients, friendly peeps and so much ...      1      5   \n",
       "1  A small selection of Italian wines by the glas...      1      4   \n",
       "2  The plus point is that the price remains the s...      1      4   \n",
       "3  Same for more?I ordered what I thought was the...      1      2   \n",
       "4  I don't get why it can't just be full service....      1      3   \n",
       "\n",
       "                  Date                                       Review_clean  \n",
       "0  2016-04-06T00:00:00  fresh ingredients friendly peeps and so much c...  \n",
       "1  2015-12-24T00:00:00  a small selection of italian wines by the glas...  \n",
       "2  2018-12-28T00:00:00  the plus point is that the price remains the s...  \n",
       "3  2018-03-03T00:00:00  same for more i ordered what i thought was the...  \n",
       "4  2019-12-17T00:00:00  i don t get why it can t just be full service ...  "
      ]
     },
     "execution_count": 205,
     "metadata": {},
     "output_type": "execute_result"
    }
   ],
   "source": [
    "reviews.head()"
   ]
  },
  {
   "cell_type": "code",
   "execution_count": 206,
   "metadata": {},
   "outputs": [
    {
     "data": {
      "text/plain": [
       "2    1117\n",
       "3     699\n",
       "5     693\n",
       "1     520\n",
       "4     434\n",
       "Name: Label, dtype: int64"
      ]
     },
     "execution_count": 206,
     "metadata": {},
     "output_type": "execute_result"
    }
   ],
   "source": [
    "reviews.Label.value_counts()"
   ]
  },
  {
   "cell_type": "code",
   "execution_count": 207,
   "metadata": {},
   "outputs": [],
   "source": [
    "reviews.Review_clean = reviews.Review_clean.apply(lambda x: np.str_(x))"
   ]
  },
  {
   "cell_type": "code",
   "execution_count": 208,
   "metadata": {},
   "outputs": [],
   "source": [
    "x = reviews.Review_clean\n",
    "y = reviews.Label"
   ]
  },
  {
   "cell_type": "code",
   "execution_count": 209,
   "metadata": {},
   "outputs": [],
   "source": [
    "# split x and y into training and testing sets\n",
    "# stratify returns training and test subsets that have the same proportions of class labels as the input dataset.\n",
    "from sklearn.model_selection import train_test_split\n",
    "x_train, x_test, y_train, y_test = train_test_split(x, y, random_state=1, stratify = y)"
   ]
  },
  {
   "cell_type": "code",
   "execution_count": 198,
   "metadata": {},
   "outputs": [
    {
     "name": "stdout",
     "output_type": "stream",
     "text": [
      "2    838\n",
      "3    524\n",
      "5    520\n",
      "1    390\n",
      "4    325\n",
      "Name: Label, dtype: int64\n",
      "2    279\n",
      "3    175\n",
      "5    173\n",
      "1    130\n",
      "4    109\n",
      "Name: Label, dtype: int64\n"
     ]
    }
   ],
   "source": [
    "# examine the object shapes\n",
    "print(y_train.value_counts())\n",
    "print(y_test.value_counts())"
   ]
  },
  {
   "cell_type": "code",
   "execution_count": 199,
   "metadata": {},
   "outputs": [],
   "source": [
    "## Building the vocabulary"
   ]
  },
  {
   "cell_type": "code",
   "execution_count": 25,
   "metadata": {},
   "outputs": [],
   "source": [
    "vect = CountVectorizer()"
   ]
  },
  {
   "cell_type": "code",
   "execution_count": 26,
   "metadata": {},
   "outputs": [],
   "source": [
    "vect.fit(x_train)\n",
    "x_train_dtm = vect.transform(x_train)\n",
    "\n",
    "# only transform x_test\n",
    "x_test_dtm = vect.transform(x_test)"
   ]
  },
  {
   "cell_type": "code",
   "execution_count": 27,
   "metadata": {},
   "outputs": [
    {
     "name": "stdout",
     "output_type": "stream",
     "text": [
      "(2597, 5135)\n",
      "(866, 5135)\n"
     ]
    }
   ],
   "source": [
    "# examine the shapes: rows are documents, columns are terms (aka \"tokens\" or \"features\")\n",
    "print(x_train_dtm.shape)\n",
    "print(x_test_dtm.shape)"
   ]
  },
  {
   "cell_type": "code",
   "execution_count": 28,
   "metadata": {},
   "outputs": [
    {
     "name": "stdout",
     "output_type": "stream",
     "text": [
      "['xlbs', 'xo', 'ya', 'yahoo', 'yakitori', 'yam', 'yamazaki', 'yang', 'yankee', 'yarra', 'yay', 'year', 'years', 'yeh', 'yelling', 'yellow', 'yelp', 'yelper', 'yelpers', 'yeoh', 'yes', 'yesterday', 'yet', 'yielding', 'yo', 'yoghurt', 'yogurt', 'yolk', 'york', 'you', 'young', 'your', 'yours', 'yourself', 'yu', 'yuan', 'yucatan', 'yuen', 'yummier', 'yumminess', 'yummmm', 'yummmmmmyyyy', 'yummmy', 'yummy', 'yusheng', 'yuzu', 'zealand', 'zhajing', 'zhi', 'ziplock']\n"
     ]
    }
   ],
   "source": [
    "# examine the last 50 features\n",
    "print(vect.get_feature_names()[-50:])"
   ]
  },
  {
   "cell_type": "markdown",
   "metadata": {},
   "source": [
    "# Comparing the accuracy of different approaches"
   ]
  },
  {
   "cell_type": "code",
   "execution_count": 213,
   "metadata": {},
   "outputs": [],
   "source": [
    "vects = [CountVectorizer(),TfidfVectorizer()]\n",
    "vectnames = [\"Count Vect\",\"Tfidf Vect\"]\n",
    "\n",
    "\n",
    "clfs = [BaggingClassifier(RandomForestClassifier()), MultinomialNB(),LinearSVC(),LogisticRegression(),RandomForestClassifier(),linear_model.SGDClassifier(), GradientBoostingClassifier(), AdaBoostClassifier()]\n",
    "clfnames = [\"bagging random forest\", \"Naive Bayes\",\"Linear SVM\",\"Logistic Regression\",\"Random Forest\",\"Stochastic Gradient Descent\", \"Gradient Boosting\", \"Ada Boost\"]"
   ]
  },
  {
   "cell_type": "code",
   "execution_count": 220,
   "metadata": {},
   "outputs": [
    {
     "name": "stdout",
     "output_type": "stream",
     "text": [
      "Count Vect + bagging random forest - train acc: 0.9826723142087024 test acc: 0.6824480369515011 \n",
      "Count Vect + Naive Bayes - train acc: 0.9083557951482479 test acc: 0.7413394919168591 \n",
      "Count Vect + Linear SVM - train acc: 0.9984597612629957 test acc: 0.7551963048498845 \n",
      "Count Vect + Logistic Regression - train acc: 0.9826723142087024 test acc: 0.7655889145496536 \n",
      "Count Vect + Random Forest - train acc: 0.9930689256834809 test acc: 0.663972286374134 \n",
      "Count Vect + Stochastic Gradient Descent - train acc: 0.9969195225259915 test acc: 0.7482678983833718 \n",
      "Count Vect + Gradient Boosting - train acc: 0.8455910666153253 test acc: 0.7424942263279446 \n",
      "Count Vect + Ada Boost - train acc: 0.6372737774355025 test acc: 0.6177829099307159 \n",
      "Tfidf Vect + bagging random forest - train acc: 0.9788217173661917 test acc: 0.6732101616628176 \n",
      "Tfidf Vect + Naive Bayes - train acc: 0.797458606083943 test acc: 0.6327944572748267 \n",
      "Tfidf Vect + Linear SVM - train acc: 0.9938390450519831 test acc: 0.7759815242494227 \n",
      "Tfidf Vect + Logistic Regression - train acc: 0.875625721986908 test acc: 0.7471131639722863 \n",
      "Tfidf Vect + Random Forest - train acc: 0.9911436272622256 test acc: 0.6616628175519631 \n",
      "Tfidf Vect + Stochastic Gradient Descent - train acc: 0.9946091644204852 test acc: 0.7575057736720554 \n",
      "Tfidf Vect + Gradient Boosting - train acc: 0.876010781671159 test acc: 0.7286374133949192 \n",
      "Tfidf Vect + Ada Boost - train acc: 0.6391990758567578 test acc: 0.5969976905311778 \n"
     ]
    }
   ],
   "source": [
    "#building a pipeline\n",
    "\n",
    "for vectname, vect, in zip(vectnames, vects):\n",
    "\n",
    "    for clfname, clf in zip(clfnames, clfs):\n",
    "        pipe = Pipeline([\n",
    "            ('vect', vect),\n",
    "            ('clf', clf),\n",
    "        ]\n",
    "        )       \n",
    "\n",
    "        pipe.fit(x_train, y_train)\n",
    "        pred = pipe.predict(x_test)\n",
    "     \n",
    "        \n",
    "        train_acc = metrics.accuracy_score(y_train, pipe.predict(x_train))\n",
    "        test_acc = metrics.accuracy_score(y_test, pred)\n",
    "    \n",
    "        print(\"{} + {} - train acc: {} test acc: {} \".format(vectname, clfname, train_acc, test_acc))\n",
    "#         print(\"macro\" , f1_score(y_test, pred, average='macro'))\n",
    "#         print(\"micro\" , f1_score(y_test, pred, average='micro'))\n",
    "#         print(\"normal\" , f1_score(y_test, pred, average = 'weighted'))\n",
    "       \n",
    "\n",
    "    "
   ]
  },
  {
   "cell_type": "markdown",
   "metadata": {},
   "source": [
    "## Hyperparameter Tuning"
   ]
  },
  {
   "cell_type": "code",
   "execution_count": 31,
   "metadata": {},
   "outputs": [
    {
     "name": "stdout",
     "output_type": "stream",
     "text": [
      "Best: 0.732769 using {'tfidf__norm': 'l2', 'tfidf__ngram_range': (1, 3), 'tfidf__max_df': 0.75, 'tfidf__binary': False, 'tfidf__analyzer': 'char', 'lr__max_iter': 500, 'lr__dual': False, 'lr__C': 7.742636826811269}\n",
      "Execution time: 11.029325246810913 ms\n",
      "test acc: 0.7655889145496536 recall: 0.7417188226645484 f1: 0.7537201414640352\n"
     ]
    }
   ],
   "source": [
    "# doing randomised search for logreg\n",
    "\n",
    "from sklearn.model_selection import RandomizedSearchCV\n",
    "from sklearn.pipeline import Pipeline\n",
    "\n",
    "pipe = Pipeline([\n",
    "    ('tfidf', TfidfVectorizer()),\n",
    "    ('lr', LogisticRegression())\n",
    "])\n",
    "\n",
    "\n",
    "parameters = {\n",
    "    'tfidf__max_df': (0.25, 0.5, 0.75),\n",
    "    'tfidf__analyzer':['char', 'word', 'char_wb'],\n",
    "    'tfidf__ngram_range': [(1, 1), (1, 2), (1, 3)],\n",
    "    'tfidf__binary': [True, False],\n",
    "    'tfidf__norm': [None, 'l1', 'l2'], \n",
    "    'lr__dual': [True,False],\n",
    "    'lr__max_iter': [100,200, 500],\n",
    "    'lr__C' :np.logspace(0, 4, num=10)\n",
    "  \n",
    "    \n",
    "}\n",
    "\n",
    "\n",
    "\n",
    "random =RandomizedSearchCV(pipe, parameters, cv=5, n_jobs=2)\n",
    "\n",
    "start_time = time.time()\n",
    "random_result = random.fit(x_train, y_train)\n",
    "# Summarize results\n",
    "print(\"Best: %f using %s\" % (random_result.best_score_, random_result.best_params_))\n",
    "print(\"Execution time: \" + str((time.time() - start_time)) + ' ms')\n",
    "\n",
    "pred = random.predict(x_test)\n",
    "test_acc = metrics.accuracy_score(y_test, pred)\n",
    "#roc_auc = metrics.roc_auc_score(y_test, pred)\n",
    "pre_macro = metrics.precision_score(y_test, pred, average=\"macro\")\n",
    "recall_macro = metrics.recall_score(y_test, pred, average=\"macro\")\n",
    "f1_macro = metrics.f1_score(y_test, pred, average=\"macro\")\n",
    "\n",
    "\n",
    "print(\"test acc: {} recall: {} f1: {}\".format(test_acc, recall_macro, f1_macro))\n"
   ]
  },
  {
   "cell_type": "code",
   "execution_count": 32,
   "metadata": {},
   "outputs": [
    {
     "name": "stdout",
     "output_type": "stream",
     "text": [
      "Training Accuracy:  1.0\n",
      "Test Accuracy:  0.7702078521939953\n"
     ]
    }
   ],
   "source": [
    "vect = TfidfVectorizer(ngram_range=(1, 2), max_df=0.75, norm= 'l2', binary = True, analyzer = 'word')\n",
    "x_train_dtm = vect.fit_transform(x_train)\n",
    "x_test_dtm = vect.transform(x_test)\n",
    "\n",
    "\n",
    "lr = LogisticRegression(max_iter = 100, dual = False, C = 10000)\n",
    "lr.fit(x_train_dtm, y_train)\n",
    "y_pred_class = lr.predict(x_test_dtm)\n",
    "\n",
    "# Get the training accuracy\n",
    "print('Training Accuracy: ', metrics.accuracy_score(y_train, lr.predict(x_train_dtm)))\n",
    "# print the accuracy of its predictions\n",
    "print('Test Accuracy: ', metrics.accuracy_score(y_test, y_pred_class))\n"
   ]
  },
  {
   "cell_type": "code",
   "execution_count": 33,
   "metadata": {},
   "outputs": [
    {
     "name": "stdout",
     "output_type": "stream",
     "text": [
      "Training Accuracy:  0.9626492106276473\n",
      "Test Accuracy:  0.733256351039261\n"
     ]
    }
   ],
   "source": [
    "import numpy as np\n",
    "from sklearn.multiclass import OneVsRestClassifier\n",
    "from sklearn.svm import SVC\n",
    "\n",
    "\n",
    "\n",
    "vect = TfidfVectorizer(ngram_range=(1, 2), max_df=0.75, norm= 'l2', binary = True, analyzer = 'word')\n",
    "x_train_dtm = vect.fit_transform(x_train)\n",
    "x_test_dtm = vect.transform(x_test)\n",
    "\n",
    "\n",
    "lr = OneVsRestClassifier(SVC())\n",
    "lr.fit(x_train_dtm, y_train)\n",
    "y_pred_class = lr.predict(x_test_dtm)\n",
    "\n",
    "# Get the training accuracy\n",
    "print('Training Accuracy: ', metrics.accuracy_score(y_train, lr.predict(x_train_dtm)))\n",
    "# print the accuracy of its predictions\n",
    "print('Test Accuracy: ', metrics.accuracy_score(y_test, y_pred_class))"
   ]
  },
  {
   "cell_type": "code",
   "execution_count": 34,
   "metadata": {},
   "outputs": [
    {
     "name": "stdout",
     "output_type": "stream",
     "text": [
      "Best: 0.670004 using {'tfidf__norm': None, 'tfidf__ngram_range': (1, 3), 'tfidf__max_df': 0.75, 'tfidf__binary': True, 'tfidf__analyzer': 'word', 'sgd__penalty': 'l1', 'sgd__max_iter': 100, 'sgd__loss': 'hinge', 'sgd__alpha': 0.0001}\n",
      "Execution time: 5.458580017089844 ms\n",
      "test acc: 0.7066974595842956 recall: 0.687761237373754 f1: 0.6835284102376928\n"
     ]
    }
   ],
   "source": [
    "# doing randomised search for stochastic gradient descent \n",
    "\n",
    "from sklearn.model_selection import RandomizedSearchCV\n",
    "from sklearn.pipeline import Pipeline\n",
    "\n",
    "pipe = Pipeline([\n",
    "    ('tfidf', TfidfVectorizer()),\n",
    "    ('sgd', linear_model.SGDClassifier())\n",
    "])\n",
    "\n",
    "\n",
    "parameters = {\n",
    "    'tfidf__max_df': (0.25, 0.5, 0.75),\n",
    "    'tfidf__analyzer':['char', 'word', 'char_wb'],\n",
    "    'tfidf__ngram_range': [(1, 1), (1, 2), (1, 3)],\n",
    "    'tfidf__binary': [True, False],\n",
    "    'tfidf__norm': [None, 'l1', 'l2'], \n",
    "    \n",
    "    'sgd__alpha': [1e-4, 1e-3, 1e-2, 1e-1, 1e0, 1e1, 1e2, 1e3], # learning rate\n",
    "    'sgd__max_iter': [5, 100, 500, 1000], # number of epochs\n",
    "    'sgd__loss': ['hinge'],\n",
    "    'sgd__penalty': ['l2', 'l1', 'elasticnet'], \n",
    "    \n",
    "\n",
    "  \n",
    "    \n",
    "}\n",
    "\n",
    "\n",
    "\n",
    "random =RandomizedSearchCV(pipe, parameters, cv=5, n_jobs=2)\n",
    "\n",
    "start_time = time.time()\n",
    "random_result = random.fit(x_train, y_train)\n",
    "# Summarize results\n",
    "print(\"Best: %f using %s\" % (random_result.best_score_, random_result.best_params_))\n",
    "print(\"Execution time: \" + str((time.time() - start_time)) + ' ms')\n",
    "\n",
    "pred = random.predict(x_test)\n",
    "test_acc = metrics.accuracy_score(y_test, pred)\n",
    "#roc_auc = metrics.roc_auc_score(y_test, pred)\n",
    "pre_macro = metrics.precision_score(y_test, pred, average=\"macro\")\n",
    "recall_macro = metrics.recall_score(y_test, pred, average=\"macro\")\n",
    "f1_macro = metrics.f1_score(y_test, pred, average=\"macro\")\n",
    "\n",
    "\n",
    "print(\"test acc: {} recall: {} f1: {}\".format(test_acc, recall_macro, f1_macro))"
   ]
  },
  {
   "cell_type": "code",
   "execution_count": 35,
   "metadata": {},
   "outputs": [
    {
     "name": "stdout",
     "output_type": "stream",
     "text": [
      "Training Accuracy:  0.9168271082017713\n",
      "Test Accuracy:  0.7863741339491916\n"
     ]
    }
   ],
   "source": [
    "vect = TfidfVectorizer(ngram_range=(1, 3), max_df=0.25, norm= 'l2', binary = False, analyzer = 'word')\n",
    "x_train_dtm = vect.fit_transform(x_train)\n",
    "x_test_dtm = vect.transform(x_test)\n",
    "\n",
    "\n",
    "sgd = linear_model.SGDClassifier(penalty = 'l1', max_iter = 1000, loss = 'hinge', alpha = 0.0001, random_state = 1)\n",
    "sgd.fit(x_train_dtm, y_train)\n",
    "y_pred_class = sgd.predict(x_test_dtm)\n",
    "\n",
    "\n",
    "# Get the training accuracy\n",
    "print('Training Accuracy: ', metrics.accuracy_score(y_train, sgd.predict(x_train_dtm)))\n",
    "# print the accuracy of its predictions\n",
    "print('Test Accuracy: ', metrics.accuracy_score(y_test, y_pred_class))\n"
   ]
  },
  {
   "cell_type": "code",
   "execution_count": 36,
   "metadata": {},
   "outputs": [
    {
     "name": "stdout",
     "output_type": "stream",
     "text": [
      "Best: 0.322680 using {'tfidf__norm': 'l1', 'tfidf__ngram_range': (1, 1), 'tfidf__max_df': 0.75, 'tfidf__binary': True, 'tfidf__analyzer': 'char', 'svc__penalty': 'l2', 'svc__max_iter': 5, 'svc__loss': 'squared_hinge', 'svc__dual': False, 'svc__C': 1e-08}\n",
      "Execution time: 2.9926629066467285 ms\n",
      "test acc: 0.32217090069284066 recall: 0.2 f1: 0.09746724890829694\n"
     ]
    },
    {
     "name": "stderr",
     "output_type": "stream",
     "text": [
      "/Users/charlotte/opt/anaconda3/lib/python3.7/site-packages/sklearn/model_selection/_search.py:764: RuntimeWarning: invalid value encountered in subtract\n",
      "  array_means[:, np.newaxis]) ** 2,\n",
      "/Users/charlotte/opt/anaconda3/lib/python3.7/site-packages/sklearn/metrics/classification.py:1437: UndefinedMetricWarning: Precision is ill-defined and being set to 0.0 in labels with no predicted samples.\n",
      "  'precision', 'predicted', average, warn_for)\n",
      "/Users/charlotte/opt/anaconda3/lib/python3.7/site-packages/sklearn/metrics/classification.py:1437: UndefinedMetricWarning: F-score is ill-defined and being set to 0.0 in labels with no predicted samples.\n",
      "  'precision', 'predicted', average, warn_for)\n"
     ]
    }
   ],
   "source": [
    "# doing randomised search for linear svc\n",
    "\n",
    "from sklearn.model_selection import RandomizedSearchCV\n",
    "from sklearn.pipeline import Pipeline\n",
    "\n",
    "pipe = Pipeline([\n",
    "    ('tfidf', TfidfVectorizer()),\n",
    "    ('svc', LinearSVC())\n",
    "])\n",
    "\n",
    "\n",
    "parameters = {\n",
    "    'tfidf__max_df': (0.25, 0.5, 0.75),\n",
    "    'tfidf__analyzer':['char', 'word', 'char_wb'],\n",
    "    'tfidf__ngram_range': [(1, 1), (1, 2), (1, 3)],\n",
    "    'tfidf__binary': [True, False],\n",
    "    'tfidf__norm': [None, 'l1', 'l2'], \n",
    "\n",
    "    'svc__max_iter': [5, 100, 500, 1000], # number of epochs\n",
    "    'svc__loss': ['hinge', 'squared_hinge', 'str'],\n",
    "    'svc__dual':[True, False],\n",
    "    'svc__penalty': ['l2', 'l1', 'str'], \n",
    "    'svc__C' :[1e-15, 1e-8, 1e-4, 1e-2, 1e-1, 1]\n",
    "\n",
    "  \n",
    "    \n",
    "}\n",
    "\n",
    "\n",
    "\n",
    "random =RandomizedSearchCV(pipe, parameters, cv=5, n_jobs=2, error_score=np.NINF)\n",
    "\n",
    "start_time = time.time()\n",
    "random_result = random.fit(x_train, y_train)\n",
    "# Summarize results\n",
    "print(\"Best: %f using %s\" % (random_result.best_score_, random_result.best_params_))\n",
    "print(\"Execution time: \" + str((time.time() - start_time)) + ' ms')\n",
    "\n",
    "pred = random.predict(x_test)\n",
    "test_acc = metrics.accuracy_score(y_test, pred)\n",
    "#roc_auc = metrics.roc_auc_score(y_test, pred)\n",
    "pre_macro = metrics.precision_score(y_test, pred, average=\"macro\")\n",
    "recall_macro = metrics.recall_score(y_test, pred, average=\"macro\")\n",
    "f1_macro = metrics.f1_score(y_test, pred, average=\"macro\")\n",
    "\n",
    "\n",
    "print(\"test acc: {} recall: {} f1: {}\".format(test_acc, recall_macro, f1_macro))"
   ]
  },
  {
   "cell_type": "code",
   "execution_count": 97,
   "metadata": {},
   "outputs": [
    {
     "name": "stdout",
     "output_type": "stream",
     "text": [
      "Found 5943 unique tokens.\n"
     ]
    }
   ],
   "source": [
    "#RNN\n",
    "\n",
    "\n",
    "# The maximum number of words to be used. (most frequent)\n",
    "MAX_NB_WORDS = 50000\n",
    "# Max number of words in each complaint.\n",
    "MAX_SEQUENCE_LENGTH = 250\n",
    "# This is fixed.\n",
    "EMBEDDING_DIM = 100\n",
    "\n",
    "tokenizer = Tokenizer(num_words=MAX_NB_WORDS, filters='!\"#$%&()*+,-./:;<=>?@[\\]^_`{|}~', lower=True)\n",
    "#tokenizer.fit_on_texts(reviews.Review_clean.values)\n",
    "\n",
    "tokenizer.fit_on_texts(reviews.Review_clean.values)\n",
    "word_index = tokenizer.word_index\n",
    "print('Found %s unique tokens.' % len(word_index))"
   ]
  },
  {
   "cell_type": "code",
   "execution_count": 98,
   "metadata": {},
   "outputs": [
    {
     "name": "stdout",
     "output_type": "stream",
     "text": [
      "Shape of data tensor: (3463, 250)\n"
     ]
    }
   ],
   "source": [
    "\n",
    "# Truncate and pad the input sequences so that they are all in the same length for modeling\n",
    "\n",
    "X = tokenizer.texts_to_sequences(reviews.Review_clean.values)\n",
    "X = pad_sequences(X, maxlen=MAX_SEQUENCE_LENGTH)\n",
    "print('Shape of data tensor:', X.shape)"
   ]
  },
  {
   "cell_type": "code",
   "execution_count": 99,
   "metadata": {},
   "outputs": [
    {
     "name": "stdout",
     "output_type": "stream",
     "text": [
      "Shape of label tensor: (3463, 5)\n"
     ]
    }
   ],
   "source": [
    "Y = pd.get_dummies(reviews.Label).values\n",
    "print('Shape of label tensor:', Y.shape)"
   ]
  },
  {
   "cell_type": "code",
   "execution_count": 100,
   "metadata": {},
   "outputs": [
    {
     "name": "stdout",
     "output_type": "stream",
     "text": [
      "(2424, 250) (2424, 5)\n",
      "(1039, 250) (1039, 5)\n"
     ]
    }
   ],
   "source": [
    "X_train, X_test, Y_train, Y_test = train_test_split(X,Y, test_size = 0.30, random_state = 42)\n",
    "print(X_train.shape,Y_train.shape)\n",
    "print(X_test.shape,Y_test.shape)"
   ]
  },
  {
   "cell_type": "code",
   "execution_count": 101,
   "metadata": {},
   "outputs": [
    {
     "name": "stdout",
     "output_type": "stream",
     "text": [
      "Model: \"sequential_3\"\n",
      "_________________________________________________________________\n",
      "Layer (type)                 Output Shape              Param #   \n",
      "=================================================================\n",
      "embedding_3 (Embedding)      (None, 250, 100)          5000000   \n",
      "_________________________________________________________________\n",
      "dropout_3 (Dropout)          (None, 250, 100)          0         \n",
      "_________________________________________________________________\n",
      "lstm_3 (LSTM)                (None, 100)               80400     \n",
      "_________________________________________________________________\n",
      "dense_3 (Dense)              (None, 5)                 505       \n",
      "=================================================================\n",
      "Total params: 5,080,905\n",
      "Trainable params: 5,080,905\n",
      "Non-trainable params: 0\n",
      "_________________________________________________________________\n"
     ]
    }
   ],
   "source": [
    "\n",
    "\n",
    "model = Sequential()\n",
    "model.add(Embedding(MAX_NB_WORDS, EMBEDDING_DIM, input_length=X.shape[1]))\n",
    "model.add(Dropout(0.2))\n",
    "model.add(LSTM(100, dropout=0.2, recurrent_dropout=0.2))\n",
    "model.add(Dense(5, activation='softmax'))\n",
    "\n",
    "model.compile(loss='categorical_crossentropy', optimizer='adam', metrics=['accuracy'])\n",
    "model.summary()\n"
   ]
  },
  {
   "cell_type": "code",
   "execution_count": 102,
   "metadata": {},
   "outputs": [
    {
     "name": "stderr",
     "output_type": "stream",
     "text": [
      "/Users/charlotte/opt/anaconda3/lib/python3.7/site-packages/tensorflow_core/python/framework/indexed_slices.py:433: UserWarning: Converting sparse IndexedSlices to a dense Tensor of unknown shape. This may consume a large amount of memory.\n",
      "  \"Converting sparse IndexedSlices to a dense Tensor of unknown shape. \"\n"
     ]
    },
    {
     "name": "stdout",
     "output_type": "stream",
     "text": [
      "Train on 2181 samples, validate on 243 samples\n",
      "Epoch 1/20\n",
      "2181/2181 [==============================] - 11s 5ms/step - loss: 1.5625 - accuracy: 0.3081 - val_loss: 1.5013 - val_accuracy: 0.3457\n",
      "Epoch 2/20\n",
      "2181/2181 [==============================] - 11s 5ms/step - loss: 1.4419 - accuracy: 0.3961 - val_loss: 1.2613 - val_accuracy: 0.5432\n",
      "Epoch 3/20\n",
      "2181/2181 [==============================] - 11s 5ms/step - loss: 1.0938 - accuracy: 0.6222 - val_loss: 0.9853 - val_accuracy: 0.6872\n",
      "Epoch 4/20\n",
      "2181/2181 [==============================] - 11s 5ms/step - loss: 0.7134 - accuracy: 0.7937 - val_loss: 0.7831 - val_accuracy: 0.7284\n",
      "Epoch 5/20\n",
      "2181/2181 [==============================] - 11s 5ms/step - loss: 0.4496 - accuracy: 0.8808 - val_loss: 0.7168 - val_accuracy: 0.7325\n",
      "Epoch 6/20\n",
      "2181/2181 [==============================] - 12s 6ms/step - loss: 0.3070 - accuracy: 0.9152 - val_loss: 0.7333 - val_accuracy: 0.7325\n",
      "Epoch 7/20\n",
      "2181/2181 [==============================] - 16s 7ms/step - loss: 0.2063 - accuracy: 0.9528 - val_loss: 0.6962 - val_accuracy: 0.7449\n",
      "Epoch 8/20\n",
      "2181/2181 [==============================] - 14s 6ms/step - loss: 0.1498 - accuracy: 0.9629 - val_loss: 0.7550 - val_accuracy: 0.7366\n",
      "Epoch 9/20\n",
      "2181/2181 [==============================] - 13s 6ms/step - loss: 0.0996 - accuracy: 0.9757 - val_loss: 0.7077 - val_accuracy: 0.7531\n",
      "Epoch 10/20\n",
      "2181/2181 [==============================] - 14s 6ms/step - loss: 0.0768 - accuracy: 0.9826 - val_loss: 0.7987 - val_accuracy: 0.7366\n"
     ]
    }
   ],
   "source": [
    "epochs = 20\n",
    "batch_size = 64\n",
    "\n",
    "\n",
    "history = model.fit(X_train, Y_train, epochs=epochs, batch_size=batch_size,\n",
    "                    validation_split=0.1,callbacks=[EarlyStopping(monitor='val_loss', patience=3, min_delta=0.0001)])"
   ]
  },
  {
   "cell_type": "code",
   "execution_count": 104,
   "metadata": {},
   "outputs": [
    {
     "name": "stdout",
     "output_type": "stream",
     "text": [
      "1039/1039 [==============================] - 1s 1ms/step\n",
      "Test set\n",
      "  Loss: 0.935\n",
      "  Accuracy: 0.727\n"
     ]
    }
   ],
   "source": [
    "accr = model.evaluate(X_test,Y_test)\n",
    "print('Test set\\n  Loss: {:0.3f}\\n  Accuracy: {:0.3f}'.format(accr[0],accr[1]))\n",
    "\n"
   ]
  },
  {
   "cell_type": "code",
   "execution_count": 105,
   "metadata": {},
   "outputs": [
    {
     "data": {
      "image/png": "[encoded data removed]",
      "text/plain": [
       "<Figure size 432x288 with 1 Axes>"
      ]
     },
     "metadata": {
      "needs_background": "light"
     },
     "output_type": "display_data"
    }
   ],
   "source": [
    "\n",
    "plt.title('Loss')\n",
    "plt.plot(history.history['loss'], label='train')\n",
    "plt.plot(history.history['val_loss'], label='test')\n",
    "plt.legend()\n",
    "plt.show();"
   ]
  },
  {
   "cell_type": "code",
   "execution_count": 106,
   "metadata": {
    "scrolled": true
   },
   "outputs": [
    {
     "data": {
      "image/png": "[encoded data removed]",
      "text/plain": [
       "<Figure size 432x288 with 1 Axes>"
      ]
     },
     "metadata": {
      "needs_background": "light"
     },
     "output_type": "display_data"
    }
   ],
   "source": [
    "plt.title('Accuracy')\n",
    "plt.plot(history.history['accuracy'], label='train')\n",
    "plt.plot(history.history['val_accuracy'], label='test')\n",
    "plt.legend()\n",
    "plt.show();"
   ]
  },
  {
   "cell_type": "code",
   "execution_count": 49,
   "metadata": {},
   "outputs": [
    {
     "name": "stdout",
     "output_type": "stream",
     "text": [
      "[[9.9840444e-01 1.0729774e-05 1.3777151e-03 1.1517555e-04 9.1893584e-05]] Price\n"
     ]
    }
   ],
   "source": [
    "new_complaint = ['get full service menu decent prices pretty expensive']\n",
    "seq = tokenizer.texts_to_sequences(new_complaint)\n",
    "padded = pad_sequences(seq, maxlen=MAX_SEQUENCE_LENGTH)\n",
    "pred = model.predict(padded)\n",
    "labels = ['Price', 'Taste', 'Service', 'Ambience', 'Others']\n",
    "print(pred, labels[np.argmax(pred)])"
   ]
  },
  {
   "cell_type": "code",
   "execution_count": 50,
   "metadata": {},
   "outputs": [
    {
     "data": {
      "text/html": [
       "<div>\n",
       "<style scoped>\n",
       "    .dataframe tbody tr th:only-of-type {\n",
       "        vertical-align: middle;\n",
       "    }\n",
       "\n",
       "    .dataframe tbody tr th {\n",
       "        vertical-align: top;\n",
       "    }\n",
       "\n",
       "    .dataframe thead th {\n",
       "        text-align: right;\n",
       "    }\n",
       "</style>\n",
       "<table border=\"1\" class=\"dataframe\">\n",
       "  <thead>\n",
       "    <tr style=\"text-align: right;\">\n",
       "      <th></th>\n",
       "      <th>Review_clean</th>\n",
       "    </tr>\n",
       "  </thead>\n",
       "  <tbody>\n",
       "    <tr>\n",
       "      <td>2865</td>\n",
       "      <td>so visiting my brother here in singapore and w...</td>\n",
       "    </tr>\n",
       "    <tr>\n",
       "      <td>149</td>\n",
       "      <td>be prepared to pay through your nose though bu...</td>\n",
       "    </tr>\n",
       "    <tr>\n",
       "      <td>3190</td>\n",
       "      <td>we went there in a weekday night</td>\n",
       "    </tr>\n",
       "    <tr>\n",
       "      <td>2828</td>\n",
       "      <td>highly recommend this place</td>\n",
       "    </tr>\n",
       "    <tr>\n",
       "      <td>3362</td>\n",
       "      <td>if you are staying in the pan pacific this foo...</td>\n",
       "    </tr>\n",
       "  </tbody>\n",
       "</table>\n",
       "</div>"
      ],
      "text/plain": [
       "                                           Review_clean\n",
       "2865  so visiting my brother here in singapore and w...\n",
       "149   be prepared to pay through your nose though bu...\n",
       "3190                   we went there in a weekday night\n",
       "2828                        highly recommend this place\n",
       "3362  if you are staying in the pan pacific this foo..."
      ]
     },
     "execution_count": 50,
     "metadata": {},
     "output_type": "execute_result"
    }
   ],
   "source": [
    "df = pd.DataFrame(x_test)\n",
    "df.head()"
   ]
  },
  {
   "cell_type": "code",
   "execution_count": 51,
   "metadata": {},
   "outputs": [],
   "source": [
    "ans = []\n",
    "\n",
    "for i in df.Review_clean:\n",
    "    new_complaint = [i]\n",
    "    \n",
    "    seq = tokenizer.texts_to_sequences(new_complaint)\n",
    "    padded = pad_sequences(seq, maxlen=MAX_SEQUENCE_LENGTH)\n",
    "    pred = model.predict(padded)\n",
    "    labels = ['1', '2', '3', '4', '5']\n",
    "    \n",
    "    #print(pred, labels[np.argmax(pred)])\n",
    "    #print(labels[np.argmax(pred)])\n",
    "    ans.append(labels[np.argmax(pred)])\n",
    "    "
   ]
  },
  {
   "cell_type": "code",
   "execution_count": 52,
   "metadata": {},
   "outputs": [],
   "source": [
    "df['Predicted'] = ans\n",
    "df['Actual']=y_test"
   ]
  },
  {
   "cell_type": "code",
   "execution_count": 53,
   "metadata": {},
   "outputs": [
    {
     "data": {
      "text/html": [
       "<div>\n",
       "<style scoped>\n",
       "    .dataframe tbody tr th:only-of-type {\n",
       "        vertical-align: middle;\n",
       "    }\n",
       "\n",
       "    .dataframe tbody tr th {\n",
       "        vertical-align: top;\n",
       "    }\n",
       "\n",
       "    .dataframe thead th {\n",
       "        text-align: right;\n",
       "    }\n",
       "</style>\n",
       "<table border=\"1\" class=\"dataframe\">\n",
       "  <thead>\n",
       "    <tr style=\"text-align: right;\">\n",
       "      <th></th>\n",
       "      <th>Review_clean</th>\n",
       "      <th>Predicted</th>\n",
       "      <th>Actual</th>\n",
       "    </tr>\n",
       "  </thead>\n",
       "  <tbody>\n",
       "    <tr>\n",
       "      <td>2865</td>\n",
       "      <td>so visiting my brother here in singapore and w...</td>\n",
       "      <td>5</td>\n",
       "      <td>5</td>\n",
       "    </tr>\n",
       "    <tr>\n",
       "      <td>149</td>\n",
       "      <td>be prepared to pay through your nose though bu...</td>\n",
       "      <td>1</td>\n",
       "      <td>1</td>\n",
       "    </tr>\n",
       "    <tr>\n",
       "      <td>3190</td>\n",
       "      <td>we went there in a weekday night</td>\n",
       "      <td>5</td>\n",
       "      <td>5</td>\n",
       "    </tr>\n",
       "    <tr>\n",
       "      <td>2828</td>\n",
       "      <td>highly recommend this place</td>\n",
       "      <td>5</td>\n",
       "      <td>5</td>\n",
       "    </tr>\n",
       "    <tr>\n",
       "      <td>3362</td>\n",
       "      <td>if you are staying in the pan pacific this foo...</td>\n",
       "      <td>5</td>\n",
       "      <td>5</td>\n",
       "    </tr>\n",
       "  </tbody>\n",
       "</table>\n",
       "</div>"
      ],
      "text/plain": [
       "                                           Review_clean Predicted  Actual\n",
       "2865  so visiting my brother here in singapore and w...         5       5\n",
       "149   be prepared to pay through your nose though bu...         1       1\n",
       "3190                   we went there in a weekday night         5       5\n",
       "2828                        highly recommend this place         5       5\n",
       "3362  if you are staying in the pan pacific this foo...         5       5"
      ]
     },
     "execution_count": 53,
     "metadata": {},
     "output_type": "execute_result"
    }
   ],
   "source": [
    "df.head()"
   ]
  },
  {
   "cell_type": "code",
   "execution_count": 54,
   "metadata": {},
   "outputs": [
    {
     "name": "stdout",
     "output_type": "stream",
     "text": [
      "Predicted    1    2    3   4    5\n",
      "Actual                           \n",
      "1          114    1    4   4    7\n",
      "2            3  259    5   2   10\n",
      "3            5    2  160   3    5\n",
      "4            2    3    3  96    5\n",
      "5            5   11    1   6  150\n"
     ]
    }
   ],
   "source": [
    "confusion_matrix = pd.crosstab(df['Actual'], df['Predicted'], rownames=['Actual'], colnames=['Predicted'])\n",
    "print (confusion_matrix)"
   ]
  },
  {
   "cell_type": "code",
   "execution_count": null,
   "metadata": {},
   "outputs": [],
   "source": []
  },
  {
   "cell_type": "markdown",
   "metadata": {},
   "source": [
    "# Final Model used"
   ]
  },
  {
   "cell_type": "code",
   "execution_count": 55,
   "metadata": {},
   "outputs": [],
   "source": [
    "unlabelled = pd.read_csv('./test_unlabelled.csv', \n",
    "                        encoding= 'unicode_escape', header = None, names = [\"Name\", \"Comment\", \"Star\", \"Date\"])"
   ]
  },
  {
   "cell_type": "code",
   "execution_count": 56,
   "metadata": {},
   "outputs": [
    {
     "data": {
      "text/html": [
       "<div>\n",
       "<style scoped>\n",
       "    .dataframe tbody tr th:only-of-type {\n",
       "        vertical-align: middle;\n",
       "    }\n",
       "\n",
       "    .dataframe tbody tr th {\n",
       "        vertical-align: top;\n",
       "    }\n",
       "\n",
       "    .dataframe thead th {\n",
       "        text-align: right;\n",
       "    }\n",
       "</style>\n",
       "<table border=\"1\" class=\"dataframe\">\n",
       "  <thead>\n",
       "    <tr style=\"text-align: right;\">\n",
       "      <th></th>\n",
       "      <th>Name</th>\n",
       "      <th>Comment</th>\n",
       "      <th>Star</th>\n",
       "      <th>Date</th>\n",
       "    </tr>\n",
       "  </thead>\n",
       "  <tbody>\n",
       "    <tr>\n",
       "      <td>0</td>\n",
       "      <td>Fratini La Trattoria</td>\n",
       "      <td>This is one of my absolute favorite restaurant...</td>\n",
       "      <td>5</td>\n",
       "      <td>2013-03-14T00:00:00</td>\n",
       "    </tr>\n",
       "    <tr>\n",
       "      <td>1</td>\n",
       "      <td>Long Beach Seafood</td>\n",
       "      <td>The dessert was good too.</td>\n",
       "      <td>4</td>\n",
       "      <td>2014-08-14T00:00:00</td>\n",
       "    </tr>\n",
       "    <tr>\n",
       "      <td>2</td>\n",
       "      <td>National Kitchen By Violet Oon</td>\n",
       "      <td>(I'm think that these two restaurants are rela...</td>\n",
       "      <td>4</td>\n",
       "      <td>2016-05-08T00:00:00</td>\n",
       "    </tr>\n",
       "    <tr>\n",
       "      <td>3</td>\n",
       "      <td>StraitsKitchen</td>\n",
       "      <td>Overall a solid 4.5 stars!</td>\n",
       "      <td>4</td>\n",
       "      <td>2018-10-27T00:00:00</td>\n",
       "    </tr>\n",
       "    <tr>\n",
       "      <td>4</td>\n",
       "      <td>Long Ji Zi Char</td>\n",
       "      <td>I'm not too impressed with it as a whole but, ...</td>\n",
       "      <td>5</td>\n",
       "      <td>2016-02-18T00:00:00</td>\n",
       "    </tr>\n",
       "  </tbody>\n",
       "</table>\n",
       "</div>"
      ],
      "text/plain": [
       "                             Name  \\\n",
       "0            Fratini La Trattoria   \n",
       "1              Long Beach Seafood   \n",
       "2  National Kitchen By Violet Oon   \n",
       "3                  StraitsKitchen   \n",
       "4                 Long Ji Zi Char   \n",
       "\n",
       "                                             Comment  Star  \\\n",
       "0  This is one of my absolute favorite restaurant...     5   \n",
       "1                          The dessert was good too.     4   \n",
       "2  (I'm think that these two restaurants are rela...     4   \n",
       "3                         Overall a solid 4.5 stars!     4   \n",
       "4  I'm not too impressed with it as a whole but, ...     5   \n",
       "\n",
       "                  Date  \n",
       "0  2013-03-14T00:00:00  \n",
       "1  2014-08-14T00:00:00  \n",
       "2  2016-05-08T00:00:00  \n",
       "3  2018-10-27T00:00:00  \n",
       "4  2016-02-18T00:00:00  "
      ]
     },
     "execution_count": 56,
     "metadata": {},
     "output_type": "execute_result"
    }
   ],
   "source": [
    "unlabelled.head()"
   ]
  },
  {
   "cell_type": "code",
   "execution_count": 221,
   "metadata": {},
   "outputs": [
    {
     "name": "stdout",
     "output_type": "stream",
     "text": [
      "Training Accuracy:  0.9145167500962649\n",
      "Test Accuracy:  0.7944572748267898\n"
     ]
    }
   ],
   "source": [
    "from sklearn.metrics import roc_auc_score\n",
    "from sklearn import preprocessing\n",
    "\n",
    "vect = TfidfVectorizer(ngram_range=(1, 3), norm= 'l2', binary = True, analyzer = 'word')\n",
    "x_train_dtm = vect.fit_transform(x_train)\n",
    "x_test_dtm = vect.transform(x_test)\n",
    "\n",
    "\n",
    "sgd = linear_model.SGDClassifier(penalty = 'l1', max_iter = 1000, loss = 'hinge', alpha = 0.0001, random_state = 1)\n",
    "sgd.fit(x_train_dtm, y_train)\n",
    "y_pred_class = sgd.predict(x_test_dtm)\n",
    "\n",
    "\n",
    "# Get the training accuracy\n",
    "print('Training Accuracy: ', metrics.accuracy_score(y_train, sgd.predict(x_train_dtm)))\n",
    "# print the accuracy of its predictions\n",
    "print('Test Accuracy: ', metrics.accuracy_score(y_test, y_pred_class))\n",
    "\n",
    "# def multiclass_roc_auc_score(y_test, y_pred_class, average=\"macro\"):\n",
    "#     lb = preprocessing.LabelBinarizer()\n",
    "    \n",
    "#     lb.fit(y_test)\n",
    "#     y_test = lb.transform(y_test)\n",
    "#     y_pred_class = lb.transform(y_pred_class)\n",
    "    \n",
    "#     print(y_test)\n",
    "#     print('---------')\n",
    "#     print(y_pred_class)\n",
    "#     return roc_auc_score(y_test, y_pred_class)\n",
    "\n",
    "# #roc_auc = metrics.roc_auc_score(y_test,5, y_pred_class,5, multi_class = 'ovr', average='macro')\n",
    "# print(multiclass_roc_auc_score(y_test, y_pred_class))"
   ]
  },
  {
   "cell_type": "code",
   "execution_count": 222,
   "metadata": {},
   "outputs": [
    {
     "data": {
      "text/plain": [
       "array([[112,   7,   6,   0,   5],\n",
       "       [  5, 251,   5,   5,  13],\n",
       "       [  3,   9, 150,   6,   7],\n",
       "       [  4,   8,   7,  82,   8],\n",
       "       [  7,  51,  12,  10,  93]])"
      ]
     },
     "execution_count": 222,
     "metadata": {},
     "output_type": "execute_result"
    }
   ],
   "source": [
    "confusion_matrix(y_test, y_pred_class)"
   ]
  },
  {
   "cell_type": "code",
   "execution_count": null,
   "metadata": {},
   "outputs": [],
   "source": [
    "# add the confusion matrix here"
   ]
  },
  {
   "cell_type": "code",
   "execution_count": 58,
   "metadata": {},
   "outputs": [],
   "source": [
    "# classify all the unlabelled sentences\n",
    "\n",
    "unlabelled['Comment'] = unlabelled['Comment'].apply(lambda x: np.str_(x))\n",
    "\n",
    "final = vect.transform(unlabelled.Comment)\n",
    "\n",
    "pred = sgd.predict(final)\n",
    "unlabelled['Label'] = pred\n"
   ]
  },
  {
   "cell_type": "code",
   "execution_count": 59,
   "metadata": {},
   "outputs": [
    {
     "data": {
      "text/html": [
       "<div>\n",
       "<style scoped>\n",
       "    .dataframe tbody tr th:only-of-type {\n",
       "        vertical-align: middle;\n",
       "    }\n",
       "\n",
       "    .dataframe tbody tr th {\n",
       "        vertical-align: top;\n",
       "    }\n",
       "\n",
       "    .dataframe thead th {\n",
       "        text-align: right;\n",
       "    }\n",
       "</style>\n",
       "<table border=\"1\" class=\"dataframe\">\n",
       "  <thead>\n",
       "    <tr style=\"text-align: right;\">\n",
       "      <th></th>\n",
       "      <th>Name</th>\n",
       "      <th>Comment</th>\n",
       "      <th>Star</th>\n",
       "      <th>Date</th>\n",
       "      <th>Label</th>\n",
       "    </tr>\n",
       "  </thead>\n",
       "  <tbody>\n",
       "    <tr>\n",
       "      <td>0</td>\n",
       "      <td>Fratini La Trattoria</td>\n",
       "      <td>This is one of my absolute favorite restaurant...</td>\n",
       "      <td>5</td>\n",
       "      <td>2013-03-14T00:00:00</td>\n",
       "      <td>5</td>\n",
       "    </tr>\n",
       "    <tr>\n",
       "      <td>1</td>\n",
       "      <td>Long Beach Seafood</td>\n",
       "      <td>The dessert was good too.</td>\n",
       "      <td>4</td>\n",
       "      <td>2014-08-14T00:00:00</td>\n",
       "      <td>2</td>\n",
       "    </tr>\n",
       "    <tr>\n",
       "      <td>2</td>\n",
       "      <td>National Kitchen By Violet Oon</td>\n",
       "      <td>(I'm think that these two restaurants are rela...</td>\n",
       "      <td>4</td>\n",
       "      <td>2016-05-08T00:00:00</td>\n",
       "      <td>5</td>\n",
       "    </tr>\n",
       "    <tr>\n",
       "      <td>3</td>\n",
       "      <td>StraitsKitchen</td>\n",
       "      <td>Overall a solid 4.5 stars!</td>\n",
       "      <td>4</td>\n",
       "      <td>2018-10-27T00:00:00</td>\n",
       "      <td>5</td>\n",
       "    </tr>\n",
       "    <tr>\n",
       "      <td>4</td>\n",
       "      <td>Long Ji Zi Char</td>\n",
       "      <td>I'm not too impressed with it as a whole but, ...</td>\n",
       "      <td>5</td>\n",
       "      <td>2016-02-18T00:00:00</td>\n",
       "      <td>2</td>\n",
       "    </tr>\n",
       "  </tbody>\n",
       "</table>\n",
       "</div>"
      ],
      "text/plain": [
       "                             Name  \\\n",
       "0            Fratini La Trattoria   \n",
       "1              Long Beach Seafood   \n",
       "2  National Kitchen By Violet Oon   \n",
       "3                  StraitsKitchen   \n",
       "4                 Long Ji Zi Char   \n",
       "\n",
       "                                             Comment  Star  \\\n",
       "0  This is one of my absolute favorite restaurant...     5   \n",
       "1                          The dessert was good too.     4   \n",
       "2  (I'm think that these two restaurants are rela...     4   \n",
       "3                         Overall a solid 4.5 stars!     4   \n",
       "4  I'm not too impressed with it as a whole but, ...     5   \n",
       "\n",
       "                  Date  Label  \n",
       "0  2013-03-14T00:00:00      5  \n",
       "1  2014-08-14T00:00:00      2  \n",
       "2  2016-05-08T00:00:00      5  \n",
       "3  2018-10-27T00:00:00      5  \n",
       "4  2016-02-18T00:00:00      2  "
      ]
     },
     "execution_count": 59,
     "metadata": {},
     "output_type": "execute_result"
    }
   ],
   "source": [
    "unlabelled.head()"
   ]
  },
  {
   "cell_type": "code",
   "execution_count": 60,
   "metadata": {},
   "outputs": [],
   "source": [
    "# export to csv\n",
    "\n",
    "unlabelled.to_csv('./final_labelled.csv')\n"
   ]
  },
  {
   "cell_type": "code",
   "execution_count": 61,
   "metadata": {},
   "outputs": [
    {
     "data": {
      "text/plain": [
       "(75324, 5)"
      ]
     },
     "execution_count": 61,
     "metadata": {},
     "output_type": "execute_result"
    }
   ],
   "source": [
    "unlabelled.shape"
   ]
  }
 ],
 "metadata": {
  "kernelspec": {
   "display_name": "Python 3",
   "language": "python",
   "name": "python3"
  },
  "language_info": {
   "codemirror_mode": {
    "name": "ipython",
    "version": 3
   },
   "file_extension": ".py",
   "mimetype": "text/x-python",
   "name": "python",
   "nbconvert_exporter": "python",
   "pygments_lexer": "ipython3",
   "version": "3.7.4"
  }
 },
 "nbformat": 4,
 "nbformat_minor": 2
}
