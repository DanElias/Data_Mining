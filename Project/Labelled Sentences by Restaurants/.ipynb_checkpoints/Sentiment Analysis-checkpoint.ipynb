{
 "cells": [
  {
   "cell_type": "markdown",
   "metadata": {},
   "source": [
    "## Importing the necessary libraries"
   ]
  },
  {
   "cell_type": "code",
   "execution_count": 1,
   "metadata": {},
   "outputs": [],
   "source": [
    "import pandas as pd\n",
    "import numpy as np\n",
    "import math\n",
    "import matplotlib.pyplot as plt\n",
    "\n",
    "from textblob import TextBlob\n",
    "from sklearn.metrics import accuracy_score"
   ]
  },
  {
   "cell_type": "markdown",
   "metadata": {},
   "source": [
    "## Reading in the cleaned corpus"
   ]
  },
  {
   "cell_type": "code",
   "execution_count": 11,
   "metadata": {},
   "outputs": [],
   "source": [
    "# Loading dataframe\n",
    "df = pd.read_csv(\"final_labelled.csv\")"
   ]
  },
  {
   "cell_type": "markdown",
   "metadata": {},
   "source": [
    "## Getting a DataFrame of reviews by restaurants"
   ]
  },
  {
   "cell_type": "code",
   "execution_count": 12,
   "metadata": {},
   "outputs": [
    {
     "name": "stdout",
     "output_type": "stream",
     "text": [
      "779\n"
     ]
    }
   ],
   "source": [
    "# To get unique restaurant names\n",
    "restaurant_names = []\n",
    "\n",
    "for rest in df[\"Name\"]: # each restaurant name\n",
    "    if rest not in restaurant_names: \n",
    "        restaurant_names.append(rest)\n",
    "\n",
    "print(len(restaurant_names)) # number of restaurants"
   ]
  },
  {
   "cell_type": "code",
   "execution_count": 15,
   "metadata": {},
   "outputs": [],
   "source": [
    "# To get restaurant name and respective reviews (separately including date)\n",
    "reviewsByRestaurant = dict.fromkeys(restaurant_names, \"\")\n",
    "for rest in restaurant_names: \n",
    "    filtered= []\n",
    "    reviewsByRestaurant[rest] = [] # to contain a list of sentences for that restaurant    \n",
    "    filtered = df[df['Name'] == rest]\n",
    "    for i in range(len(filtered)): \n",
    "        review_info = {} # to contain key value pairs of label: sentence, date: date\n",
    "        review_info['Review'] = str(filtered.iloc[i]['Comment'])\n",
    "        review_info['Date'] = pd.to_datetime(filtered.iloc[i]['Date'])\n",
    "        review_info['Label'] = filtered.iloc[i]['Label']\n",
    "        review_info['Stars'] = filtered.iloc[i]['Star']\n",
    "        reviewsByRestaurant[rest].append(review_info)"
   ]
  },
  {
   "cell_type": "code",
   "execution_count": 16,
   "metadata": {},
   "outputs": [
    {
     "data": {
      "text/html": [
       "<div>\n",
       "<style scoped>\n",
       "    .dataframe tbody tr th:only-of-type {\n",
       "        vertical-align: middle;\n",
       "    }\n",
       "\n",
       "    .dataframe tbody tr th {\n",
       "        vertical-align: top;\n",
       "    }\n",
       "\n",
       "    .dataframe thead th {\n",
       "        text-align: right;\n",
       "    }\n",
       "</style>\n",
       "<table border=\"1\" class=\"dataframe\">\n",
       "  <thead>\n",
       "    <tr style=\"text-align: right;\">\n",
       "      <th></th>\n",
       "      <th>Restaurant</th>\n",
       "      <th>Review</th>\n",
       "      <th>Date</th>\n",
       "      <th>Label</th>\n",
       "      <th>Stars</th>\n",
       "    </tr>\n",
       "  </thead>\n",
       "  <tbody>\n",
       "    <tr>\n",
       "      <td>0</td>\n",
       "      <td>Fratini La Trattoria</td>\n",
       "      <td>This is one of my absolute favorite restaurant...</td>\n",
       "      <td>2013-03-14</td>\n",
       "      <td>5</td>\n",
       "      <td>5</td>\n",
       "    </tr>\n",
       "    <tr>\n",
       "      <td>1</td>\n",
       "      <td>Fratini La Trattoria</td>\n",
       "      <td>I like the relieve from having to decide what ...</td>\n",
       "      <td>2015-02-06</td>\n",
       "      <td>5</td>\n",
       "      <td>4</td>\n",
       "    </tr>\n",
       "    <tr>\n",
       "      <td>2</td>\n",
       "      <td>Fratini La Trattoria</td>\n",
       "      <td>It has been a while since I've had such a good...</td>\n",
       "      <td>2016-02-26</td>\n",
       "      <td>2</td>\n",
       "      <td>5</td>\n",
       "    </tr>\n",
       "    <tr>\n",
       "      <td>3</td>\n",
       "      <td>Fratini La Trattoria</td>\n",
       "      <td>Not to rub it in but the table next to yours h...</td>\n",
       "      <td>2014-01-18</td>\n",
       "      <td>3</td>\n",
       "      <td>4</td>\n",
       "    </tr>\n",
       "    <tr>\n",
       "      <td>4</td>\n",
       "      <td>Fratini La Trattoria</td>\n",
       "      <td>Overall a wonderful dining experience.</td>\n",
       "      <td>2015-02-06</td>\n",
       "      <td>1</td>\n",
       "      <td>4</td>\n",
       "    </tr>\n",
       "  </tbody>\n",
       "</table>\n",
       "</div>"
      ],
      "text/plain": [
       "             Restaurant                                             Review  \\\n",
       "0  Fratini La Trattoria  This is one of my absolute favorite restaurant...   \n",
       "1  Fratini La Trattoria  I like the relieve from having to decide what ...   \n",
       "2  Fratini La Trattoria  It has been a while since I've had such a good...   \n",
       "3  Fratini La Trattoria  Not to rub it in but the table next to yours h...   \n",
       "4  Fratini La Trattoria             Overall a wonderful dining experience.   \n",
       "\n",
       "        Date  Label  Stars  \n",
       "0 2013-03-14      5      5  \n",
       "1 2015-02-06      5      4  \n",
       "2 2016-02-26      2      5  \n",
       "3 2014-01-18      3      4  \n",
       "4 2015-02-06      1      4  "
      ]
     },
     "execution_count": 16,
     "metadata": {},
     "output_type": "execute_result"
    }
   ],
   "source": [
    "# To get df of restaurant and labels with date\n",
    "rows = []\n",
    "\n",
    "for rest in restaurant_names:\n",
    "    for review_info in reviewsByRestaurant[rest]:\n",
    "        review_info['Restaurant'] = rest\n",
    "        rows.append(review_info)\n",
    "\n",
    "df = pd.DataFrame(rows)\n",
    "df = df[['Restaurant', 'Review', 'Date', 'Label', 'Stars']]\n",
    "\n",
    "df.head()"
   ]
  },
  {
   "cell_type": "code",
   "execution_count": 17,
   "metadata": {},
   "outputs": [
    {
     "data": {
      "text/plain": [
       "Restaurant            object\n",
       "Review                object\n",
       "Date          datetime64[ns]\n",
       "Label                  int64\n",
       "Stars                  int64\n",
       "dtype: object"
      ]
     },
     "execution_count": 17,
     "metadata": {},
     "output_type": "execute_result"
    }
   ],
   "source": [
    "# Checking datatype for each column\n",
    "df.dtypes"
   ]
  },
  {
   "cell_type": "code",
   "execution_count": 18,
   "metadata": {},
   "outputs": [
    {
     "data": {
      "text/plain": [
       "(75324, 5)"
      ]
     },
     "execution_count": 18,
     "metadata": {},
     "output_type": "execute_result"
    }
   ],
   "source": [
    "# Viewing specifications of dataset\n",
    "df.shape"
   ]
  },
  {
   "cell_type": "markdown",
   "metadata": {},
   "source": [
    "# Sentiment Analysis"
   ]
  },
  {
   "cell_type": "code",
   "execution_count": 3,
   "metadata": {},
   "outputs": [],
   "source": [
    "from textblob import TextBlob\n",
    "import numpy as np\n",
    "import math\n",
    "from sklearn.metrics import accuracy_score"
   ]
  },
  {
   "cell_type": "code",
   "execution_count": 4,
   "metadata": {},
   "outputs": [],
   "source": [
    "# Sentiment polarity analysis for each review\n",
    "df[\"sentiment_polarity\"] = df.apply (lambda row: TextBlob(row[1]).sentiment.polarity, axis=1)"
   ]
  },
  {
   "cell_type": "code",
   "execution_count": 5,
   "metadata": {},
   "outputs": [
    {
     "data": {
      "text/html": [
       "<div>\n",
       "<style scoped>\n",
       "    .dataframe tbody tr th:only-of-type {\n",
       "        vertical-align: middle;\n",
       "    }\n",
       "\n",
       "    .dataframe tbody tr th {\n",
       "        vertical-align: top;\n",
       "    }\n",
       "\n",
       "    .dataframe thead th {\n",
       "        text-align: right;\n",
       "    }\n",
       "</style>\n",
       "<table border=\"1\" class=\"dataframe\">\n",
       "  <thead>\n",
       "    <tr style=\"text-align: right;\">\n",
       "      <th></th>\n",
       "      <th>Restaurant</th>\n",
       "      <th>Review</th>\n",
       "      <th>Date</th>\n",
       "      <th>Label</th>\n",
       "      <th>Stars</th>\n",
       "      <th>sentiment_polarity</th>\n",
       "    </tr>\n",
       "  </thead>\n",
       "  <tbody>\n",
       "    <tr>\n",
       "      <th>0</th>\n",
       "      <td>Happy Tummy</td>\n",
       "      <td>fresh ingredient friendly peep and so much che...</td>\n",
       "      <td>2016-04-06</td>\n",
       "      <td>1</td>\n",
       "      <td>5</td>\n",
       "      <td>0.000714</td>\n",
       "    </tr>\n",
       "    <tr>\n",
       "      <th>1</th>\n",
       "      <td>Cibo Italiano</td>\n",
       "      <td>a small selection of italian wine by the glass...</td>\n",
       "      <td>2015-12-24</td>\n",
       "      <td>1</td>\n",
       "      <td>4</td>\n",
       "      <td>0.150000</td>\n",
       "    </tr>\n",
       "    <tr>\n",
       "      <th>2</th>\n",
       "      <td>Cibo Italiano</td>\n",
       "      <td>cultural relevant singaporean cuisine in very ...</td>\n",
       "      <td>2018-08-19</td>\n",
       "      <td>4</td>\n",
       "      <td>5</td>\n",
       "      <td>0.263750</td>\n",
       "    </tr>\n",
       "    <tr>\n",
       "      <th>3</th>\n",
       "      <td>Cibo Italiano</td>\n",
       "      <td>generous with the clam</td>\n",
       "      <td>2016-11-28</td>\n",
       "      <td>1</td>\n",
       "      <td>5</td>\n",
       "      <td>0.000000</td>\n",
       "    </tr>\n",
       "    <tr>\n",
       "      <th>4</th>\n",
       "      <td>Yan kee Noodle House</td>\n",
       "      <td>the plus point is that the price remains the s...</td>\n",
       "      <td>2018-12-28</td>\n",
       "      <td>1</td>\n",
       "      <td>4</td>\n",
       "      <td>0.000000</td>\n",
       "    </tr>\n",
       "  </tbody>\n",
       "</table>\n",
       "</div>"
      ],
      "text/plain": [
       "             Restaurant                                             Review  \\\n",
       "0           Happy Tummy  fresh ingredient friendly peep and so much che...   \n",
       "1         Cibo Italiano  a small selection of italian wine by the glass...   \n",
       "2         Cibo Italiano  cultural relevant singaporean cuisine in very ...   \n",
       "3         Cibo Italiano                             generous with the clam   \n",
       "4  Yan kee Noodle House  the plus point is that the price remains the s...   \n",
       "\n",
       "        Date  Label  Stars  sentiment_polarity  \n",
       "0 2016-04-06      1      5            0.000714  \n",
       "1 2015-12-24      1      4            0.150000  \n",
       "2 2018-08-19      4      5            0.263750  \n",
       "3 2016-11-28      1      5            0.000000  \n",
       "4 2018-12-28      1      4            0.000000  "
      ]
     },
     "execution_count": 5,
     "metadata": {},
     "output_type": "execute_result"
    }
   ],
   "source": [
    "# Viewing dataframe with sentiment scores\n",
    "df.head()"
   ]
  },
  {
   "cell_type": "code",
   "execution_count": 6,
   "metadata": {},
   "outputs": [],
   "source": [
    "# adjusting sentiment scores to [0 - 1] range\n",
    "def adj_sentiment(sentiment):\n",
    "    return ((sentiment + 1)/2)"
   ]
  },
  {
   "cell_type": "code",
   "execution_count": 7,
   "metadata": {},
   "outputs": [],
   "source": [
    "# adjusting sentiment\n",
    "df[\"adjusted_sentiment\"] = df.apply (lambda row: adj_sentiment(row[5]), axis=1)"
   ]
  },
  {
   "cell_type": "code",
   "execution_count": 8,
   "metadata": {},
   "outputs": [
    {
     "data": {
      "text/html": [
       "<div>\n",
       "<style scoped>\n",
       "    .dataframe tbody tr th:only-of-type {\n",
       "        vertical-align: middle;\n",
       "    }\n",
       "\n",
       "    .dataframe tbody tr th {\n",
       "        vertical-align: top;\n",
       "    }\n",
       "\n",
       "    .dataframe thead th {\n",
       "        text-align: right;\n",
       "    }\n",
       "</style>\n",
       "<table border=\"1\" class=\"dataframe\">\n",
       "  <thead>\n",
       "    <tr style=\"text-align: right;\">\n",
       "      <th></th>\n",
       "      <th>Restaurant</th>\n",
       "      <th>Review</th>\n",
       "      <th>Date</th>\n",
       "      <th>Label</th>\n",
       "      <th>Stars</th>\n",
       "      <th>sentiment_polarity</th>\n",
       "      <th>adjusted_sentiment</th>\n",
       "    </tr>\n",
       "  </thead>\n",
       "  <tbody>\n",
       "    <tr>\n",
       "      <th>0</th>\n",
       "      <td>Happy Tummy</td>\n",
       "      <td>fresh ingredient friendly peep and so much che...</td>\n",
       "      <td>2016-04-06</td>\n",
       "      <td>1</td>\n",
       "      <td>5</td>\n",
       "      <td>0.000714</td>\n",
       "      <td>0.500357</td>\n",
       "    </tr>\n",
       "    <tr>\n",
       "      <th>1</th>\n",
       "      <td>Cibo Italiano</td>\n",
       "      <td>a small selection of italian wine by the glass...</td>\n",
       "      <td>2015-12-24</td>\n",
       "      <td>1</td>\n",
       "      <td>4</td>\n",
       "      <td>0.150000</td>\n",
       "      <td>0.575000</td>\n",
       "    </tr>\n",
       "    <tr>\n",
       "      <th>2</th>\n",
       "      <td>Cibo Italiano</td>\n",
       "      <td>cultural relevant singaporean cuisine in very ...</td>\n",
       "      <td>2018-08-19</td>\n",
       "      <td>4</td>\n",
       "      <td>5</td>\n",
       "      <td>0.263750</td>\n",
       "      <td>0.631875</td>\n",
       "    </tr>\n",
       "    <tr>\n",
       "      <th>3</th>\n",
       "      <td>Cibo Italiano</td>\n",
       "      <td>generous with the clam</td>\n",
       "      <td>2016-11-28</td>\n",
       "      <td>1</td>\n",
       "      <td>5</td>\n",
       "      <td>0.000000</td>\n",
       "      <td>0.500000</td>\n",
       "    </tr>\n",
       "    <tr>\n",
       "      <th>4</th>\n",
       "      <td>Yan kee Noodle House</td>\n",
       "      <td>the plus point is that the price remains the s...</td>\n",
       "      <td>2018-12-28</td>\n",
       "      <td>1</td>\n",
       "      <td>4</td>\n",
       "      <td>0.000000</td>\n",
       "      <td>0.500000</td>\n",
       "    </tr>\n",
       "  </tbody>\n",
       "</table>\n",
       "</div>"
      ],
      "text/plain": [
       "             Restaurant                                             Review  \\\n",
       "0           Happy Tummy  fresh ingredient friendly peep and so much che...   \n",
       "1         Cibo Italiano  a small selection of italian wine by the glass...   \n",
       "2         Cibo Italiano  cultural relevant singaporean cuisine in very ...   \n",
       "3         Cibo Italiano                             generous with the clam   \n",
       "4  Yan kee Noodle House  the plus point is that the price remains the s...   \n",
       "\n",
       "        Date  Label  Stars  sentiment_polarity  adjusted_sentiment  \n",
       "0 2016-04-06      1      5            0.000714            0.500357  \n",
       "1 2015-12-24      1      4            0.150000            0.575000  \n",
       "2 2018-08-19      4      5            0.263750            0.631875  \n",
       "3 2016-11-28      1      5            0.000000            0.500000  \n",
       "4 2018-12-28      1      4            0.000000            0.500000  "
      ]
     },
     "execution_count": 8,
     "metadata": {},
     "output_type": "execute_result"
    }
   ],
   "source": [
    "# Viewing daataframe with sentiment scores\n",
    "df.head()"
   ]
  },
  {
   "cell_type": "markdown",
   "metadata": {},
   "source": [
    "# Creating Date weights"
   ]
  },
  {
   "cell_type": "code",
   "execution_count": 9,
   "metadata": {},
   "outputs": [
    {
     "data": {
      "text/plain": [
       "(1926, 7)"
      ]
     },
     "execution_count": 9,
     "metadata": {},
     "output_type": "execute_result"
    }
   ],
   "source": [
    "# Ensuring df shape\n",
    "df.shape"
   ]
  },
  {
   "cell_type": "code",
   "execution_count": 64,
   "metadata": {},
   "outputs": [
    {
     "data": {
      "text/plain": [
       "1926"
      ]
     },
     "execution_count": 64,
     "metadata": {},
     "output_type": "execute_result"
    }
   ],
   "source": [
    "# Creating rank for each row according to restaurant, label and then date\n",
    "df = df.sort_values(['Restaurant', 'Label', 'Date'], ascending = (True, True, False))\n",
    "tmp = df.groupby(['Restaurant', 'Label']).size()\n",
    "rank_range = tmp.map(range)\n",
    "rank =[(item +1) for sublist in rank_range for item in sublist]\n",
    "len(rank)"
   ]
  },
  {
   "cell_type": "code",
   "execution_count": 65,
   "metadata": {},
   "outputs": [],
   "source": [
    "# Creating reciprocal ranks weights for each input\n",
    "df[\"weights\"] = [1/x for x in rank]"
   ]
  },
  {
   "cell_type": "code",
   "execution_count": 66,
   "metadata": {},
   "outputs": [
    {
     "data": {
      "text/html": [
       "<div>\n",
       "<style scoped>\n",
       "    .dataframe tbody tr th:only-of-type {\n",
       "        vertical-align: middle;\n",
       "    }\n",
       "\n",
       "    .dataframe tbody tr th {\n",
       "        vertical-align: top;\n",
       "    }\n",
       "\n",
       "    .dataframe thead th {\n",
       "        text-align: right;\n",
       "    }\n",
       "</style>\n",
       "<table border=\"1\" class=\"dataframe\">\n",
       "  <thead>\n",
       "    <tr style=\"text-align: right;\">\n",
       "      <th></th>\n",
       "      <th>Restaurant</th>\n",
       "      <th>Review</th>\n",
       "      <th>Date</th>\n",
       "      <th>Label</th>\n",
       "      <th>Stars</th>\n",
       "      <th>sentiment_polarity</th>\n",
       "      <th>adjusted_sentiment</th>\n",
       "      <th>weights</th>\n",
       "    </tr>\n",
       "  </thead>\n",
       "  <tbody>\n",
       "    <tr>\n",
       "      <th>293</th>\n",
       "      <td>10 at Claymore</td>\n",
       "      <td>they had a small but good selection of dessert</td>\n",
       "      <td>2017-03-25</td>\n",
       "      <td>1</td>\n",
       "      <td>4</td>\n",
       "      <td>0.225000</td>\n",
       "      <td>0.612500</td>\n",
       "      <td>1.000000</td>\n",
       "    </tr>\n",
       "    <tr>\n",
       "      <th>294</th>\n",
       "      <td>10 at Claymore</td>\n",
       "      <td>and expensive tea you know the kind where the ...</td>\n",
       "      <td>2014-10-02</td>\n",
       "      <td>1</td>\n",
       "      <td>4</td>\n",
       "      <td>0.050000</td>\n",
       "      <td>0.525000</td>\n",
       "      <td>0.500000</td>\n",
       "    </tr>\n",
       "    <tr>\n",
       "      <th>295</th>\n",
       "      <td>10 at Claymore</td>\n",
       "      <td>freshly made piping hot and generous filling n...</td>\n",
       "      <td>2014-10-02</td>\n",
       "      <td>2</td>\n",
       "      <td>4</td>\n",
       "      <td>0.400000</td>\n",
       "      <td>0.700000</td>\n",
       "      <td>1.000000</td>\n",
       "    </tr>\n",
       "    <tr>\n",
       "      <th>297</th>\n",
       "      <td>10 at Claymore</td>\n",
       "      <td>the perfectly cooked meat gave way to a moist ...</td>\n",
       "      <td>2013-04-18</td>\n",
       "      <td>2</td>\n",
       "      <td>4</td>\n",
       "      <td>0.364416</td>\n",
       "      <td>0.682208</td>\n",
       "      <td>0.500000</td>\n",
       "    </tr>\n",
       "    <tr>\n",
       "      <th>298</th>\n",
       "      <td>10 at Claymore</td>\n",
       "      <td>i love their penang style prawn noodle that co...</td>\n",
       "      <td>2012-08-19</td>\n",
       "      <td>2</td>\n",
       "      <td>3</td>\n",
       "      <td>0.158333</td>\n",
       "      <td>0.579167</td>\n",
       "      <td>0.333333</td>\n",
       "    </tr>\n",
       "    <tr>\n",
       "      <th>299</th>\n",
       "      <td>10 at Claymore</td>\n",
       "      <td>everyone wa friendly but one particular gentle...</td>\n",
       "      <td>2014-12-30</td>\n",
       "      <td>3</td>\n",
       "      <td>5</td>\n",
       "      <td>0.368750</td>\n",
       "      <td>0.684375</td>\n",
       "      <td>1.000000</td>\n",
       "    </tr>\n",
       "    <tr>\n",
       "      <th>296</th>\n",
       "      <td>10 at Claymore</td>\n",
       "      <td>order your bread naan chapatti first so they c...</td>\n",
       "      <td>2012-10-17</td>\n",
       "      <td>5</td>\n",
       "      <td>4</td>\n",
       "      <td>0.250000</td>\n",
       "      <td>0.625000</td>\n",
       "      <td>1.000000</td>\n",
       "    </tr>\n",
       "    <tr>\n",
       "      <th>1917</th>\n",
       "      <td>126 Eating House</td>\n",
       "      <td>just know that you do not come here for impecc...</td>\n",
       "      <td>2018-10-22</td>\n",
       "      <td>3</td>\n",
       "      <td>4</td>\n",
       "      <td>0.750000</td>\n",
       "      <td>0.875000</td>\n",
       "      <td>1.000000</td>\n",
       "    </tr>\n",
       "    <tr>\n",
       "      <th>1879</th>\n",
       "      <td>2it &amp; Drink</td>\n",
       "      <td>the tomato sauce cheese and bread of the marga...</td>\n",
       "      <td>2018-12-23</td>\n",
       "      <td>2</td>\n",
       "      <td>5</td>\n",
       "      <td>0.900000</td>\n",
       "      <td>0.950000</td>\n",
       "      <td>1.000000</td>\n",
       "    </tr>\n",
       "    <tr>\n",
       "      <th>615</th>\n",
       "      <td>328 Katong Laksa</td>\n",
       "      <td>it also contained a sorry looking piece of sma...</td>\n",
       "      <td>2019-11-05</td>\n",
       "      <td>2</td>\n",
       "      <td>3</td>\n",
       "      <td>0.036667</td>\n",
       "      <td>0.518333</td>\n",
       "      <td>1.000000</td>\n",
       "    </tr>\n",
       "    <tr>\n",
       "      <th>614</th>\n",
       "      <td>328 Katong Laksa</td>\n",
       "      <td>the otah a type of fish cake wa real good espe...</td>\n",
       "      <td>2016-02-23</td>\n",
       "      <td>2</td>\n",
       "      <td>4</td>\n",
       "      <td>0.309722</td>\n",
       "      <td>0.654861</td>\n",
       "      <td>0.500000</td>\n",
       "    </tr>\n",
       "    <tr>\n",
       "      <th>618</th>\n",
       "      <td>328 Katong Laksa</td>\n",
       "      <td>the staff are rude and proud</td>\n",
       "      <td>2018-12-10</td>\n",
       "      <td>3</td>\n",
       "      <td>1</td>\n",
       "      <td>0.250000</td>\n",
       "      <td>0.625000</td>\n",
       "      <td>1.000000</td>\n",
       "    </tr>\n",
       "    <tr>\n",
       "      <th>619</th>\n",
       "      <td>328 Katong Laksa</td>\n",
       "      <td>i came from hawaii</td>\n",
       "      <td>2019-02-17</td>\n",
       "      <td>5</td>\n",
       "      <td>2</td>\n",
       "      <td>0.000000</td>\n",
       "      <td>0.500000</td>\n",
       "      <td>1.000000</td>\n",
       "    </tr>\n",
       "    <tr>\n",
       "      <th>617</th>\n",
       "      <td>328 Katong Laksa</td>\n",
       "      <td>supaya dapat sim surat ijin mancing next trip ...</td>\n",
       "      <td>2018-05-12</td>\n",
       "      <td>5</td>\n",
       "      <td>4</td>\n",
       "      <td>0.000000</td>\n",
       "      <td>0.500000</td>\n",
       "      <td>0.500000</td>\n",
       "    </tr>\n",
       "    <tr>\n",
       "      <th>616</th>\n",
       "      <td>328 Katong Laksa</td>\n",
       "      <td>i have visited singapore 9 time when my boyfri...</td>\n",
       "      <td>2014-02-07</td>\n",
       "      <td>5</td>\n",
       "      <td>5</td>\n",
       "      <td>0.000000</td>\n",
       "      <td>0.500000</td>\n",
       "      <td>0.333333</td>\n",
       "    </tr>\n",
       "    <tr>\n",
       "      <th>1300</th>\n",
       "      <td>8 Korean BBQ</td>\n",
       "      <td>by the light of clarke quay</td>\n",
       "      <td>2014-04-12</td>\n",
       "      <td>4</td>\n",
       "      <td>4</td>\n",
       "      <td>0.400000</td>\n",
       "      <td>0.700000</td>\n",
       "      <td>1.000000</td>\n",
       "    </tr>\n",
       "    <tr>\n",
       "      <th>1301</th>\n",
       "      <td>8 Korean BBQ</td>\n",
       "      <td>during a recent trip to singapore i decided to...</td>\n",
       "      <td>2018-11-01</td>\n",
       "      <td>5</td>\n",
       "      <td>3</td>\n",
       "      <td>0.000000</td>\n",
       "      <td>0.500000</td>\n",
       "      <td>1.000000</td>\n",
       "    </tr>\n",
       "    <tr>\n",
       "      <th>1302</th>\n",
       "      <td>8 Korean BBQ</td>\n",
       "      <td>i d say that s testament in itself that we wan...</td>\n",
       "      <td>2014-04-12</td>\n",
       "      <td>5</td>\n",
       "      <td>4</td>\n",
       "      <td>0.700000</td>\n",
       "      <td>0.850000</td>\n",
       "      <td>0.500000</td>\n",
       "    </tr>\n",
       "    <tr>\n",
       "      <th>622</th>\n",
       "      <td>A Noodle Story</td>\n",
       "      <td>some people complain about the line and the hi...</td>\n",
       "      <td>2019-03-10</td>\n",
       "      <td>1</td>\n",
       "      <td>5</td>\n",
       "      <td>0.190000</td>\n",
       "      <td>0.595000</td>\n",
       "      <td>1.000000</td>\n",
       "    </tr>\n",
       "    <tr>\n",
       "      <th>621</th>\n",
       "      <td>A Noodle Story</td>\n",
       "      <td>but man best topping ever on a ramen and the p...</td>\n",
       "      <td>2019-12-01</td>\n",
       "      <td>2</td>\n",
       "      <td>4</td>\n",
       "      <td>0.750000</td>\n",
       "      <td>0.875000</td>\n",
       "      <td>1.000000</td>\n",
       "    </tr>\n",
       "    <tr>\n",
       "      <th>620</th>\n",
       "      <td>A Noodle Story</td>\n",
       "      <td>for me this ramen tasted like your typical won...</td>\n",
       "      <td>2017-08-28</td>\n",
       "      <td>2</td>\n",
       "      <td>4</td>\n",
       "      <td>-0.166667</td>\n",
       "      <td>0.416667</td>\n",
       "      <td>0.500000</td>\n",
       "    </tr>\n",
       "    <tr>\n",
       "      <th>623</th>\n",
       "      <td>A Noodle Story</td>\n",
       "      <td>the potato wrapped prawn wa also pretty incred...</td>\n",
       "      <td>2016-10-27</td>\n",
       "      <td>2</td>\n",
       "      <td>3</td>\n",
       "      <td>0.575000</td>\n",
       "      <td>0.787500</td>\n",
       "      <td>0.333333</td>\n",
       "    </tr>\n",
       "    <tr>\n",
       "      <th>624</th>\n",
       "      <td>A Noodle Story</td>\n",
       "      <td>i came in the early dining hour and there wa a...</td>\n",
       "      <td>2019-01-31</td>\n",
       "      <td>3</td>\n",
       "      <td>5</td>\n",
       "      <td>0.100000</td>\n",
       "      <td>0.550000</td>\n",
       "      <td>1.000000</td>\n",
       "    </tr>\n",
       "    <tr>\n",
       "      <th>1603</th>\n",
       "      <td>A Poke Theory</td>\n",
       "      <td>i opted for the spicy mayo tuna i believe with...</td>\n",
       "      <td>2017-03-20</td>\n",
       "      <td>5</td>\n",
       "      <td>3</td>\n",
       "      <td>0.000000</td>\n",
       "      <td>0.500000</td>\n",
       "      <td>1.000000</td>\n",
       "    </tr>\n",
       "    <tr>\n",
       "      <th>1604</th>\n",
       "      <td>A Poke Theory</td>\n",
       "      <td>hence this make your own bowl concept wa intri...</td>\n",
       "      <td>2016-09-26</td>\n",
       "      <td>5</td>\n",
       "      <td>4</td>\n",
       "      <td>0.225000</td>\n",
       "      <td>0.612500</td>\n",
       "      <td>0.500000</td>\n",
       "    </tr>\n",
       "    <tr>\n",
       "      <th>1742</th>\n",
       "      <td>ADRIFT</td>\n",
       "      <td>the food wa only two third of the experience b...</td>\n",
       "      <td>2013-03-12</td>\n",
       "      <td>4</td>\n",
       "      <td>3</td>\n",
       "      <td>0.000000</td>\n",
       "      <td>0.500000</td>\n",
       "      <td>1.000000</td>\n",
       "    </tr>\n",
       "    <tr>\n",
       "      <th>1743</th>\n",
       "      <td>ADRIFT</td>\n",
       "      <td>this is a review of a friday evening dinner da...</td>\n",
       "      <td>2012-12-08</td>\n",
       "      <td>4</td>\n",
       "      <td>5</td>\n",
       "      <td>0.425000</td>\n",
       "      <td>0.712500</td>\n",
       "      <td>0.500000</td>\n",
       "    </tr>\n",
       "    <tr>\n",
       "      <th>1740</th>\n",
       "      <td>ADRIFT</td>\n",
       "      <td>went to adrift for their breakfast buffet</td>\n",
       "      <td>2018-09-06</td>\n",
       "      <td>5</td>\n",
       "      <td>4</td>\n",
       "      <td>0.000000</td>\n",
       "      <td>0.500000</td>\n",
       "      <td>1.000000</td>\n",
       "    </tr>\n",
       "    <tr>\n",
       "      <th>1741</th>\n",
       "      <td>ADRIFT</td>\n",
       "      <td>we will be back</td>\n",
       "      <td>2018-05-19</td>\n",
       "      <td>5</td>\n",
       "      <td>5</td>\n",
       "      <td>0.000000</td>\n",
       "      <td>0.500000</td>\n",
       "      <td>0.500000</td>\n",
       "    </tr>\n",
       "    <tr>\n",
       "      <th>1032</th>\n",
       "      <td>Afterglow</td>\n",
       "      <td>both were priced for dollar 22 which wa pretty...</td>\n",
       "      <td>2015-07-16</td>\n",
       "      <td>1</td>\n",
       "      <td>3</td>\n",
       "      <td>-0.125000</td>\n",
       "      <td>0.437500</td>\n",
       "      <td>1.000000</td>\n",
       "    </tr>\n",
       "    <tr>\n",
       "      <th>...</th>\n",
       "      <td>...</td>\n",
       "      <td>...</td>\n",
       "      <td>...</td>\n",
       "      <td>...</td>\n",
       "      <td>...</td>\n",
       "      <td>...</td>\n",
       "      <td>...</td>\n",
       "      <td>...</td>\n",
       "    </tr>\n",
       "    <tr>\n",
       "      <th>1650</th>\n",
       "      <td>Yardbird Southern Table &amp; Bar</td>\n",
       "      <td>i didn t feel like dirtying my hand at one tim...</td>\n",
       "      <td>2012-08-31</td>\n",
       "      <td>5</td>\n",
       "      <td>4</td>\n",
       "      <td>0.000000</td>\n",
       "      <td>0.500000</td>\n",
       "      <td>1.000000</td>\n",
       "    </tr>\n",
       "    <tr>\n",
       "      <th>1531</th>\n",
       "      <td>Zam Zam Restaurant</td>\n",
       "      <td>it wa even better than the best pulled milk te...</td>\n",
       "      <td>2019-04-10</td>\n",
       "      <td>2</td>\n",
       "      <td>4</td>\n",
       "      <td>0.750000</td>\n",
       "      <td>0.875000</td>\n",
       "      <td>1.000000</td>\n",
       "    </tr>\n",
       "    <tr>\n",
       "      <th>1533</th>\n",
       "      <td>Zam Zam Restaurant</td>\n",
       "      <td>it s got a good mix of spice for complexity an...</td>\n",
       "      <td>2018-06-13</td>\n",
       "      <td>2</td>\n",
       "      <td>4</td>\n",
       "      <td>0.544444</td>\n",
       "      <td>0.772222</td>\n",
       "      <td>0.500000</td>\n",
       "    </tr>\n",
       "    <tr>\n",
       "      <th>1532</th>\n",
       "      <td>Zam Zam Restaurant</td>\n",
       "      <td>love the sauce when you eat with biryani</td>\n",
       "      <td>2017-12-11</td>\n",
       "      <td>2</td>\n",
       "      <td>5</td>\n",
       "      <td>0.500000</td>\n",
       "      <td>0.750000</td>\n",
       "      <td>0.333333</td>\n",
       "    </tr>\n",
       "    <tr>\n",
       "      <th>1529</th>\n",
       "      <td>Zam Zam Restaurant</td>\n",
       "      <td>the chilli chicken curry wa thick but not too ...</td>\n",
       "      <td>2014-03-07</td>\n",
       "      <td>2</td>\n",
       "      <td>4</td>\n",
       "      <td>-0.450000</td>\n",
       "      <td>0.275000</td>\n",
       "      <td>0.250000</td>\n",
       "    </tr>\n",
       "    <tr>\n",
       "      <th>1528</th>\n",
       "      <td>Zam Zam Restaurant</td>\n",
       "      <td>mutton murtabak is delicious</td>\n",
       "      <td>2013-05-11</td>\n",
       "      <td>2</td>\n",
       "      <td>4</td>\n",
       "      <td>1.000000</td>\n",
       "      <td>1.000000</td>\n",
       "      <td>0.200000</td>\n",
       "    </tr>\n",
       "    <tr>\n",
       "      <th>1530</th>\n",
       "      <td>Zam Zam Restaurant</td>\n",
       "      <td>best of all the curry that they give to go wit...</td>\n",
       "      <td>2013-02-03</td>\n",
       "      <td>2</td>\n",
       "      <td>5</td>\n",
       "      <td>0.253241</td>\n",
       "      <td>0.626620</td>\n",
       "      <td>0.166667</td>\n",
       "    </tr>\n",
       "    <tr>\n",
       "      <th>1535</th>\n",
       "      <td>Zam Zam Restaurant</td>\n",
       "      <td>it s not elegant service but it s fast and acc...</td>\n",
       "      <td>2014-03-05</td>\n",
       "      <td>3</td>\n",
       "      <td>4</td>\n",
       "      <td>0.130000</td>\n",
       "      <td>0.565000</td>\n",
       "      <td>1.000000</td>\n",
       "    </tr>\n",
       "    <tr>\n",
       "      <th>1534</th>\n",
       "      <td>Zam Zam Restaurant</td>\n",
       "      <td>you can specify soft normal or hard for noodle...</td>\n",
       "      <td>2012-07-14</td>\n",
       "      <td>5</td>\n",
       "      <td>4</td>\n",
       "      <td>-0.013889</td>\n",
       "      <td>0.493056</td>\n",
       "      <td>1.000000</td>\n",
       "    </tr>\n",
       "    <tr>\n",
       "      <th>974</th>\n",
       "      <td>Zhen Zhen Porridge</td>\n",
       "      <td>the amount of fish added is generous</td>\n",
       "      <td>2014-01-18</td>\n",
       "      <td>1</td>\n",
       "      <td>5</td>\n",
       "      <td>0.000000</td>\n",
       "      <td>0.500000</td>\n",
       "      <td>1.000000</td>\n",
       "    </tr>\n",
       "    <tr>\n",
       "      <th>968</th>\n",
       "      <td>Zhen Zhen Porridge</td>\n",
       "      <td>fresh fish and ginger strip further enhance th...</td>\n",
       "      <td>2012-08-08</td>\n",
       "      <td>2</td>\n",
       "      <td>5</td>\n",
       "      <td>0.100000</td>\n",
       "      <td>0.550000</td>\n",
       "      <td>1.000000</td>\n",
       "    </tr>\n",
       "    <tr>\n",
       "      <th>972</th>\n",
       "      <td>Zhen Zhen Porridge</td>\n",
       "      <td>it probably doe not have the crystal jade plai...</td>\n",
       "      <td>2012-08-08</td>\n",
       "      <td>2</td>\n",
       "      <td>5</td>\n",
       "      <td>0.261905</td>\n",
       "      <td>0.630952</td>\n",
       "      <td>0.500000</td>\n",
       "    </tr>\n",
       "    <tr>\n",
       "      <th>969</th>\n",
       "      <td>Zhen Zhen Porridge</td>\n",
       "      <td>i came for an early lunch when there wa no lon...</td>\n",
       "      <td>2018-01-10</td>\n",
       "      <td>3</td>\n",
       "      <td>5</td>\n",
       "      <td>0.062500</td>\n",
       "      <td>0.531250</td>\n",
       "      <td>1.000000</td>\n",
       "    </tr>\n",
       "    <tr>\n",
       "      <th>970</th>\n",
       "      <td>Zhen Zhen Porridge</td>\n",
       "      <td>we waited about 30 min to get a bowl of porrid...</td>\n",
       "      <td>2015-06-20</td>\n",
       "      <td>3</td>\n",
       "      <td>5</td>\n",
       "      <td>0.300000</td>\n",
       "      <td>0.650000</td>\n",
       "      <td>0.500000</td>\n",
       "    </tr>\n",
       "    <tr>\n",
       "      <th>975</th>\n",
       "      <td>Zhen Zhen Porridge</td>\n",
       "      <td>this is the longest i ve ever had to wait for ...</td>\n",
       "      <td>2014-02-06</td>\n",
       "      <td>3</td>\n",
       "      <td>4</td>\n",
       "      <td>0.150000</td>\n",
       "      <td>0.575000</td>\n",
       "      <td>0.333333</td>\n",
       "    </tr>\n",
       "    <tr>\n",
       "      <th>971</th>\n",
       "      <td>Zhen Zhen Porridge</td>\n",
       "      <td>it get sold out pretty early and the wait can ...</td>\n",
       "      <td>2012-08-08</td>\n",
       "      <td>3</td>\n",
       "      <td>5</td>\n",
       "      <td>0.137500</td>\n",
       "      <td>0.568750</td>\n",
       "      <td>0.250000</td>\n",
       "    </tr>\n",
       "    <tr>\n",
       "      <th>973</th>\n",
       "      <td>Zhen Zhen Porridge</td>\n",
       "      <td>ordered differently today</td>\n",
       "      <td>2016-10-27</td>\n",
       "      <td>5</td>\n",
       "      <td>3</td>\n",
       "      <td>0.000000</td>\n",
       "      <td>0.500000</td>\n",
       "      <td>1.000000</td>\n",
       "    </tr>\n",
       "    <tr>\n",
       "      <th>1799</th>\n",
       "      <td>Zhong Guo La Mian Xiao Long Bao</td>\n",
       "      <td>every dish wa tasty and consistent in quality</td>\n",
       "      <td>2012-10-07</td>\n",
       "      <td>2</td>\n",
       "      <td>5</td>\n",
       "      <td>0.250000</td>\n",
       "      <td>0.625000</td>\n",
       "      <td>1.000000</td>\n",
       "    </tr>\n",
       "    <tr>\n",
       "      <th>1798</th>\n",
       "      <td>Zhong Guo La Mian Xiao Long Bao</td>\n",
       "      <td>while i am reluctant to admit this kind of unc...</td>\n",
       "      <td>2017-02-27</td>\n",
       "      <td>5</td>\n",
       "      <td>4</td>\n",
       "      <td>0.600000</td>\n",
       "      <td>0.800000</td>\n",
       "      <td>1.000000</td>\n",
       "    </tr>\n",
       "    <tr>\n",
       "      <th>1814</th>\n",
       "      <td>hans im glÃ¼ck</td>\n",
       "      <td>16 sgd for a veggie burger and tap water</td>\n",
       "      <td>2018-12-17</td>\n",
       "      <td>1</td>\n",
       "      <td>3</td>\n",
       "      <td>0.000000</td>\n",
       "      <td>0.500000</td>\n",
       "      <td>1.000000</td>\n",
       "    </tr>\n",
       "    <tr>\n",
       "      <th>1801</th>\n",
       "      <td>hans im gl��������ck</td>\n",
       "      <td>no problem</td>\n",
       "      <td>2019-09-11</td>\n",
       "      <td>5</td>\n",
       "      <td>2</td>\n",
       "      <td>0.000000</td>\n",
       "      <td>0.500000</td>\n",
       "      <td>1.000000</td>\n",
       "    </tr>\n",
       "    <tr>\n",
       "      <th>1526</th>\n",
       "      <td>iO Italian Osteria</td>\n",
       "      <td>i like that unlike some cafe they have their a...</td>\n",
       "      <td>2016-08-27</td>\n",
       "      <td>3</td>\n",
       "      <td>5</td>\n",
       "      <td>0.000000</td>\n",
       "      <td>0.500000</td>\n",
       "      <td>1.000000</td>\n",
       "    </tr>\n",
       "    <tr>\n",
       "      <th>1525</th>\n",
       "      <td>iO Italian Osteria</td>\n",
       "      <td>i don t usually like italian food but this pla...</td>\n",
       "      <td>2016-03-26</td>\n",
       "      <td>5</td>\n",
       "      <td>3</td>\n",
       "      <td>-0.316667</td>\n",
       "      <td>0.341667</td>\n",
       "      <td>1.000000</td>\n",
       "    </tr>\n",
       "    <tr>\n",
       "      <th>1527</th>\n",
       "      <td>iO Italian Osteria</td>\n",
       "      <td>i wa there for my future fiance s niece s birt...</td>\n",
       "      <td>2013-02-27</td>\n",
       "      <td>5</td>\n",
       "      <td>4</td>\n",
       "      <td>0.000000</td>\n",
       "      <td>0.500000</td>\n",
       "      <td>0.500000</td>\n",
       "    </tr>\n",
       "    <tr>\n",
       "      <th>1474</th>\n",
       "      <td>timbre+</td>\n",
       "      <td>dry and flavourlessgarons reasonably priced fr...</td>\n",
       "      <td>2016-05-07</td>\n",
       "      <td>1</td>\n",
       "      <td>3</td>\n",
       "      <td>0.044444</td>\n",
       "      <td>0.522222</td>\n",
       "      <td>1.000000</td>\n",
       "    </tr>\n",
       "    <tr>\n",
       "      <th>1471</th>\n",
       "      <td>timbre+</td>\n",
       "      <td>they have an interesting system whereby you ge...</td>\n",
       "      <td>2016-04-11</td>\n",
       "      <td>1</td>\n",
       "      <td>4</td>\n",
       "      <td>0.250000</td>\n",
       "      <td>0.625000</td>\n",
       "      <td>0.500000</td>\n",
       "    </tr>\n",
       "    <tr>\n",
       "      <th>1475</th>\n",
       "      <td>timbre+</td>\n",
       "      <td>ambience is a little it noisy and slightly cramp</td>\n",
       "      <td>2014-11-29</td>\n",
       "      <td>4</td>\n",
       "      <td>4</td>\n",
       "      <td>-0.177083</td>\n",
       "      <td>0.411458</td>\n",
       "      <td>1.000000</td>\n",
       "    </tr>\n",
       "    <tr>\n",
       "      <th>1472</th>\n",
       "      <td>timbre+</td>\n",
       "      <td>to me this demonstrates one very important thing</td>\n",
       "      <td>2016-12-03</td>\n",
       "      <td>5</td>\n",
       "      <td>5</td>\n",
       "      <td>0.520000</td>\n",
       "      <td>0.760000</td>\n",
       "      <td>1.000000</td>\n",
       "    </tr>\n",
       "    <tr>\n",
       "      <th>1473</th>\n",
       "      <td>timbre+</td>\n",
       "      <td>this is my 1st time here</td>\n",
       "      <td>2016-04-13</td>\n",
       "      <td>5</td>\n",
       "      <td>4</td>\n",
       "      <td>0.000000</td>\n",
       "      <td>0.500000</td>\n",
       "      <td>0.500000</td>\n",
       "    </tr>\n",
       "    <tr>\n",
       "      <th>329</th>\n",
       "      <td>æºè§é»å¿ Mongkok Dim Sum</td>\n",
       "      <td>good selection of dish including entree dim su...</td>\n",
       "      <td>2014-03-05</td>\n",
       "      <td>1</td>\n",
       "      <td>4</td>\n",
       "      <td>0.400000</td>\n",
       "      <td>0.700000</td>\n",
       "      <td>1.000000</td>\n",
       "    </tr>\n",
       "  </tbody>\n",
       "</table>\n",
       "<p>1926 rows × 8 columns</p>\n",
       "</div>"
      ],
      "text/plain": [
       "                           Restaurant  \\\n",
       "293                    10 at Claymore   \n",
       "294                    10 at Claymore   \n",
       "295                    10 at Claymore   \n",
       "297                    10 at Claymore   \n",
       "298                    10 at Claymore   \n",
       "299                    10 at Claymore   \n",
       "296                    10 at Claymore   \n",
       "1917                 126 Eating House   \n",
       "1879                      2it & Drink   \n",
       "615                  328 Katong Laksa   \n",
       "614                  328 Katong Laksa   \n",
       "618                  328 Katong Laksa   \n",
       "619                  328 Katong Laksa   \n",
       "617                  328 Katong Laksa   \n",
       "616                  328 Katong Laksa   \n",
       "1300                     8 Korean BBQ   \n",
       "1301                     8 Korean BBQ   \n",
       "1302                     8 Korean BBQ   \n",
       "622                    A Noodle Story   \n",
       "621                    A Noodle Story   \n",
       "620                    A Noodle Story   \n",
       "623                    A Noodle Story   \n",
       "624                    A Noodle Story   \n",
       "1603                    A Poke Theory   \n",
       "1604                    A Poke Theory   \n",
       "1742                           ADRIFT   \n",
       "1743                           ADRIFT   \n",
       "1740                           ADRIFT   \n",
       "1741                           ADRIFT   \n",
       "1032                        Afterglow   \n",
       "...                               ...   \n",
       "1650    Yardbird Southern Table & Bar   \n",
       "1531               Zam Zam Restaurant   \n",
       "1533               Zam Zam Restaurant   \n",
       "1532               Zam Zam Restaurant   \n",
       "1529               Zam Zam Restaurant   \n",
       "1528               Zam Zam Restaurant   \n",
       "1530               Zam Zam Restaurant   \n",
       "1535               Zam Zam Restaurant   \n",
       "1534               Zam Zam Restaurant   \n",
       "974                Zhen Zhen Porridge   \n",
       "968                Zhen Zhen Porridge   \n",
       "972                Zhen Zhen Porridge   \n",
       "969                Zhen Zhen Porridge   \n",
       "970                Zhen Zhen Porridge   \n",
       "975                Zhen Zhen Porridge   \n",
       "971                Zhen Zhen Porridge   \n",
       "973                Zhen Zhen Porridge   \n",
       "1799  Zhong Guo La Mian Xiao Long Bao   \n",
       "1798  Zhong Guo La Mian Xiao Long Bao   \n",
       "1814                   hans im glÃ¼ck   \n",
       "1801             hans im gl��������ck   \n",
       "1526               iO Italian Osteria   \n",
       "1525               iO Italian Osteria   \n",
       "1527               iO Italian Osteria   \n",
       "1474                          timbre+   \n",
       "1471                          timbre+   \n",
       "1475                          timbre+   \n",
       "1472                          timbre+   \n",
       "1473                          timbre+   \n",
       "329      æºè§é»å¿ Mongkok Dim Sum   \n",
       "\n",
       "                                                 Review       Date  Label  \\\n",
       "293      they had a small but good selection of dessert 2017-03-25      1   \n",
       "294   and expensive tea you know the kind where the ... 2014-10-02      1   \n",
       "295   freshly made piping hot and generous filling n... 2014-10-02      2   \n",
       "297   the perfectly cooked meat gave way to a moist ... 2013-04-18      2   \n",
       "298   i love their penang style prawn noodle that co... 2012-08-19      2   \n",
       "299   everyone wa friendly but one particular gentle... 2014-12-30      3   \n",
       "296   order your bread naan chapatti first so they c... 2012-10-17      5   \n",
       "1917  just know that you do not come here for impecc... 2018-10-22      3   \n",
       "1879  the tomato sauce cheese and bread of the marga... 2018-12-23      2   \n",
       "615   it also contained a sorry looking piece of sma... 2019-11-05      2   \n",
       "614   the otah a type of fish cake wa real good espe... 2016-02-23      2   \n",
       "618                        the staff are rude and proud 2018-12-10      3   \n",
       "619                                  i came from hawaii 2019-02-17      5   \n",
       "617   supaya dapat sim surat ijin mancing next trip ... 2018-05-12      5   \n",
       "616   i have visited singapore 9 time when my boyfri... 2014-02-07      5   \n",
       "1300                        by the light of clarke quay 2014-04-12      4   \n",
       "1301  during a recent trip to singapore i decided to... 2018-11-01      5   \n",
       "1302  i d say that s testament in itself that we wan... 2014-04-12      5   \n",
       "622   some people complain about the line and the hi... 2019-03-10      1   \n",
       "621   but man best topping ever on a ramen and the p... 2019-12-01      2   \n",
       "620   for me this ramen tasted like your typical won... 2017-08-28      2   \n",
       "623   the potato wrapped prawn wa also pretty incred... 2016-10-27      2   \n",
       "624   i came in the early dining hour and there wa a... 2019-01-31      3   \n",
       "1603  i opted for the spicy mayo tuna i believe with... 2017-03-20      5   \n",
       "1604  hence this make your own bowl concept wa intri... 2016-09-26      5   \n",
       "1742  the food wa only two third of the experience b... 2013-03-12      4   \n",
       "1743  this is a review of a friday evening dinner da... 2012-12-08      4   \n",
       "1740          went to adrift for their breakfast buffet 2018-09-06      5   \n",
       "1741                                    we will be back 2018-05-19      5   \n",
       "1032  both were priced for dollar 22 which wa pretty... 2015-07-16      1   \n",
       "...                                                 ...        ...    ...   \n",
       "1650  i didn t feel like dirtying my hand at one tim... 2012-08-31      5   \n",
       "1531  it wa even better than the best pulled milk te... 2019-04-10      2   \n",
       "1533  it s got a good mix of spice for complexity an... 2018-06-13      2   \n",
       "1532           love the sauce when you eat with biryani 2017-12-11      2   \n",
       "1529  the chilli chicken curry wa thick but not too ... 2014-03-07      2   \n",
       "1528                       mutton murtabak is delicious 2013-05-11      2   \n",
       "1530  best of all the curry that they give to go wit... 2013-02-03      2   \n",
       "1535  it s not elegant service but it s fast and acc... 2014-03-05      3   \n",
       "1534  you can specify soft normal or hard for noodle... 2012-07-14      5   \n",
       "974                the amount of fish added is generous 2014-01-18      1   \n",
       "968   fresh fish and ginger strip further enhance th... 2012-08-08      2   \n",
       "972   it probably doe not have the crystal jade plai... 2012-08-08      2   \n",
       "969   i came for an early lunch when there wa no lon... 2018-01-10      3   \n",
       "970   we waited about 30 min to get a bowl of porrid... 2015-06-20      3   \n",
       "975   this is the longest i ve ever had to wait for ... 2014-02-06      3   \n",
       "971   it get sold out pretty early and the wait can ... 2012-08-08      3   \n",
       "973                           ordered differently today 2016-10-27      5   \n",
       "1799      every dish wa tasty and consistent in quality 2012-10-07      2   \n",
       "1798  while i am reluctant to admit this kind of unc... 2017-02-27      5   \n",
       "1814           16 sgd for a veggie burger and tap water 2018-12-17      1   \n",
       "1801                                         no problem 2019-09-11      5   \n",
       "1526  i like that unlike some cafe they have their a... 2016-08-27      3   \n",
       "1525  i don t usually like italian food but this pla... 2016-03-26      5   \n",
       "1527  i wa there for my future fiance s niece s birt... 2013-02-27      5   \n",
       "1474  dry and flavourlessgarons reasonably priced fr... 2016-05-07      1   \n",
       "1471  they have an interesting system whereby you ge... 2016-04-11      1   \n",
       "1475   ambience is a little it noisy and slightly cramp 2014-11-29      4   \n",
       "1472   to me this demonstrates one very important thing 2016-12-03      5   \n",
       "1473                           this is my 1st time here 2016-04-13      5   \n",
       "329   good selection of dish including entree dim su... 2014-03-05      1   \n",
       "\n",
       "      Stars  sentiment_polarity  adjusted_sentiment   weights  \n",
       "293       4            0.225000            0.612500  1.000000  \n",
       "294       4            0.050000            0.525000  0.500000  \n",
       "295       4            0.400000            0.700000  1.000000  \n",
       "297       4            0.364416            0.682208  0.500000  \n",
       "298       3            0.158333            0.579167  0.333333  \n",
       "299       5            0.368750            0.684375  1.000000  \n",
       "296       4            0.250000            0.625000  1.000000  \n",
       "1917      4            0.750000            0.875000  1.000000  \n",
       "1879      5            0.900000            0.950000  1.000000  \n",
       "615       3            0.036667            0.518333  1.000000  \n",
       "614       4            0.309722            0.654861  0.500000  \n",
       "618       1            0.250000            0.625000  1.000000  \n",
       "619       2            0.000000            0.500000  1.000000  \n",
       "617       4            0.000000            0.500000  0.500000  \n",
       "616       5            0.000000            0.500000  0.333333  \n",
       "1300      4            0.400000            0.700000  1.000000  \n",
       "1301      3            0.000000            0.500000  1.000000  \n",
       "1302      4            0.700000            0.850000  0.500000  \n",
       "622       5            0.190000            0.595000  1.000000  \n",
       "621       4            0.750000            0.875000  1.000000  \n",
       "620       4           -0.166667            0.416667  0.500000  \n",
       "623       3            0.575000            0.787500  0.333333  \n",
       "624       5            0.100000            0.550000  1.000000  \n",
       "1603      3            0.000000            0.500000  1.000000  \n",
       "1604      4            0.225000            0.612500  0.500000  \n",
       "1742      3            0.000000            0.500000  1.000000  \n",
       "1743      5            0.425000            0.712500  0.500000  \n",
       "1740      4            0.000000            0.500000  1.000000  \n",
       "1741      5            0.000000            0.500000  0.500000  \n",
       "1032      3           -0.125000            0.437500  1.000000  \n",
       "...     ...                 ...                 ...       ...  \n",
       "1650      4            0.000000            0.500000  1.000000  \n",
       "1531      4            0.750000            0.875000  1.000000  \n",
       "1533      4            0.544444            0.772222  0.500000  \n",
       "1532      5            0.500000            0.750000  0.333333  \n",
       "1529      4           -0.450000            0.275000  0.250000  \n",
       "1528      4            1.000000            1.000000  0.200000  \n",
       "1530      5            0.253241            0.626620  0.166667  \n",
       "1535      4            0.130000            0.565000  1.000000  \n",
       "1534      4           -0.013889            0.493056  1.000000  \n",
       "974       5            0.000000            0.500000  1.000000  \n",
       "968       5            0.100000            0.550000  1.000000  \n",
       "972       5            0.261905            0.630952  0.500000  \n",
       "969       5            0.062500            0.531250  1.000000  \n",
       "970       5            0.300000            0.650000  0.500000  \n",
       "975       4            0.150000            0.575000  0.333333  \n",
       "971       5            0.137500            0.568750  0.250000  \n",
       "973       3            0.000000            0.500000  1.000000  \n",
       "1799      5            0.250000            0.625000  1.000000  \n",
       "1798      4            0.600000            0.800000  1.000000  \n",
       "1814      3            0.000000            0.500000  1.000000  \n",
       "1801      2            0.000000            0.500000  1.000000  \n",
       "1526      5            0.000000            0.500000  1.000000  \n",
       "1525      3           -0.316667            0.341667  1.000000  \n",
       "1527      4            0.000000            0.500000  0.500000  \n",
       "1474      3            0.044444            0.522222  1.000000  \n",
       "1471      4            0.250000            0.625000  0.500000  \n",
       "1475      4           -0.177083            0.411458  1.000000  \n",
       "1472      5            0.520000            0.760000  1.000000  \n",
       "1473      4            0.000000            0.500000  0.500000  \n",
       "329       4            0.400000            0.700000  1.000000  \n",
       "\n",
       "[1926 rows x 8 columns]"
      ]
     },
     "execution_count": 66,
     "metadata": {},
     "output_type": "execute_result"
    }
   ],
   "source": [
    "df.head()"
   ]
  },
  {
   "cell_type": "markdown",
   "metadata": {},
   "source": [
    "# Star Prediction for each Label"
   ]
  },
  {
   "cell_type": "code",
   "execution_count": 67,
   "metadata": {},
   "outputs": [],
   "source": [
    "# Creating recency weighted average grouped by \n",
    "def grouped_weighted_avg(values, weights, by):\n",
    "    return (values * weights).groupby(by).sum() / weights.groupby(by).sum()"
   ]
  },
  {
   "cell_type": "code",
   "execution_count": 68,
   "metadata": {},
   "outputs": [],
   "source": [
    "# Removing label 5 since it is not a preassigned class\n",
    "clean_data = df[df.Label != 5]"
   ]
  },
  {
   "cell_type": "code",
   "execution_count": 92,
   "metadata": {},
   "outputs": [
    {
     "name": "stderr",
     "output_type": "stream",
     "text": [
      "c:\\users\\seagate pc\\appdata\\local\\programs\\python\\python37\\lib\\site-packages\\ipykernel_launcher.py:3: FutureWarning: Interpreting tuple 'by' as a list of keys, rather than a single key. Use 'by=[...]' instead of 'by=(...)'. In the future, a tuple will always mean a single key.\n",
      "  This is separate from the ipykernel package so we can avoid doing imports until\n"
     ]
    }
   ],
   "source": [
    "# Calculating exponentially rencency weighted average of sentiment for eah label\n",
    "label_sentiment = grouped_weighted_avg(clean_data[\"adjusted_sentiment\"], clean_data[\"weights\"], (clean_data[\"Restaurant\"], clean_data[\"Label\"]))"
   ]
  },
  {
   "cell_type": "code",
   "execution_count": 70,
   "metadata": {},
   "outputs": [],
   "source": [
    "# Adjusting sentiment to fit [1,5]\n",
    "adj_label_sentiment = label_sentiment.apply((lambda x: math.ceil(x*5)))"
   ]
  },
  {
   "cell_type": "code",
   "execution_count": 90,
   "metadata": {},
   "outputs": [
    {
     "data": {
      "text/plain": [
       "Restaurant        Label\n",
       "10 at Claymore    1        0.583333\n",
       "                  2        0.673178\n",
       "                  3        0.684375\n",
       "126 Eating House  3        0.875000\n",
       "2it & Drink       2        0.950000\n",
       "dtype: float64"
      ]
     },
     "execution_count": 90,
     "metadata": {},
     "output_type": "execute_result"
    }
   ],
   "source": [
    "# Viewing the predicted stars for each predetermined aspect\n",
    "adj_label_sentiment.head()"
   ]
  },
  {
   "cell_type": "code",
   "execution_count": 72,
   "metadata": {},
   "outputs": [
    {
     "data": {
      "text/plain": [
       "(824,)"
      ]
     },
     "execution_count": 72,
     "metadata": {},
     "output_type": "execute_result"
    }
   ],
   "source": [
    "# Viewing the shape of the dataframe\n",
    "adj_label_sentiment.shape"
   ]
  },
  {
   "cell_type": "code",
   "execution_count": 73,
   "metadata": {},
   "outputs": [],
   "source": [
    "pred_label = []\n",
    "for x in adj_label_sentiment:\n",
    "    pred_label.append(x)"
   ]
  },
  {
   "cell_type": "code",
   "execution_count": 105,
   "metadata": {},
   "outputs": [
    {
     "name": "stderr",
     "output_type": "stream",
     "text": [
      "c:\\users\\seagate pc\\appdata\\local\\programs\\python\\python37\\lib\\site-packages\\ipykernel_launcher.py:3: FutureWarning: Interpreting tuple 'by' as a list of keys, rather than a single key. Use 'by=[...]' instead of 'by=(...)'. In the future, a tuple will always mean a single key.\n",
      "  This is separate from the ipykernel package so we can avoid doing imports until\n"
     ]
    }
   ],
   "source": [
    "# Calculating exponentially rencency weighted average of stars for labels\n",
    "label_star = grouped_weighted_avg(clean_data[\"Stars\"], clean_data[\"weights\"], (clean_data[\"Restaurant\"], clean_data[\"Label\"]))"
   ]
  },
  {
   "cell_type": "code",
   "execution_count": 75,
   "metadata": {},
   "outputs": [],
   "source": [
    "adj_label_star = label_star.apply((lambda x: math.ceil(x)))"
   ]
  },
  {
   "cell_type": "code",
   "execution_count": 106,
   "metadata": {},
   "outputs": [
    {
     "data": {
      "text/plain": [
       "Restaurant        Label\n",
       "10 at Claymore    1        4.000000\n",
       "                  2        3.818182\n",
       "                  3        5.000000\n",
       "126 Eating House  3        4.000000\n",
       "2it & Drink       2        5.000000\n",
       "dtype: float64"
      ]
     },
     "execution_count": 106,
     "metadata": {},
     "output_type": "execute_result"
    }
   ],
   "source": [
    "adj_label_star.head()"
   ]
  },
  {
   "cell_type": "code",
   "execution_count": 77,
   "metadata": {
    "scrolled": true
   },
   "outputs": [
    {
     "data": {
      "text/plain": [
       "(824,)"
      ]
     },
     "execution_count": 77,
     "metadata": {},
     "output_type": "execute_result"
    }
   ],
   "source": [
    "adj_label_star.shape"
   ]
  },
  {
   "cell_type": "code",
   "execution_count": 78,
   "metadata": {},
   "outputs": [],
   "source": [
    "label_truth = []\n",
    "for x in adj_label_star:\n",
    "    label_truth.append(x)"
   ]
  },
  {
   "cell_type": "code",
   "execution_count": 79,
   "metadata": {},
   "outputs": [
    {
     "data": {
      "text/plain": [
       "0.3300970873786408"
      ]
     },
     "execution_count": 79,
     "metadata": {},
     "output_type": "execute_result"
    }
   ],
   "source": [
    "# Accuracy of sentiment predicted stars and the average stars for each label\n",
    "accuracy_score(label_truth, pred_label)"
   ]
  },
  {
   "cell_type": "markdown",
   "metadata": {},
   "source": [
    "# Overall Restaurant Star Prediction"
   ]
  },
  {
   "cell_type": "code",
   "execution_count": 93,
   "metadata": {},
   "outputs": [],
   "source": [
    "# Calculating exponentially rencency weighted average of sentiment overall\n",
    "overall_sentiment = label_sentiment.groupby(\"Restaurant\").mean()"
   ]
  },
  {
   "cell_type": "code",
   "execution_count": 95,
   "metadata": {},
   "outputs": [],
   "source": [
    "# Adjusting sentiment to fit [1,5]\n",
    "overall_sentiment = overall_sentiment.apply((lambda x: math.ceil(x*5)))"
   ]
  },
  {
   "cell_type": "code",
   "execution_count": 96,
   "metadata": {},
   "outputs": [
    {
     "data": {
      "text/plain": [
       "Restaurant\n",
       "10 at Claymore      4\n",
       "126 Eating House    5\n",
       "2it & Drink         5\n",
       "328 Katong Laksa    3\n",
       "8 Korean BBQ        4\n",
       "dtype: int64"
      ]
     },
     "execution_count": 96,
     "metadata": {},
     "output_type": "execute_result"
    }
   ],
   "source": [
    "overall_sentiment.head()"
   ]
  },
  {
   "cell_type": "code",
   "execution_count": 97,
   "metadata": {},
   "outputs": [],
   "source": [
    "pred_overall = []\n",
    "for x in overall_sentiment:\n",
    "    pred_overall.append(x)"
   ]
  },
  {
   "cell_type": "code",
   "execution_count": 108,
   "metadata": {},
   "outputs": [],
   "source": [
    "# Calculating exponentially rencency weighted average of star overall\n",
    "overall_star = label_star.groupby(\"Restaurant\").mean()"
   ]
  },
  {
   "cell_type": "code",
   "execution_count": 109,
   "metadata": {},
   "outputs": [],
   "source": [
    "overall_star = overall_star.apply((lambda x: math.ceil(x)))"
   ]
  },
  {
   "cell_type": "code",
   "execution_count": 110,
   "metadata": {},
   "outputs": [
    {
     "data": {
      "text/plain": [
       "Restaurant\n",
       "10 at Claymore      5\n",
       "126 Eating House    4\n",
       "2it & Drink         5\n",
       "328 Katong Laksa    3\n",
       "8 Korean BBQ        4\n",
       "dtype: int64"
      ]
     },
     "execution_count": 110,
     "metadata": {},
     "output_type": "execute_result"
    }
   ],
   "source": [
    "overall_star.head()"
   ]
  },
  {
   "cell_type": "code",
   "execution_count": 111,
   "metadata": {},
   "outputs": [],
   "source": [
    "overall_truth = []\n",
    "for x in overall_star:\n",
    "    overall_truth.append(x)"
   ]
  },
  {
   "cell_type": "code",
   "execution_count": 112,
   "metadata": {},
   "outputs": [
    {
     "data": {
      "text/plain": [
       "0.30043859649122806"
      ]
     },
     "execution_count": 112,
     "metadata": {},
     "output_type": "execute_result"
    }
   ],
   "source": [
    "# Accuracy of sentiment predicted stars and the average stars overall\n",
    "accuracy_score(overall_truth, pred_overall)"
   ]
  },
  {
   "cell_type": "markdown",
   "metadata": {},
   "source": [
    "# Wordcloud Generation for each Category"
   ]
  },
  {
   "cell_type": "code",
   "execution_count": 128,
   "metadata": {},
   "outputs": [],
   "source": [
    "from wordcloud import WordCloud"
   ]
  },
  {
   "cell_type": "code",
   "execution_count": 154,
   "metadata": {},
   "outputs": [],
   "source": [
    "# Finding the restaurant with the highest number of reviews\n",
    "restaurant_highestfreq = df[\"Restaurant\"].value_counts().idxmax()"
   ]
  },
  {
   "cell_type": "code",
   "execution_count": 166,
   "metadata": {},
   "outputs": [
    {
     "name": "stderr",
     "output_type": "stream",
     "text": [
      "c:\\users\\seagate pc\\appdata\\local\\programs\\python\\python37\\lib\\site-packages\\ipykernel_launcher.py:3: UserWarning: Boolean Series key will be reindexed to match DataFrame index.\n",
      "  This is separate from the ipykernel package so we can avoid doing imports until\n",
      "c:\\users\\seagate pc\\appdata\\local\\programs\\python\\python37\\lib\\site-packages\\ipykernel_launcher.py:4: UserWarning: Boolean Series key will be reindexed to match DataFrame index.\n",
      "  after removing the cwd from sys.path.\n",
      "c:\\users\\seagate pc\\appdata\\local\\programs\\python\\python37\\lib\\site-packages\\ipykernel_launcher.py:5: UserWarning: Boolean Series key will be reindexed to match DataFrame index.\n",
      "  \"\"\"\n",
      "c:\\users\\seagate pc\\appdata\\local\\programs\\python\\python37\\lib\\site-packages\\ipykernel_launcher.py:6: UserWarning: Boolean Series key will be reindexed to match DataFrame index.\n",
      "  \n"
     ]
    }
   ],
   "source": [
    "# Filtering out textual reviews according to labels\n",
    "filtered_rest = df[df.Restaurant.isin([restaurant_highestfreq])]\n",
    "taste_fil = filtered_rest[df.Label.isin([2])]\n",
    "value_fil = filtered_rest[df.Label.isin([1])]\n",
    "service_fil = filtered_rest[df.Label.isin([3])]\n",
    "ambience_fil = filtered_rest[df.Label.isin([4])]"
   ]
  },
  {
   "cell_type": "code",
   "execution_count": 167,
   "metadata": {},
   "outputs": [
    {
     "data": {
      "image/png": "[encoded data removed]",
      "text/plain": [
       "<PIL.Image.Image image mode=RGB size=400x200 at 0x1D7A4398400>"
      ]
     },
     "execution_count": 167,
     "metadata": {},
     "output_type": "execute_result"
    }
   ],
   "source": [
    "# Wordcloud for taste\n",
    "\n",
    "# Creating a WordCloud to analyse the data\n",
    "long_string = ','.join(list(taste_fil[\"Review\"].values))\n",
    "# Create a WordCloud object\n",
    "wordcloud = WordCloud(background_color=\"white\", max_words=100, contour_width=3, contour_color='steelblue')\n",
    "# Generate a word cloud\n",
    "wordcloud.generate(long_string)\n",
    "# Visualize the word cloud\n",
    "wordcloud.to_image()"
   ]
  },
  {
   "cell_type": "code",
   "execution_count": 168,
   "metadata": {},
   "outputs": [
    {
     "data": {
      "image/png": "[encoded data removed]",
      "text/plain": [
       "<PIL.Image.Image image mode=RGB size=400x200 at 0x1D7A4393390>"
      ]
     },
     "execution_count": 168,
     "metadata": {},
     "output_type": "execute_result"
    }
   ],
   "source": [
    "# Wordcloud for price\n",
    "\n",
    "# Creating a WordCloud to analyse the data\n",
    "long_string = ','.join(list(value_fil[\"Review\"].values))\n",
    "# Create a WordCloud object\n",
    "wordcloud = WordCloud(background_color=\"white\", max_words=100, contour_width=3, contour_color='steelblue')\n",
    "# Generate a word cloud\n",
    "wordcloud.generate(long_string)\n",
    "# Visualize the word cloud\n",
    "wordcloud.to_image()"
   ]
  },
  {
   "cell_type": "code",
   "execution_count": 163,
   "metadata": {},
   "outputs": [
    {
     "data": {
      "image/png": "[encoded data removed]",
      "text/plain": [
       "<PIL.Image.Image image mode=RGB size=400x200 at 0x1D7A4393D68>"
      ]
     },
     "execution_count": 163,
     "metadata": {},
     "output_type": "execute_result"
    }
   ],
   "source": [
    "# Wordcloud for service\n",
    "\n",
    "# Creating a WordCloud to analyse the data\n",
    "long_string = ','.join(list(service_fil[\"Review\"].values))\n",
    "# Create a WordCloud object\n",
    "wordcloud = WordCloud(background_color=\"white\", max_words=100, contour_width=3, contour_color='steelblue')\n",
    "# Generate a word cloud\n",
    "wordcloud.generate(long_string)\n",
    "# Visualize the word cloud\n",
    "wordcloud.to_image()"
   ]
  },
  {
   "cell_type": "code",
   "execution_count": 162,
   "metadata": {},
   "outputs": [
    {
     "data": {
      "image/png": "[encoded data removed]",
      "text/plain": [
       "<PIL.Image.Image image mode=RGB size=400x200 at 0x1D7A43BE240>"
      ]
     },
     "execution_count": 162,
     "metadata": {},
     "output_type": "execute_result"
    }
   ],
   "source": [
    "# Wordcloud for ambience\n",
    "\n",
    "# Creating a WordCloud to analyse the data\n",
    "long_string = ','.join(list(ambience_fil[\"Review\"].values))\n",
    "# Create a WordCloud object\n",
    "wordcloud = WordCloud(background_color=\"white\", max_words=100, contour_width=3, contour_color='steelblue')\n",
    "# Generate a word cloud\n",
    "wordcloud.generate(long_string)\n",
    "# Visualize the word cloud\n",
    "wordcloud.to_image()"
   ]
  }
 ],
 "metadata": {
  "kernelspec": {
   "display_name": "Python 3",
   "language": "python",
   "name": "python3"
  },
  "language_info": {
   "codemirror_mode": {
    "name": "ipython",
    "version": 3
   },
   "file_extension": ".py",
   "mimetype": "text/x-python",
   "name": "python",
   "nbconvert_exporter": "python",
   "pygments_lexer": "ipython3",
   "version": "3.7.4"
  }
 },
 "nbformat": 4,
 "nbformat_minor": 4
}
