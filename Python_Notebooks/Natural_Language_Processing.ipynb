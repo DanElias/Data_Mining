{
  "nbformat": 4,
  "nbformat_minor": 0,
  "metadata": {
    "colab": {
      "name": "04_Natural Language Processing.ipynb",
      "provenance": []
    },
    "kernelspec": {
      "name": "python3",
      "display_name": "Python 3"
    }
  },
  "cells": [
    {
      "cell_type": "markdown",
      "metadata": {
        "id": "USeTNVxYHmwS",
        "colab_type": "text"
      },
      "source": [
        "# Natural Language Processing (NLP)"
      ]
    },
    {
      "cell_type": "markdown",
      "metadata": {
        "id": "sWM-fVBsHmwT",
        "colab_type": "text"
      },
      "source": [
        "## What is NLP?\n",
        "\n",
        "- Using computers to process (analyze, understand, generate) natural human languages\n",
        "- Most knowledge created by humans is unstructured text, and we need a way to make sense of it\n",
        "- Build probabilistic model using data about a language\n",
        "- Requires an understanding of language and the world"
      ]
    },
    {
      "cell_type": "markdown",
      "metadata": {
        "id": "I9W5T0LrHmwU",
        "colab_type": "text"
      },
      "source": [
        "## Higher level \"task areas\"\n",
        "\n",
        "- **Information retrieval**: Find relevant results and similar results\n",
        "    - [Google](https://www.google.com/)\n",
        "- **Information extraction**: Structured information from unstructured documents\n",
        "    - [Events from Gmail](https://support.google.com/calendar/answer/6084018?hl=en)\n",
        "- **Machine translation**: One language to another\n",
        "    - [Google Translate](https://translate.google.com/)\n",
        "- **Text simplification**: Preserve the meaning of text, but simplify the grammar and vocabulary\n",
        "    - [Rewordify](https://rewordify.com/)\n",
        "    - [Simple English Wikipedia](https://simple.wikipedia.org/wiki/Main_Page)\n",
        "- **Predictive text input**: Faster or easier typing\n",
        "    - [A much better application](https://farsite.shinyapps.io/swiftkey-cap/)\n",
        "    - [Smart Compose](https://www.blog.google/products/gmail/subject-write-emails-faster-smart-compose-gmail/?utm_source=tw&utm_medium=feed&utm_campaign=io18)\n",
        "- **Sentiment analysis**: Attitude of speaker\n",
        "    - [Hater News](http://haternews.herokuapp.com/)\n",
        "- **Automatic summarization**: Extractive or abstractive summarization\n",
        "    - [autotldr](https://www.reddit.com/r/technology/comments/35brc8/21_million_people_still_use_aol_dialup/cr2zzj0)\n",
        "- **Natural Language Generation**: Generate text from data\n",
        "    - [How a computer describes a sports match](http://www.bbc.com/news/technology-34204052)\n",
        "    - [Publishers withdraw more than 120 gibberish papers](http://www.nature.com/news/publishers-withdraw-more-than-120-gibberish-papers-1.14763)\n",
        "- **Speech recognition and generation**: Speech-to-text, text-to-speech\n",
        "    - [Google's Web Speech API demo](https://www.google.com/intl/en/chrome/demos/speech.html)\n",
        "    - [Vocalware Text-to-Speech demo](https://www.vocalware.com/index/demo)\n",
        "- **Question answering**: Determine the intent of the question, match query with knowledge base, evaluate hypotheses\n",
        "    - [How did supercomputer Watson beat Jeopardy champion Ken Jennings?](http://blog.ted.com/how-did-supercomputer-watson-beat-jeopardy-champion-ken-jennings-experts-discuss/)\n",
        "    - [IBM's Watson Trivia Challenge](http://www.nytimes.com/interactive/2010/06/16/magazine/watson-trivia-game.html)\n",
        "    - [The AI Behind Watson](http://www.aaai.org/Magazine/Watson/watson.php)"
      ]
    },
    {
      "cell_type": "markdown",
      "metadata": {
        "id": "lVT8k_oSHmwV",
        "colab_type": "text"
      },
      "source": [
        "## Lower level \"components\"\n",
        "\n",
        "- **Tokenization**: breaking text into tokens (words, sentences, n-grams)\n",
        "- **Stop word removal**: removing common words\n",
        "- **TF-IDF**: computing word importance\n",
        "- **Stemming and lemmatization**: reducing words to their base form\n",
        "- **Part-of-speech tagging**\n",
        "- **Named entity recognition**: person/organization/location\n",
        "- **Segmentation**: \"New York City subway\"\n",
        "- **Word sense disambiguation**: \"buy a mouse\"\n",
        "- **Spelling correction**\n",
        "- **Language detection**\n",
        "- **Machine learning**"
      ]
    },
    {
      "cell_type": "markdown",
      "metadata": {
        "id": "tWhaphwAHmwV",
        "colab_type": "text"
      },
      "source": [
        "## Agenda\n",
        "\n",
        "1. Reading in the Yelp reviews corpus\n",
        "2. Tokenizing the text\n",
        "3. Comparing the accuracy of different approaches\n",
        "4. Removing frequent terms (stop words)\n",
        "5. Removing infrequent terms\n",
        "6. Handling Unicode errors"
      ]
    },
    {
      "cell_type": "markdown",
      "metadata": {
        "id": "YnWoSzHIHmwZ",
        "colab_type": "text"
      },
      "source": [
        "## Part 1: Reading in the Yelp reviews corpus"
      ]
    },
    {
      "cell_type": "markdown",
      "metadata": {
        "id": "XyqHa1T3Hmwa",
        "colab_type": "text"
      },
      "source": [
        "- \"corpus\" = collection of documents\n",
        "- \"corpora\" = plural form of corpus"
      ]
    },
    {
      "cell_type": "code",
      "metadata": {
        "id": "HaAyz8cEHmwa",
        "colab_type": "code",
        "outputId": "e7d3519f-d6da-4844-da1f-48cc62500b1a",
        "colab": {
          "base_uri": "https://localhost:8080/",
          "height": 34
        }
      },
      "source": [
        "# read yelp.csv into a DataFrame using a relative path\n",
        "import pandas as pd\n",
        "\n",
        "# mount google drive\n",
        "from google.colab import drive\n",
        "drive.mount('/content/drive')\n"
      ],
      "execution_count": 12,
      "outputs": [
        {
          "output_type": "stream",
          "text": [
            "Drive already mounted at /content/drive; to attempt to forcibly remount, call drive.mount(\"/content/drive\", force_remount=True).\n"
          ],
          "name": "stdout"
        }
      ]
    },
    {
      "cell_type": "code",
      "metadata": {
        "id": "x6eDrSwnHmwc",
        "colab_type": "code",
        "outputId": "e0cdb64b-93ca-4527-ead7-e1f851c3b41f",
        "colab": {
          "base_uri": "https://localhost:8080/",
          "height": 141
        }
      },
      "source": [
        "path = '/content/drive/My Drive/BT4222/data/yelp.csv'\n",
        "yelp = pd.read_csv(path)\n",
        "\n",
        "# examine the first three rows\n",
        "yelp.head(3)"
      ],
      "execution_count": 13,
      "outputs": [
        {
          "output_type": "execute_result",
          "data": {
            "text/html": [
              "<div>\n",
              "<style scoped>\n",
              "    .dataframe tbody tr th:only-of-type {\n",
              "        vertical-align: middle;\n",
              "    }\n",
              "\n",
              "    .dataframe tbody tr th {\n",
              "        vertical-align: top;\n",
              "    }\n",
              "\n",
              "    .dataframe thead th {\n",
              "        text-align: right;\n",
              "    }\n",
              "</style>\n",
              "<table border=\"1\" class=\"dataframe\">\n",
              "  <thead>\n",
              "    <tr style=\"text-align: right;\">\n",
              "      <th></th>\n",
              "      <th>business_id</th>\n",
              "      <th>date</th>\n",
              "      <th>review_id</th>\n",
              "      <th>stars</th>\n",
              "      <th>text</th>\n",
              "      <th>type</th>\n",
              "      <th>user_id</th>\n",
              "      <th>cool</th>\n",
              "      <th>useful</th>\n",
              "      <th>funny</th>\n",
              "    </tr>\n",
              "  </thead>\n",
              "  <tbody>\n",
              "    <tr>\n",
              "      <th>0</th>\n",
              "      <td>9yKzy9PApeiPPOUJEtnvkg</td>\n",
              "      <td>2011-01-26</td>\n",
              "      <td>fWKvX83p0-ka4JS3dc6E5A</td>\n",
              "      <td>5</td>\n",
              "      <td>My wife took me here on my birthday for breakf...</td>\n",
              "      <td>review</td>\n",
              "      <td>rLtl8ZkDX5vH5nAx9C3q5Q</td>\n",
              "      <td>2</td>\n",
              "      <td>5</td>\n",
              "      <td>0</td>\n",
              "    </tr>\n",
              "    <tr>\n",
              "      <th>1</th>\n",
              "      <td>ZRJwVLyzEJq1VAihDhYiow</td>\n",
              "      <td>2011-07-27</td>\n",
              "      <td>IjZ33sJrzXqU-0X6U8NwyA</td>\n",
              "      <td>5</td>\n",
              "      <td>I have no idea why some people give bad review...</td>\n",
              "      <td>review</td>\n",
              "      <td>0a2KyEL0d3Yb1V6aivbIuQ</td>\n",
              "      <td>0</td>\n",
              "      <td>0</td>\n",
              "      <td>0</td>\n",
              "    </tr>\n",
              "    <tr>\n",
              "      <th>2</th>\n",
              "      <td>6oRAC4uyJCsJl1X0WZpVSA</td>\n",
              "      <td>2012-06-14</td>\n",
              "      <td>IESLBzqUCLdSzSqm0eCSxQ</td>\n",
              "      <td>4</td>\n",
              "      <td>love the gyro plate. Rice is so good and I als...</td>\n",
              "      <td>review</td>\n",
              "      <td>0hT2KtfLiobPvh6cDC8JQg</td>\n",
              "      <td>0</td>\n",
              "      <td>1</td>\n",
              "      <td>0</td>\n",
              "    </tr>\n",
              "  </tbody>\n",
              "</table>\n",
              "</div>"
            ],
            "text/plain": [
              "              business_id        date  ... useful  funny\n",
              "0  9yKzy9PApeiPPOUJEtnvkg  2011-01-26  ...      5      0\n",
              "1  ZRJwVLyzEJq1VAihDhYiow  2011-07-27  ...      0      0\n",
              "2  6oRAC4uyJCsJl1X0WZpVSA  2012-06-14  ...      1      0\n",
              "\n",
              "[3 rows x 10 columns]"
            ]
          },
          "metadata": {
            "tags": []
          },
          "execution_count": 13
        }
      ]
    },
    {
      "cell_type": "code",
      "metadata": {
        "id": "IumGUypPI8a0",
        "colab_type": "code",
        "outputId": "ccd2c01a-c31d-44c2-8638-f6f1b97180a7",
        "colab": {
          "base_uri": "https://localhost:8080/",
          "height": 34
        }
      },
      "source": [
        "yelp.shape"
      ],
      "execution_count": 14,
      "outputs": [
        {
          "output_type": "execute_result",
          "data": {
            "text/plain": [
              "(10000, 10)"
            ]
          },
          "metadata": {
            "tags": []
          },
          "execution_count": 14
        }
      ]
    },
    {
      "cell_type": "code",
      "metadata": {
        "id": "QQIjH6KaHmwg",
        "colab_type": "code",
        "outputId": "2ea92c94-9289-4730-f52b-c16542651db0",
        "colab": {
          "base_uri": "https://localhost:8080/",
          "height": 54
        }
      },
      "source": [
        "# examine the text for the first row\n",
        "yelp.loc[0, 'text']"
      ],
      "execution_count": 15,
      "outputs": [
        {
          "output_type": "execute_result",
          "data": {
            "text/plain": [
              "'My wife took me here on my birthday for breakfast and it was excellent.  The weather was perfect which made sitting outside overlooking their grounds an absolute pleasure.  Our waitress was excellent and our food arrived quickly on the semi-busy Saturday morning.  It looked like the place fills up pretty quickly so the earlier you get here the better.\\n\\nDo yourself a favor and get their Bloody Mary.  It was phenomenal and simply the best I\\'ve ever had.  I\\'m pretty sure they only use ingredients from their garden and blend them fresh when you order it.  It was amazing.\\n\\nWhile EVERYTHING on the menu looks excellent, I had the white truffle scrambled eggs vegetable skillet and it was tasty and delicious.  It came with 2 pieces of their griddled bread with was amazing and it absolutely made the meal complete.  It was the best \"toast\" I\\'ve ever had.\\n\\nAnyway, I can\\'t wait to go back!'"
            ]
          },
          "metadata": {
            "tags": []
          },
          "execution_count": 15
        }
      ]
    },
    {
      "cell_type": "markdown",
      "metadata": {
        "id": "QbOwnCcuHmwi",
        "colab_type": "text"
      },
      "source": [
        "**Goal:** Distinguish between 5-star and 1-star reviews using **only** the review text. (We will not be using the other columns.)"
      ]
    },
    {
      "cell_type": "code",
      "metadata": {
        "id": "0ionrtPiHmwi",
        "colab_type": "code",
        "outputId": "e11ba0f9-b647-406e-f5d2-fd6df9dd6379",
        "colab": {
          "base_uri": "https://localhost:8080/",
          "height": 120
        }
      },
      "source": [
        "# examine the class distribution\n",
        "yelp.stars.value_counts().sort_index()"
      ],
      "execution_count": 16,
      "outputs": [
        {
          "output_type": "execute_result",
          "data": {
            "text/plain": [
              "1     749\n",
              "2     927\n",
              "3    1461\n",
              "4    3526\n",
              "5    3337\n",
              "Name: stars, dtype: int64"
            ]
          },
          "metadata": {
            "tags": []
          },
          "execution_count": 16
        }
      ]
    },
    {
      "cell_type": "code",
      "metadata": {
        "id": "ebdzdcC3Hmwl",
        "colab_type": "code",
        "colab": {}
      },
      "source": [
        "# create a new DataFrame that only contains the 5-star and 1-star reviews\n",
        "yelp_best_worst = yelp[(yelp.stars==5) | (yelp.stars==1)]"
      ],
      "execution_count": 0,
      "outputs": []
    },
    {
      "cell_type": "code",
      "metadata": {
        "id": "XWyHpq6VHmwm",
        "colab_type": "code",
        "outputId": "79152f24-af95-4a8e-8b7c-6be294b0d495",
        "colab": {
          "base_uri": "https://localhost:8080/",
          "height": 34
        }
      },
      "source": [
        "# examine the shape\n",
        "yelp_best_worst.shape"
      ],
      "execution_count": 18,
      "outputs": [
        {
          "output_type": "execute_result",
          "data": {
            "text/plain": [
              "(4086, 10)"
            ]
          },
          "metadata": {
            "tags": []
          },
          "execution_count": 18
        }
      ]
    },
    {
      "cell_type": "code",
      "metadata": {
        "id": "M0FbgJxzHmwo",
        "colab_type": "code",
        "colab": {}
      },
      "source": [
        "# define X and y\n",
        "X = yelp_best_worst.text # yelp_best_worst['text']\n",
        "y = yelp_best_worst.stars"
      ],
      "execution_count": 0,
      "outputs": []
    },
    {
      "cell_type": "code",
      "metadata": {
        "id": "SECnzYSmHmwq",
        "colab_type": "code",
        "colab": {}
      },
      "source": [
        "# split X and y into training and testing sets\n",
        "from sklearn.model_selection import train_test_split\n",
        "X_train, X_test, y_train, y_test = train_test_split(X, y, random_state=1)"
      ],
      "execution_count": 0,
      "outputs": []
    },
    {
      "cell_type": "code",
      "metadata": {
        "id": "vbKvRKxhHmwv",
        "colab_type": "code",
        "outputId": "6d83657b-9655-4e04-e1fd-799e5b5404fd",
        "colab": {
          "base_uri": "https://localhost:8080/",
          "height": 51
        }
      },
      "source": [
        "# examine the object shapes\n",
        "print(X_train.shape)\n",
        "print(X_test.shape)"
      ],
      "execution_count": 21,
      "outputs": [
        {
          "output_type": "stream",
          "text": [
            "(3064,)\n",
            "(1022,)\n"
          ],
          "name": "stdout"
        }
      ]
    },
    {
      "cell_type": "code",
      "metadata": {
        "id": "749NIqfmO6GB",
        "colab_type": "code",
        "outputId": "e46f3a3e-ad1a-43b2-a4db-eb48b87bc772",
        "colab": {
          "base_uri": "https://localhost:8080/",
          "height": 54
        }
      },
      "source": [
        "X_train[0]"
      ],
      "execution_count": 22,
      "outputs": [
        {
          "output_type": "execute_result",
          "data": {
            "text/plain": [
              "'My wife took me here on my birthday for breakfast and it was excellent.  The weather was perfect which made sitting outside overlooking their grounds an absolute pleasure.  Our waitress was excellent and our food arrived quickly on the semi-busy Saturday morning.  It looked like the place fills up pretty quickly so the earlier you get here the better.\\n\\nDo yourself a favor and get their Bloody Mary.  It was phenomenal and simply the best I\\'ve ever had.  I\\'m pretty sure they only use ingredients from their garden and blend them fresh when you order it.  It was amazing.\\n\\nWhile EVERYTHING on the menu looks excellent, I had the white truffle scrambled eggs vegetable skillet and it was tasty and delicious.  It came with 2 pieces of their griddled bread with was amazing and it absolutely made the meal complete.  It was the best \"toast\" I\\'ve ever had.\\n\\nAnyway, I can\\'t wait to go back!'"
            ]
          },
          "metadata": {
            "tags": []
          },
          "execution_count": 22
        }
      ]
    },
    {
      "cell_type": "markdown",
      "metadata": {
        "id": "bb_6tQdRHmwx",
        "colab_type": "text"
      },
      "source": [
        "## Part 2: Tokenizing the text"
      ]
    },
    {
      "cell_type": "markdown",
      "metadata": {
        "id": "VnM6qzrMHmwy",
        "colab_type": "text"
      },
      "source": [
        "- **What:** Separate text into units such as words, n-grams, or sentences\n",
        "- **Why:** Gives structure to previously unstructured text\n",
        "- **Notes:** Relatively easy with English language text, not easy with some languages"
      ]
    },
    {
      "cell_type": "code",
      "metadata": {
        "id": "s7LVxf8cHmwy",
        "colab_type": "code",
        "colab": {}
      },
      "source": [
        "# use CountVectorizer to create document-term matrices from X_train and X_test\n",
        "from sklearn.feature_extraction.text import CountVectorizer\n",
        "vect = CountVectorizer()"
      ],
      "execution_count": 0,
      "outputs": []
    },
    {
      "cell_type": "code",
      "metadata": {
        "id": "mfBSFxT4Hmw0",
        "colab_type": "code",
        "colab": {}
      },
      "source": [
        "# fit and transform X_train\n",
        "X_train_dtm = vect.fit_transform(X_train)"
      ],
      "execution_count": 0,
      "outputs": []
    },
    {
      "cell_type": "code",
      "metadata": {
        "id": "zausKpBUHmw3",
        "colab_type": "code",
        "colab": {}
      },
      "source": [
        "# only transform X_test\n",
        "X_test_dtm = vect.transform(X_test)"
      ],
      "execution_count": 0,
      "outputs": []
    },
    {
      "cell_type": "code",
      "metadata": {
        "id": "23j1Ule-Hmw9",
        "colab_type": "code",
        "outputId": "606254e5-d1c3-4e03-fb3e-b7995a81c363",
        "colab": {
          "base_uri": "https://localhost:8080/",
          "height": 51
        }
      },
      "source": [
        "# examine the shapes: rows are documents, columns are terms (aka \"tokens\" or \"features\")\n",
        "print(X_train_dtm.shape)\n",
        "print(X_test_dtm.shape)"
      ],
      "execution_count": 26,
      "outputs": [
        {
          "output_type": "stream",
          "text": [
            "(3064, 16825)\n",
            "(1022, 16825)\n"
          ],
          "name": "stdout"
        }
      ]
    },
    {
      "cell_type": "code",
      "metadata": {
        "id": "rkNAUOJXHmxB",
        "colab_type": "code",
        "outputId": "51570e08-40c9-41b3-e0b6-88d8affbad29",
        "colab": {
          "base_uri": "https://localhost:8080/",
          "height": 54
        }
      },
      "source": [
        "# examine the last 50 features\n",
        "print(vect.get_feature_names()[-50:])"
      ],
      "execution_count": 27,
      "outputs": [
        {
          "output_type": "stream",
          "text": [
            "['yyyyy', 'z11', 'za', 'zabba', 'zach', 'zam', 'zanella', 'zankou', 'zappos', 'zatsiki', 'zen', 'zero', 'zest', 'zexperience', 'zha', 'zhou', 'zia', 'zihuatenejo', 'zilch', 'zin', 'zinburger', 'zinburgergeist', 'zinc', 'zinfandel', 'zing', 'zip', 'zipcar', 'zipper', 'zippers', 'zipps', 'ziti', 'zoe', 'zombi', 'zombies', 'zone', 'zones', 'zoning', 'zoo', 'zoyo', 'zucca', 'zucchini', 'zuchinni', 'zumba', 'zupa', 'zuzu', 'zwiebel', 'zzed', 'éclairs', 'école', 'ém']\n"
          ],
          "name": "stdout"
        }
      ]
    },
    {
      "cell_type": "code",
      "metadata": {
        "scrolled": true,
        "id": "Dh4F92n0HmxD",
        "colab_type": "code",
        "outputId": "2ac65290-baa0-42ef-efb7-8f34bc520808",
        "colab": {
          "base_uri": "https://localhost:8080/",
          "height": 120
        }
      },
      "source": [
        "# show default parameters for CountVectorizer\n",
        "vect"
      ],
      "execution_count": 28,
      "outputs": [
        {
          "output_type": "execute_result",
          "data": {
            "text/plain": [
              "CountVectorizer(analyzer='word', binary=False, decode_error='strict',\n",
              "                dtype=<class 'numpy.int64'>, encoding='utf-8', input='content',\n",
              "                lowercase=True, max_df=1.0, max_features=None, min_df=1,\n",
              "                ngram_range=(1, 1), preprocessor=None, stop_words=None,\n",
              "                strip_accents=None, token_pattern='(?u)\\\\b\\\\w\\\\w+\\\\b',\n",
              "                tokenizer=None, vocabulary=None)"
            ]
          },
          "metadata": {
            "tags": []
          },
          "execution_count": 28
        }
      ]
    },
    {
      "cell_type": "markdown",
      "metadata": {
        "id": "q_GSLmKNHmxF",
        "colab_type": "text"
      },
      "source": [
        "[CountVectorizer documentation](http://scikit-learn.org/stable/modules/generated/sklearn.feature_extraction.text.CountVectorizer.html)"
      ]
    },
    {
      "cell_type": "markdown",
      "metadata": {
        "id": "Hfib-s94HmxF",
        "colab_type": "text"
      },
      "source": [
        "- **lowercase:** boolean, True by default\n",
        "    - Convert all characters to lowercase before tokenizing."
      ]
    },
    {
      "cell_type": "code",
      "metadata": {
        "id": "ojUEZ5G4HmxG",
        "colab_type": "code",
        "outputId": "1f590595-e4e8-4a21-deff-43dddb414b77",
        "colab": {
          "base_uri": "https://localhost:8080/",
          "height": 34
        }
      },
      "source": [
        "# don't convert to lowercase\n",
        "vect = CountVectorizer(lowercase=False)\n",
        "X_train_dtm = vect.fit_transform(X_train)\n",
        "X_train_dtm.shape"
      ],
      "execution_count": 29,
      "outputs": [
        {
          "output_type": "execute_result",
          "data": {
            "text/plain": [
              "(3064, 20838)"
            ]
          },
          "metadata": {
            "tags": []
          },
          "execution_count": 29
        }
      ]
    },
    {
      "cell_type": "markdown",
      "metadata": {
        "id": "Q74lpfLpHmxI",
        "colab_type": "text"
      },
      "source": [
        "- **ngram_range:** tuple (min_n, max_n), default=(1, 1)\n",
        "    - The lower and upper boundary of the range of n-values for different n-grams to be extracted.\n",
        "    - All values of n such that min_n <= n <= max_n will be used."
      ]
    },
    {
      "cell_type": "code",
      "metadata": {
        "id": "nxO_IBoOHmxI",
        "colab_type": "code",
        "outputId": "1744aea7-66cf-4df7-9a77-4d06d378be78",
        "colab": {
          "base_uri": "https://localhost:8080/",
          "height": 34
        }
      },
      "source": [
        "# include 1-grams and 2-grams\n",
        "vect = CountVectorizer(ngram_range=(1, 2))\n",
        "X_train_dtm = vect.fit_transform(X_train)\n",
        "X_train_dtm.shape"
      ],
      "execution_count": 30,
      "outputs": [
        {
          "output_type": "execute_result",
          "data": {
            "text/plain": [
              "(3064, 169847)"
            ]
          },
          "metadata": {
            "tags": []
          },
          "execution_count": 30
        }
      ]
    },
    {
      "cell_type": "code",
      "metadata": {
        "id": "CMA2qVBxHmxK",
        "colab_type": "code",
        "outputId": "33584445-2567-4aa9-c958-d4b1da67eeb1",
        "colab": {
          "base_uri": "https://localhost:8080/",
          "height": 54
        }
      },
      "source": [
        "# examine the last 50 features\n",
        "print(vect.get_feature_names()[-50:])"
      ],
      "execution_count": 31,
      "outputs": [
        {
          "output_type": "stream",
          "text": [
            "['zone out', 'zone when', 'zones', 'zones dolls', 'zoning', 'zoning issues', 'zoo', 'zoo and', 'zoo is', 'zoo not', 'zoo the', 'zoo ve', 'zoyo', 'zoyo for', 'zucca', 'zucca appetizer', 'zucchini', 'zucchini and', 'zucchini bread', 'zucchini broccoli', 'zucchini carrots', 'zucchini fries', 'zucchini pieces', 'zucchini strips', 'zucchini veal', 'zucchini very', 'zucchini with', 'zuchinni', 'zuchinni again', 'zuchinni the', 'zumba', 'zumba class', 'zumba or', 'zumba yogalates', 'zupa', 'zupa flavors', 'zuzu', 'zuzu in', 'zuzu is', 'zuzu the', 'zwiebel', 'zwiebel kräuter', 'zzed', 'zzed in', 'éclairs', 'éclairs napoleons', 'école', 'école lenôtre', 'ém', 'ém all']\n"
          ],
          "name": "stdout"
        }
      ]
    },
    {
      "cell_type": "markdown",
      "metadata": {
        "id": "YQa2qGOCHmxM",
        "colab_type": "text"
      },
      "source": [
        "## Part 3: Comparing the accuracy of different approaches"
      ]
    },
    {
      "cell_type": "markdown",
      "metadata": {
        "id": "5POwz5LKHmxN",
        "colab_type": "text"
      },
      "source": [
        "**Approach 1:** Always predict the most frequent class"
      ]
    },
    {
      "cell_type": "code",
      "metadata": {
        "id": "G9IjRVKMPX05",
        "colab_type": "code",
        "outputId": "7fdef3a1-60fb-49cd-824b-b2a7c508f9af",
        "colab": {
          "base_uri": "https://localhost:8080/",
          "height": 69
        }
      },
      "source": [
        "y_test.value_counts().head()"
      ],
      "execution_count": 32,
      "outputs": [
        {
          "output_type": "execute_result",
          "data": {
            "text/plain": [
              "5    838\n",
              "1    184\n",
              "Name: stars, dtype: int64"
            ]
          },
          "metadata": {
            "tags": []
          },
          "execution_count": 32
        }
      ]
    },
    {
      "cell_type": "code",
      "metadata": {
        "id": "SX5cXg0CPjM1",
        "colab_type": "code",
        "outputId": "d38961b5-9cfb-4bfc-dea7-69faf1fd74bd",
        "colab": {
          "base_uri": "https://localhost:8080/",
          "height": 34
        }
      },
      "source": [
        "y_test.shape"
      ],
      "execution_count": 33,
      "outputs": [
        {
          "output_type": "execute_result",
          "data": {
            "text/plain": [
              "(1022,)"
            ]
          },
          "metadata": {
            "tags": []
          },
          "execution_count": 33
        }
      ]
    },
    {
      "cell_type": "code",
      "metadata": {
        "id": "gShesEuvHmxN",
        "colab_type": "code",
        "outputId": "ef4dd56c-ffd0-4ba8-c79f-9b0f829de59e",
        "colab": {
          "base_uri": "https://localhost:8080/",
          "height": 51
        }
      },
      "source": [
        "# calculate null accuracy\n",
        "y_test.value_counts().head(1) / y_test.shape"
      ],
      "execution_count": 34,
      "outputs": [
        {
          "output_type": "execute_result",
          "data": {
            "text/plain": [
              "5    0.819961\n",
              "Name: stars, dtype: float64"
            ]
          },
          "metadata": {
            "tags": []
          },
          "execution_count": 34
        }
      ]
    },
    {
      "cell_type": "code",
      "metadata": {
        "id": "OXxdCLHPHmxQ",
        "colab_type": "code",
        "outputId": "9af73e0f-bd19-471d-cdaa-b8ecc9a0fb45",
        "colab": {
          "base_uri": "https://localhost:8080/",
          "height": 34
        }
      },
      "source": [
        "from sklearn.dummy import DummyClassifier\n",
        "from sklearn import metrics\n",
        "\n",
        "dummy = DummyClassifier(strategy='most_frequent', random_state=0)\n",
        "\n",
        "dummy.fit(X_train_dtm, y_train)\n",
        "\n",
        "y_pred_class = dummy.predict(X_test_dtm)\n",
        "\n",
        "metrics.accuracy_score(y_test, y_pred_class)"
      ],
      "execution_count": 35,
      "outputs": [
        {
          "output_type": "execute_result",
          "data": {
            "text/plain": [
              "0.8199608610567515"
            ]
          },
          "metadata": {
            "tags": []
          },
          "execution_count": 35
        }
      ]
    },
    {
      "cell_type": "markdown",
      "metadata": {
        "id": "zaszEP2VHmxR",
        "colab_type": "text"
      },
      "source": [
        "**Approach 2:** Use the default parameters for CountVectorizer"
      ]
    },
    {
      "cell_type": "code",
      "metadata": {
        "id": "1vPq2AsOHmxR",
        "colab_type": "code",
        "colab": {}
      },
      "source": [
        "from sklearn.naive_bayes import MultinomialNB\n",
        "from sklearn import metrics\n",
        "\n",
        "# define a function that accepts a vectorizer and calculates the accuracy\n",
        "def tokenize_test(X_train, y_train, X_test, y_test, vect):\n",
        "    # create document-term matrices using the vectorizer\n",
        "    X_train_dtm = vect.fit_transform(X_train)\n",
        "    X_test_dtm = vect.transform(X_test)\n",
        "    \n",
        "    # print the number of features that were generated\n",
        "    print('Features: ', X_train_dtm.shape[1])\n",
        "    \n",
        "    # use Multinomial Naive Bayes to predict the star rating\n",
        "    nb = MultinomialNB()\n",
        "    nb.fit(X_train_dtm, y_train)\n",
        "    y_pred_class = nb.predict(X_test_dtm)\n",
        "    \n",
        "    # Get the training accuracy\n",
        "    print('Training Accuracy: ', metrics.accuracy_score(y_train, nb.predict(X_train_dtm)))\n",
        "    # print the accuracy of its predictions\n",
        "    print('Test Accuracy: ', metrics.accuracy_score(y_test, y_pred_class))"
      ],
      "execution_count": 0,
      "outputs": []
    },
    {
      "cell_type": "code",
      "metadata": {
        "id": "RX4ThyyJHmxT",
        "colab_type": "code",
        "outputId": "9a1d1004-cab2-4744-ccd1-4f2db5b4cae5",
        "colab": {
          "base_uri": "https://localhost:8080/",
          "height": 69
        }
      },
      "source": [
        "# use the default parameters\n",
        "vect = CountVectorizer()\n",
        "tokenize_test(X_train, y_train, X_test, y_test, vect)"
      ],
      "execution_count": 37,
      "outputs": [
        {
          "output_type": "stream",
          "text": [
            "Features:  16825\n",
            "Training Accuracy:  0.972911227154047\n",
            "Test Accuracy:  0.9187866927592955\n"
          ],
          "name": "stdout"
        }
      ]
    },
    {
      "cell_type": "markdown",
      "metadata": {
        "id": "qEVFQxuSHmxV",
        "colab_type": "text"
      },
      "source": [
        "**Approach 3:** Don't convert to lowercase"
      ]
    },
    {
      "cell_type": "code",
      "metadata": {
        "id": "oNu5vNJOHmxW",
        "colab_type": "code",
        "outputId": "7b46e220-f538-4c23-f5ef-2b5b7acd292a",
        "colab": {
          "base_uri": "https://localhost:8080/",
          "height": 69
        }
      },
      "source": [
        "# don't convert to lowercase\n",
        "vect = CountVectorizer(lowercase=False)\n",
        "tokenize_test(X_train, y_train, X_test, y_test, vect)"
      ],
      "execution_count": 38,
      "outputs": [
        {
          "output_type": "stream",
          "text": [
            "Features:  20838\n",
            "Training Accuracy:  0.9768276762402088\n",
            "Test Accuracy:  0.9099804305283757\n"
          ],
          "name": "stdout"
        }
      ]
    },
    {
      "cell_type": "markdown",
      "metadata": {
        "id": "hzWqRWA7Hmxa",
        "colab_type": "text"
      },
      "source": [
        "**Approach 4:** Include 1-grams and 2-grams"
      ]
    },
    {
      "cell_type": "code",
      "metadata": {
        "id": "8NgY3XPfHmxa",
        "colab_type": "code",
        "outputId": "17e51a7e-3aeb-46f9-e217-29b22aa8b767",
        "colab": {
          "base_uri": "https://localhost:8080/",
          "height": 69
        }
      },
      "source": [
        "# include 1-grams and 2-grams\n",
        "vect = CountVectorizer(ngram_range=(1, 2))\n",
        "tokenize_test(X_train, y_train, X_test, y_test, vect)"
      ],
      "execution_count": 39,
      "outputs": [
        {
          "output_type": "stream",
          "text": [
            "Features:  169847\n",
            "Training Accuracy:  0.993798955613577\n",
            "Test Accuracy:  0.8542074363992173\n"
          ],
          "name": "stdout"
        }
      ]
    },
    {
      "cell_type": "markdown",
      "metadata": {
        "id": "9dJZux7kHmxh",
        "colab_type": "text"
      },
      "source": [
        "**Summary:** Tuning CountVectorizer is a form of **feature engineering**, the process through which you create features that don't natively exist in the dataset. Your goal is to create features that contain the **signal** from the data (with respect to the response value), rather than the **noise**."
      ]
    },
    {
      "cell_type": "markdown",
      "metadata": {
        "id": "uCpKzA6FHmxi",
        "colab_type": "text"
      },
      "source": [
        "## Part 4: Removing frequent terms (stop words)"
      ]
    },
    {
      "cell_type": "markdown",
      "metadata": {
        "id": "asSiVImhHmxi",
        "colab_type": "text"
      },
      "source": [
        "- **What:** Remove common words that appear in most documents\n",
        "- **Why:** They probably don't tell you much about your text"
      ]
    },
    {
      "cell_type": "code",
      "metadata": {
        "id": "279wHB7LHmxj",
        "colab_type": "code",
        "outputId": "f6abf434-8c14-4b98-f8ae-3a9fcb2f383c",
        "colab": {
          "base_uri": "https://localhost:8080/",
          "height": 120
        }
      },
      "source": [
        "# show vectorizer parameters\n",
        "vect"
      ],
      "execution_count": 40,
      "outputs": [
        {
          "output_type": "execute_result",
          "data": {
            "text/plain": [
              "CountVectorizer(analyzer='word', binary=False, decode_error='strict',\n",
              "                dtype=<class 'numpy.int64'>, encoding='utf-8', input='content',\n",
              "                lowercase=True, max_df=1.0, max_features=None, min_df=1,\n",
              "                ngram_range=(1, 2), preprocessor=None, stop_words=None,\n",
              "                strip_accents=None, token_pattern='(?u)\\\\b\\\\w\\\\w+\\\\b',\n",
              "                tokenizer=None, vocabulary=None)"
            ]
          },
          "metadata": {
            "tags": []
          },
          "execution_count": 40
        }
      ]
    },
    {
      "cell_type": "markdown",
      "metadata": {
        "id": "yFdzbprKHmxk",
        "colab_type": "text"
      },
      "source": [
        "- **stop_words:** string {'english'}, list, or None (default)\n",
        "    - If 'english', a built-in stop word list for English is used.\n",
        "    - If a list, that list is assumed to contain stop words, all of which will be removed from the resulting tokens.\n",
        "    - If None, no stop words will be used."
      ]
    },
    {
      "cell_type": "code",
      "metadata": {
        "id": "C6TYyLOiHmxl",
        "colab_type": "code",
        "outputId": "45cdc053-0703-4863-d09b-40188dce0ab7",
        "colab": {
          "base_uri": "https://localhost:8080/",
          "height": 69
        }
      },
      "source": [
        "# remove English stop words\n",
        "vect = CountVectorizer(stop_words='english')\n",
        "tokenize_test(X_train, y_train, X_test, y_test, vect)"
      ],
      "execution_count": 41,
      "outputs": [
        {
          "output_type": "stream",
          "text": [
            "Features:  16528\n",
            "Training Accuracy:  0.9758485639686684\n",
            "Test Accuracy:  0.9158512720156555\n"
          ],
          "name": "stdout"
        }
      ]
    },
    {
      "cell_type": "markdown",
      "metadata": {
        "id": "vKDlpr_5MEaX",
        "colab_type": "text"
      },
      "source": [
        "Features:  16825\n",
        "Training Accuracy:  0.972911227154047\n",
        "Test Accuracy:  0.9187866927592955"
      ]
    },
    {
      "cell_type": "code",
      "metadata": {
        "id": "78wDdaH4Hmxn",
        "colab_type": "code",
        "outputId": "8245ca70-b2c7-4257-8aa9-40342038fb93",
        "colab": {
          "base_uri": "https://localhost:8080/",
          "height": 54
        }
      },
      "source": [
        "# examine the stop words\n",
        "print(sorted(vect.get_stop_words()))"
      ],
      "execution_count": 42,
      "outputs": [
        {
          "output_type": "stream",
          "text": [
            "['a', 'about', 'above', 'across', 'after', 'afterwards', 'again', 'against', 'all', 'almost', 'alone', 'along', 'already', 'also', 'although', 'always', 'am', 'among', 'amongst', 'amoungst', 'amount', 'an', 'and', 'another', 'any', 'anyhow', 'anyone', 'anything', 'anyway', 'anywhere', 'are', 'around', 'as', 'at', 'back', 'be', 'became', 'because', 'become', 'becomes', 'becoming', 'been', 'before', 'beforehand', 'behind', 'being', 'below', 'beside', 'besides', 'between', 'beyond', 'bill', 'both', 'bottom', 'but', 'by', 'call', 'can', 'cannot', 'cant', 'co', 'con', 'could', 'couldnt', 'cry', 'de', 'describe', 'detail', 'do', 'done', 'down', 'due', 'during', 'each', 'eg', 'eight', 'either', 'eleven', 'else', 'elsewhere', 'empty', 'enough', 'etc', 'even', 'ever', 'every', 'everyone', 'everything', 'everywhere', 'except', 'few', 'fifteen', 'fifty', 'fill', 'find', 'fire', 'first', 'five', 'for', 'former', 'formerly', 'forty', 'found', 'four', 'from', 'front', 'full', 'further', 'get', 'give', 'go', 'had', 'has', 'hasnt', 'have', 'he', 'hence', 'her', 'here', 'hereafter', 'hereby', 'herein', 'hereupon', 'hers', 'herself', 'him', 'himself', 'his', 'how', 'however', 'hundred', 'i', 'ie', 'if', 'in', 'inc', 'indeed', 'interest', 'into', 'is', 'it', 'its', 'itself', 'keep', 'last', 'latter', 'latterly', 'least', 'less', 'ltd', 'made', 'many', 'may', 'me', 'meanwhile', 'might', 'mill', 'mine', 'more', 'moreover', 'most', 'mostly', 'move', 'much', 'must', 'my', 'myself', 'name', 'namely', 'neither', 'never', 'nevertheless', 'next', 'nine', 'no', 'nobody', 'none', 'noone', 'nor', 'not', 'nothing', 'now', 'nowhere', 'of', 'off', 'often', 'on', 'once', 'one', 'only', 'onto', 'or', 'other', 'others', 'otherwise', 'our', 'ours', 'ourselves', 'out', 'over', 'own', 'part', 'per', 'perhaps', 'please', 'put', 'rather', 're', 'same', 'see', 'seem', 'seemed', 'seeming', 'seems', 'serious', 'several', 'she', 'should', 'show', 'side', 'since', 'sincere', 'six', 'sixty', 'so', 'some', 'somehow', 'someone', 'something', 'sometime', 'sometimes', 'somewhere', 'still', 'such', 'system', 'take', 'ten', 'than', 'that', 'the', 'their', 'them', 'themselves', 'then', 'thence', 'there', 'thereafter', 'thereby', 'therefore', 'therein', 'thereupon', 'these', 'they', 'thick', 'thin', 'third', 'this', 'those', 'though', 'three', 'through', 'throughout', 'thru', 'thus', 'to', 'together', 'too', 'top', 'toward', 'towards', 'twelve', 'twenty', 'two', 'un', 'under', 'until', 'up', 'upon', 'us', 'very', 'via', 'was', 'we', 'well', 'were', 'what', 'whatever', 'when', 'whence', 'whenever', 'where', 'whereafter', 'whereas', 'whereby', 'wherein', 'whereupon', 'wherever', 'whether', 'which', 'while', 'whither', 'who', 'whoever', 'whole', 'whom', 'whose', 'why', 'will', 'with', 'within', 'without', 'would', 'yet', 'you', 'your', 'yours', 'yourself', 'yourselves']\n"
          ],
          "name": "stdout"
        }
      ]
    },
    {
      "cell_type": "markdown",
      "metadata": {
        "id": "vKadJwKfHmxp",
        "colab_type": "text"
      },
      "source": [
        "- **max_df:** float in range [0.0, 1.0] or int, default=1.0\n",
        "    - When building the vocabulary, ignore terms that have a document frequency strictly higher than the given threshold (corpus-specific stop words).\n",
        "    - If float, the parameter represents a proportion of documents.\n",
        "    - If integer, the parameter represents an absolute count."
      ]
    },
    {
      "cell_type": "code",
      "metadata": {
        "id": "TLGTbFJFHmxq",
        "colab_type": "code",
        "outputId": "1696144a-5249-4c5a-c5c7-f9f0572eba13",
        "colab": {
          "base_uri": "https://localhost:8080/",
          "height": 69
        }
      },
      "source": [
        "# ignore terms that appear in more than 50% of the documents\n",
        "vect = CountVectorizer(max_df=0.5)\n",
        "tokenize_test(X_train, y_train, X_test, y_test, vect)"
      ],
      "execution_count": 43,
      "outputs": [
        {
          "output_type": "stream",
          "text": [
            "Features:  16815\n",
            "Training Accuracy:  0.9751958224543081\n",
            "Test Accuracy:  0.9207436399217221\n"
          ],
          "name": "stdout"
        }
      ]
    },
    {
      "cell_type": "markdown",
      "metadata": {
        "id": "hrkTyizVHmxt",
        "colab_type": "text"
      },
      "source": [
        "- **stop\\_words\\_:** Terms that were ignored because they either:\n",
        "    - occurred in too many documents (max_df)\n",
        "    - occurred in too few documents (min_df)\n",
        "    - were cut off by feature selection (max_features)"
      ]
    },
    {
      "cell_type": "code",
      "metadata": {
        "id": "UYqpr4l3Hmxu",
        "colab_type": "code",
        "outputId": "ed51c5b4-8865-4e43-8f6b-77fa84da8e9a",
        "colab": {
          "base_uri": "https://localhost:8080/",
          "height": 34
        }
      },
      "source": [
        "# examine the terms that were removed due to max_df (\"corpus-specific stop words\")\n",
        "print(vect.stop_words_)"
      ],
      "execution_count": 44,
      "outputs": [
        {
          "output_type": "stream",
          "text": [
            "{'of', 'to', 'it', 'in', 'and', 'for', 'is', 'this', 'my', 'the'}\n"
          ],
          "name": "stdout"
        }
      ]
    },
    {
      "cell_type": "code",
      "metadata": {
        "id": "lLso7fZIHmxw",
        "colab_type": "code",
        "outputId": "943a2fda-04d5-4c29-c2ac-10dbe5ba008a",
        "colab": {
          "base_uri": "https://localhost:8080/",
          "height": 34
        }
      },
      "source": [
        "# vect.stop_words_ is completely distinct from vect.get_stop_words()\n",
        "print(vect.get_stop_words())"
      ],
      "execution_count": 45,
      "outputs": [
        {
          "output_type": "stream",
          "text": [
            "None\n"
          ],
          "name": "stdout"
        }
      ]
    },
    {
      "cell_type": "markdown",
      "metadata": {
        "id": "cRBy5ecoHmxz",
        "colab_type": "text"
      },
      "source": [
        "## Part 5: Removing infrequent terms"
      ]
    },
    {
      "cell_type": "markdown",
      "metadata": {
        "id": "cAMvRwXoHmxz",
        "colab_type": "text"
      },
      "source": [
        "- **max_features:** int or None, default=None\n",
        "    - If not None, build a vocabulary that only considers the top max_features ordered by term frequency across the corpus."
      ]
    },
    {
      "cell_type": "code",
      "metadata": {
        "id": "QTHCL0X2Hmxz",
        "colab_type": "code",
        "outputId": "eec92240-3923-484b-d67e-2ce66abb9cef",
        "colab": {
          "base_uri": "https://localhost:8080/",
          "height": 69
        }
      },
      "source": [
        "# only keep the top 1000 most frequent terms\n",
        "vect = CountVectorizer(max_features=1000)\n",
        "tokenize_test(X_train, y_train, X_test, y_test, vect)"
      ],
      "execution_count": 46,
      "outputs": [
        {
          "output_type": "stream",
          "text": [
            "Features:  1000\n",
            "Training Accuracy:  0.9275456919060052\n",
            "Test Accuracy:  0.8923679060665362\n"
          ],
          "name": "stdout"
        }
      ]
    },
    {
      "cell_type": "markdown",
      "metadata": {
        "id": "hjg6TzVwHmx1",
        "colab_type": "text"
      },
      "source": [
        "- **min_df:** float in range [0.0, 1.0] or int, default=1\n",
        "    - When building the vocabulary, ignore terms that have a document frequency strictly lower than the given threshold. (This value is also called \"cut-off\" in the literature.)\n",
        "    - If float, the parameter represents a proportion of documents.\n",
        "    - If integer, the parameter represents an absolute count."
      ]
    },
    {
      "cell_type": "code",
      "metadata": {
        "id": "Z8L6ArKYHmx2",
        "colab_type": "code",
        "outputId": "8698b863-bb32-48a3-90b3-451b3fe9c8e0",
        "colab": {
          "base_uri": "https://localhost:8080/",
          "height": 69
        }
      },
      "source": [
        "# only keep terms that appear in at least 2 documents\n",
        "vect = CountVectorizer(min_df=2)\n",
        "tokenize_test(X_train, y_train, X_test, y_test, vect)"
      ],
      "execution_count": 47,
      "outputs": [
        {
          "output_type": "stream",
          "text": [
            "Features:  8783\n",
            "Training Accuracy:  0.966710182767624\n",
            "Test Accuracy:  0.9246575342465754\n"
          ],
          "name": "stdout"
        }
      ]
    },
    {
      "cell_type": "code",
      "metadata": {
        "id": "-K4Qb7tGHmx4",
        "colab_type": "code",
        "outputId": "b70fce64-1624-40c9-9e09-3a6c828ae59c",
        "colab": {
          "base_uri": "https://localhost:8080/",
          "height": 69
        }
      },
      "source": [
        "# include 1-grams and 2-grams, and only keep terms that appear in at least 2 documents\n",
        "vect = CountVectorizer(ngram_range=(1, 2), min_df=2)\n",
        "tokenize_test(X_train, y_train, X_test, y_test, vect)"
      ],
      "execution_count": 48,
      "outputs": [
        {
          "output_type": "stream",
          "text": [
            "Features:  43957\n",
            "Training Accuracy:  0.9895561357702349\n",
            "Test Accuracy:  0.9324853228962818\n"
          ],
          "name": "stdout"
        }
      ]
    },
    {
      "cell_type": "markdown",
      "metadata": {
        "id": "Wdzby-0yHmx7",
        "colab_type": "text"
      },
      "source": [
        "**Guidelines for tuning CountVectorizer:**\n",
        "\n",
        "- Use your knowledge of the **problem** and the **text**, and your understanding of the **tuning parameters**, to help you decide what parameters to tune and how to tune them.\n",
        "- **Experiment**, and let the data tell you the best approach!"
      ]
    },
    {
      "cell_type": "markdown",
      "metadata": {
        "id": "Om4WP13qHmx7",
        "colab_type": "text"
      },
      "source": [
        "## Part 6: Handling Unicode errors"
      ]
    },
    {
      "cell_type": "markdown",
      "metadata": {
        "id": "w8eJKo3xHmx8",
        "colab_type": "text"
      },
      "source": [
        "From the [scikit-learn documentation](http://scikit-learn.org/stable/modules/feature_extraction.html#decoding-text-files):\n",
        "\n",
        "> Text is made of **characters**, but files are made of **bytes**. These bytes represent characters according to some **encoding**. To work with text files in Python, their bytes must be decoded to a character set called **Unicode**. Common encodings are ASCII, Latin-1 (Western Europe), KOI8-R (Russian) and the universal encodings UTF-8 and UTF-16. Many others exist.\n",
        "\n",
        "**Why should you care?**\n",
        "\n",
        "When working with text in Python, you are likely to encounter errors related to encoding, and understanding Unicode will help you to troubleshoot these errors.\n",
        "\n",
        "**Unicode basics:**\n",
        "\n",
        "- Unicode is a system that assigns a unique number for every character in every language. These numbers are called **code points**. For example, the [code point](http://www.unicode.org/charts/index.html) for \"A\" is U+0041, and the official name is \"LATIN CAPITAL LETTER A\".\n",
        "- An **encoding** specifies how to store the code points in memory:\n",
        "    - **UTF-8** is the most popular Unicode encoding. It uses 8 to 32 bits to store each character.\n",
        "    - **UTF-16** is the second most popular Unicode encoding. It uses 16 or 32 bits to store each character.\n",
        "    - **UTF-32** is the least popular Unicode encoding. It uses 32 bits to store each character.\n",
        "\n",
        "**ASCII basics:**\n",
        "- ASCII is an encoding from the 1960's that uses 8 bits to store each character, and only supports **English characters**.\n",
        "- ASCII-encoded files are sometimes called **plain text**.\n",
        "- UTF-8 is **backward-compatible** with ASCII, because the first 8 bits of a UTF-8 encoding are identical to the ASCII encoding.\n",
        "\n",
        "The default encoding in **Python 2** is ASCII. The default encoding in **Python 3** is UTF-8."
      ]
    },
    {
      "cell_type": "code",
      "metadata": {
        "id": "CFlNOSwQHmyC",
        "colab_type": "code",
        "outputId": "2261e8c3-b792-4aa5-f91e-ea7274fd46a1",
        "colab": {
          "base_uri": "https://localhost:8080/",
          "height": 51
        }
      },
      "source": [
        "# Python 3: examine two types of strings\n",
        "print(type(b'hello'))\n",
        "print(type('hello'))"
      ],
      "execution_count": 51,
      "outputs": [
        {
          "output_type": "stream",
          "text": [
            "<class 'bytes'>\n",
            "<class 'str'>\n"
          ],
          "name": "stdout"
        }
      ]
    },
    {
      "cell_type": "code",
      "metadata": {
        "id": "drNMx8M0HmyE",
        "colab_type": "code",
        "outputId": "d5b80557-65f6-4e53-ba33-3419e7d2a1aa",
        "colab": {
          "base_uri": "https://localhost:8080/",
          "height": 34
        }
      },
      "source": [
        "# Python 3: 'decode' converts 'bytes' to 'str'\n",
        "b'hello'.decode(encoding='utf-8')"
      ],
      "execution_count": 52,
      "outputs": [
        {
          "output_type": "execute_result",
          "data": {
            "text/plain": [
              "'hello'"
            ]
          },
          "metadata": {
            "tags": []
          },
          "execution_count": 52
        }
      ]
    },
    {
      "cell_type": "code",
      "metadata": {
        "id": "s1ocza_mHmyG",
        "colab_type": "code",
        "outputId": "80cb18bd-ea53-408b-de2b-b45ee2409edb",
        "colab": {
          "base_uri": "https://localhost:8080/",
          "height": 34
        }
      },
      "source": [
        "# Python 3: 'encode' converts 'str' to 'bytes'\n",
        "'hello'.encode(encoding='utf-8')"
      ],
      "execution_count": 53,
      "outputs": [
        {
          "output_type": "execute_result",
          "data": {
            "text/plain": [
              "b'hello'"
            ]
          },
          "metadata": {
            "tags": []
          },
          "execution_count": 53
        }
      ]
    },
    {
      "cell_type": "code",
      "metadata": {
        "id": "Uiq9tU-I9d5T",
        "colab_type": "code",
        "outputId": "e1ec1af3-29ef-4220-c4c6-d6f5a6d619a3",
        "colab": {
          "base_uri": "https://localhost:8080/",
          "height": 69
        }
      },
      "source": [
        "# Python 3: 'encode' converts 'str' to 'bytes'\n",
        "a = \"αά\".encode('utf-8')\n",
        "print (a)\n",
        "print (type(a))\n",
        "print (len(a))"
      ],
      "execution_count": 54,
      "outputs": [
        {
          "output_type": "stream",
          "text": [
            "b'\\xce\\xb1\\xce\\xac'\n",
            "<class 'bytes'>\n",
            "4\n"
          ],
          "name": "stdout"
        }
      ]
    },
    {
      "cell_type": "code",
      "metadata": {
        "id": "t5iZKfGV902-",
        "colab_type": "code",
        "outputId": "f95add6a-451e-4b91-ad9d-c90615dcf8fb",
        "colab": {
          "base_uri": "https://localhost:8080/",
          "height": 34
        }
      },
      "source": [
        "a.decode('utf-8')"
      ],
      "execution_count": 55,
      "outputs": [
        {
          "output_type": "execute_result",
          "data": {
            "text/plain": [
              "'αά'"
            ]
          },
          "metadata": {
            "tags": []
          },
          "execution_count": 55
        }
      ]
    },
    {
      "cell_type": "code",
      "metadata": {
        "id": "90z7H-1a98t0",
        "colab_type": "code",
        "outputId": "b65da1eb-55b1-412d-acb1-7cca17de0bb3",
        "colab": {
          "base_uri": "https://localhost:8080/",
          "height": 34
        }
      },
      "source": [
        "b'\\xce\\xb1'.decode('utf-8')"
      ],
      "execution_count": 56,
      "outputs": [
        {
          "output_type": "execute_result",
          "data": {
            "text/plain": [
              "'α'"
            ]
          },
          "metadata": {
            "tags": []
          },
          "execution_count": 56
        }
      ]
    },
    {
      "cell_type": "markdown",
      "metadata": {
        "id": "dQ4_DNg3HmyH",
        "colab_type": "text"
      },
      "source": [
        "From the [scikit-learn documentation](http://scikit-learn.org/stable/modules/feature_extraction.html#decoding-text-files):\n",
        "\n",
        "> The text feature extractors in scikit-learn know how to **decode text files**, but only if you tell them what encoding the files are in. The CountVectorizer takes an **encoding parameter** for this purpose. For modern text files, the correct encoding is probably **UTF-8**, which is therefore the default (encoding=\"utf-8\").\n",
        "\n",
        "> If the text you are loading is not actually encoded with UTF-8, however, you will get a **UnicodeDecodeError**. The vectorizers can be told to be silent about decoding errors by setting the **decode_error parameter** to either \"ignore\" or \"replace\"."
      ]
    }
  ]
}